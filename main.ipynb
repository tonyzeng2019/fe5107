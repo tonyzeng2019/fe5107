{
 "cells": [
  {
   "cell_type": "markdown",
   "metadata": {},
   "source": [
    "# Date Preprocessing for EWMA Matlab"
   ]
  },
  {
   "cell_type": "code",
   "execution_count": 1,
   "metadata": {},
   "outputs": [],
   "source": [
    "import pandas as pd\n",
    "import numpy as np\n",
    "from arch import arch_model\n",
    "import matplotlib.pyplot as plt\n",
    "import scipy.stats\n",
    "from scipy.stats import norm\n",
    "import matplotlib.mlab as mlab"
   ]
  },
  {
   "cell_type": "code",
   "execution_count": 2,
   "metadata": {},
   "outputs": [],
   "source": [
    "# data from 2017.1.1 to 2021.3.28\n",
    "btc = pd.read_csv('data/BTC-USD.csv')\n",
    "eth = pd.read_csv('data/ETH-USD.csv')\n",
    "xrp = pd.read_csv('data/XRP-USD.csv')"
   ]
  },
  {
   "cell_type": "code",
   "execution_count": 3,
   "metadata": {},
   "outputs": [],
   "source": [
    "# only using adj close data\n",
    "btc_price = btc['Adj Close'].to_numpy()\n",
    "eth_price = eth['Adj Close'].to_numpy()\n",
    "xrp_price = xrp['Adj Close'].to_numpy()"
   ]
  },
  {
   "cell_type": "code",
   "execution_count": 4,
   "metadata": {},
   "outputs": [],
   "source": [
    "date_array = btc['Date'].to_numpy()"
   ]
  },
  {
   "cell_type": "code",
   "execution_count": 5,
   "metadata": {},
   "outputs": [],
   "source": [
    "price_dataset = pd.DataFrame({'Date': date_array, 'btc': btc_price, 'eth': eth_price, 'xrp': xrp_price})"
   ]
  },
  {
   "cell_type": "code",
   "execution_count": 6,
   "metadata": {},
   "outputs": [],
   "source": [
    "# convert price to returns and adjust length\n",
    "# e.g. 1.1 $100, 1.2 : $120, return: 1.2 with ln(120) - ln(100)\n",
    "# u(i) = ln(s(i)/s(i-1))\n",
    "return_btc = np.diff(np.log(price_dataset.btc), n=1, axis=0)\n",
    "return_eth = np.diff(np.log(price_dataset.eth), n=1, axis=0)\n",
    "return_xrp = np.diff(np.log(price_dataset.xrp), n=1, axis=0)"
   ]
  },
  {
   "cell_type": "code",
   "execution_count": 7,
   "metadata": {},
   "outputs": [],
   "source": [
    "return_dataset = pd.DataFrame({'Date': price_dataset.Date.to_numpy()[1:], 'btc': return_btc, 'eth': return_eth, 'xrp': return_xrp})"
   ]
  },
  {
   "cell_type": "code",
   "execution_count": 8,
   "metadata": {},
   "outputs": [
    {
     "data": {
      "text/plain": [
       "True"
      ]
     },
     "execution_count": 8,
     "metadata": {},
     "output_type": "execute_result"
    }
   ],
   "source": [
    "return_dataset.isnull().values.any()"
   ]
  },
  {
   "cell_type": "code",
   "execution_count": 9,
   "metadata": {},
   "outputs": [],
   "source": [
    "return_dataset = return_dataset.dropna()"
   ]
  },
  {
   "cell_type": "code",
   "execution_count": 10,
   "metadata": {},
   "outputs": [
    {
     "data": {
      "text/plain": [
       "1540"
      ]
     },
     "execution_count": 10,
     "metadata": {},
     "output_type": "execute_result"
    }
   ],
   "source": [
    "len(return_dataset) "
   ]
  },
  {
   "cell_type": "code",
   "execution_count": 13,
   "metadata": {},
   "outputs": [],
   "source": [
    "return_dataset.to_csv('returns.csv', index=False)  "
   ]
  },
  {
   "cell_type": "code",
   "execution_count": 14,
   "metadata": {},
   "outputs": [],
   "source": [
    "return_data_2018 = return_dataset.iloc[363:]"
   ]
  },
  {
   "cell_type": "code",
   "execution_count": 15,
   "metadata": {},
   "outputs": [],
   "source": [
    "return_dataset.to_csv('returns_2018.csv', index=False)  "
   ]
  },
  {
   "cell_type": "code",
   "execution_count": 17,
   "metadata": {},
   "outputs": [
    {
     "data": {
      "text/html": [
       "<div>\n",
       "<style scoped>\n",
       "    .dataframe tbody tr th:only-of-type {\n",
       "        vertical-align: middle;\n",
       "    }\n",
       "\n",
       "    .dataframe tbody tr th {\n",
       "        vertical-align: top;\n",
       "    }\n",
       "\n",
       "    .dataframe thead th {\n",
       "        text-align: right;\n",
       "    }\n",
       "</style>\n",
       "<table border=\"1\" class=\"dataframe\">\n",
       "  <thead>\n",
       "    <tr style=\"text-align: right;\">\n",
       "      <th></th>\n",
       "      <th>Date</th>\n",
       "      <th>btc</th>\n",
       "      <th>eth</th>\n",
       "      <th>xrp</th>\n",
       "    </tr>\n",
       "  </thead>\n",
       "  <tbody>\n",
       "    <tr>\n",
       "      <th>363</th>\n",
       "      <td>2018-01-01</td>\n",
       "      <td>-0.035900</td>\n",
       "      <td>0.020804</td>\n",
       "      <td>0.038567</td>\n",
       "    </tr>\n",
       "    <tr>\n",
       "      <th>364</th>\n",
       "      <td>2018-01-02</td>\n",
       "      <td>0.092589</td>\n",
       "      <td>0.135145</td>\n",
       "      <td>0.036897</td>\n",
       "    </tr>\n",
       "    <tr>\n",
       "      <th>365</th>\n",
       "      <td>2018-01-03</td>\n",
       "      <td>0.014505</td>\n",
       "      <td>0.084803</td>\n",
       "      <td>0.224511</td>\n",
       "    </tr>\n",
       "    <tr>\n",
       "      <th>366</th>\n",
       "      <td>2018-01-04</td>\n",
       "      <td>0.025858</td>\n",
       "      <td>0.018730</td>\n",
       "      <td>0.028964</td>\n",
       "    </tr>\n",
       "    <tr>\n",
       "      <th>367</th>\n",
       "      <td>2018-01-05</td>\n",
       "      <td>0.110945</td>\n",
       "      <td>0.016980</td>\n",
       "      <td>-0.047379</td>\n",
       "    </tr>\n",
       "  </tbody>\n",
       "</table>\n",
       "</div>"
      ],
      "text/plain": [
       "           Date       btc       eth       xrp\n",
       "363  2018-01-01 -0.035900  0.020804  0.038567\n",
       "364  2018-01-02  0.092589  0.135145  0.036897\n",
       "365  2018-01-03  0.014505  0.084803  0.224511\n",
       "366  2018-01-04  0.025858  0.018730  0.028964\n",
       "367  2018-01-05  0.110945  0.016980 -0.047379"
      ]
     },
     "execution_count": 17,
     "metadata": {},
     "output_type": "execute_result"
    }
   ],
   "source": [
    "return_data_2018.head()"
   ]
  },
  {
   "cell_type": "code",
   "execution_count": null,
   "metadata": {},
   "outputs": [],
   "source": []
  },
  {
   "cell_type": "markdown",
   "metadata": {},
   "source": [
    "# Plot distributions"
   ]
  },
  {
   "cell_type": "code",
   "execution_count": 18,
   "metadata": {
    "scrolled": true
   },
   "outputs": [],
   "source": [
    "crptocurrencies = ['btc','eth','xrp']\n",
    "weights = np.array([1/3,1/3,1/3]) # assume equal weightage\n",
    "bins_num = 100\n",
    "\n",
    "# var-cov matrix\n",
    "cov_matrix = return_data_2018.cov()\n",
    "# Calculate mean returns for each stock\n",
    "avg_rets = return_data_2018.mean()\n",
    "port_mean = avg_rets.dot(weights)\n",
    "# Calculate portfolio standard deviation\n",
    "port_stdev = np.sqrt(weights.T.dot(cov_matrix).dot(weights))"
   ]
  },
  {
   "cell_type": "code",
   "execution_count": 19,
   "metadata": {},
   "outputs": [
    {
     "name": "stderr",
     "output_type": "stream",
     "text": [
      "C:\\Users\\USER\\Anaconda3\\lib\\site-packages\\pandas\\plotting\\_core.py:2477: MatplotlibDeprecationWarning: \n",
      "The 'normed' kwarg was deprecated in Matplotlib 2.1 and will be removed in 3.1. Use 'density' instead.\n",
      "  ax.hist(values, bins=bins, **kwds)\n"
     ]
    },
    {
     "data": {
      "image/png": "[encoded data removed]",
      "text/plain": [
       "<Figure size 432x288 with 1 Axes>"
      ]
     },
     "metadata": {
      "needs_background": "light"
     },
     "output_type": "display_data"
    }
   ],
   "source": [
    "# Repeat for each equity in portfolio\n",
    "return_data_2018['btc'].hist(bins=bins_num, normed=True,histtype=\"stepfilled\",alpha=0.5)\n",
    "x = np.linspace(port_mean - 3*port_stdev, port_mean+3*port_stdev,100)\n",
    "plt.plot(x, scipy.stats.norm.pdf(x, port_mean, port_stdev), \"r\")\n",
    "plt.title(\"BTC returns (binned) vs. normal distribution\")\n",
    "plt.show()"
   ]
  },
  {
   "cell_type": "code",
   "execution_count": 20,
   "metadata": {},
   "outputs": [
    {
     "data": {
      "image/png": "[encoded data removed]",
      "text/plain": [
       "<Figure size 432x288 with 1 Axes>"
      ]
     },
     "metadata": {
      "needs_background": "light"
     },
     "output_type": "display_data"
    }
   ],
   "source": [
    "# Repeat for each equity in portfolio\n",
    "return_data_2018['eth'].hist(bins=bins_num, normed=True,histtype=\"stepfilled\",alpha=0.5)\n",
    "x = np.linspace(port_mean - 3*port_stdev, port_mean+3*port_stdev,100)\n",
    "plt.plot(x, scipy.stats.norm.pdf(x, port_mean, port_stdev), \"r\")\n",
    "plt.title(\"ETH returns (binned) vs. normal distribution\")\n",
    "plt.show()"
   ]
  },
  {
   "cell_type": "code",
   "execution_count": 21,
   "metadata": {
    "scrolled": true
   },
   "outputs": [
    {
     "data": {
      "image/png": "[encoded data removed]",
      "text/plain": [
       "<Figure size 432x288 with 1 Axes>"
      ]
     },
     "metadata": {
      "needs_background": "light"
     },
     "output_type": "display_data"
    }
   ],
   "source": [
    "# Repeat for each equity in portfolio\n",
    "return_data_2018['xrp'].hist(bins=bins_num, normed=True,histtype=\"stepfilled\",alpha=0.5)\n",
    "x = np.linspace(port_mean - 3*port_stdev, port_mean+3*port_stdev,100)\n",
    "plt.plot(x, scipy.stats.norm.pdf(x, port_mean, port_stdev), \"r\")\n",
    "plt.title(\"XRP returns (binned) vs. normal distribution\")\n",
    "plt.show()"
   ]
  },
  {
   "cell_type": "code",
   "execution_count": null,
   "metadata": {},
   "outputs": [],
   "source": []
  },
  {
   "cell_type": "markdown",
   "metadata": {},
   "source": [
    "# Portfolio EWMA Calculation"
   ]
  },
  {
   "cell_type": "code",
   "execution_count": 24,
   "metadata": {},
   "outputs": [],
   "source": [
    "y = return_data_2018[['btc','eth','xrp']].to_numpy()\n",
    "T = len(return_data_2018)\n",
    "EWMA = np.full([T,3], np.nan)\n",
    "VAR = np.full([T,3], np.nan)\n",
    "COV = np.full([T,3], np.nan)\n",
    "lmbda = 0.94\n",
    "S = np.cov(y, rowvar = False)\n",
    "# EWMA[0,] = S.flatten()[[0,3,1]]\n",
    "VAR[0,] = [S[0,0],S[1,1],S[2,2]]\n",
    "COV[0,] = [S[0,1],S[0,2],S[1,2]]"
   ]
  },
  {
   "cell_type": "code",
   "execution_count": 51,
   "metadata": {},
   "outputs": [
    {
     "data": {
      "text/plain": [
       "array([-0.03589998,  0.02080406,  0.03856732])"
      ]
     },
     "execution_count": 51,
     "metadata": {},
     "output_type": "execute_result"
    }
   ],
   "source": [
    "y[0]"
   ]
  },
  {
   "cell_type": "code",
   "execution_count": 49,
   "metadata": {},
   "outputs": [
    {
     "data": {
      "text/plain": [
       "matrix([[0.00142388, 0.00130615, 0.00085098],\n",
       "        [0.00130615, 0.00176551, 0.00118512],\n",
       "        [0.00085098, 0.00118512, 0.00398868]])"
      ]
     },
     "execution_count": 49,
     "metadata": {},
     "output_type": "execute_result"
    }
   ],
   "source": [
    "S"
   ]
  },
  {
   "cell_type": "code",
   "execution_count": 26,
   "metadata": {},
   "outputs": [],
   "source": [
    "crptocurrencies = ['btc','eth','xrp']\n",
    "# var-cov matrix\n",
    "cov_matrix = return_data_2018.cov()\n",
    "# Calculate mean returns for each stock\n",
    "avg_rets = return_data_2018.mean()\n",
    "# w_... : weight_...\n",
    "# v_... : var...\n",
    "# cov12 : covariance(1,2)\n",
    "def portfolio_daily_var(w1,w2,w3,v1,v2,v3,cov12,cov13,cov23):\n",
    "    return (w1**2)*v1 + (w2**2)*v2 + (w3**2)*v3 \\\n",
    "        + 2*w1*w2*cov12 + 2*w1*w3*cov13 + 2*w2*w3*cov23 "
   ]
  },
  {
   "cell_type": "code",
   "execution_count": null,
   "metadata": {},
   "outputs": [],
   "source": []
  },
  {
   "cell_type": "code",
   "execution_count": 36,
   "metadata": {
    "scrolled": true
   },
   "outputs": [
    {
     "data": {
      "text/html": [
       "<div>\n",
       "<style scoped>\n",
       "    .dataframe tbody tr th:only-of-type {\n",
       "        vertical-align: middle;\n",
       "    }\n",
       "\n",
       "    .dataframe tbody tr th {\n",
       "        vertical-align: top;\n",
       "    }\n",
       "\n",
       "    .dataframe thead th {\n",
       "        text-align: right;\n",
       "    }\n",
       "</style>\n",
       "<table border=\"1\" class=\"dataframe\">\n",
       "  <thead>\n",
       "    <tr style=\"text-align: right;\">\n",
       "      <th></th>\n",
       "      <th>btc</th>\n",
       "      <th>eth</th>\n",
       "      <th>xrp</th>\n",
       "    </tr>\n",
       "  </thead>\n",
       "  <tbody>\n",
       "    <tr>\n",
       "      <th>btc</th>\n",
       "      <td>0.001637</td>\n",
       "      <td>0.001724</td>\n",
       "      <td>0.001448</td>\n",
       "    </tr>\n",
       "    <tr>\n",
       "      <th>eth</th>\n",
       "      <td>0.001724</td>\n",
       "      <td>0.002668</td>\n",
       "      <td>0.002069</td>\n",
       "    </tr>\n",
       "    <tr>\n",
       "      <th>xrp</th>\n",
       "      <td>0.001448</td>\n",
       "      <td>0.002069</td>\n",
       "      <td>0.003564</td>\n",
       "    </tr>\n",
       "  </tbody>\n",
       "</table>\n",
       "</div>"
      ],
      "text/plain": [
       "          btc       eth       xrp\n",
       "btc  0.001637  0.001724  0.001448\n",
       "eth  0.001724  0.002668  0.002069\n",
       "xrp  0.001448  0.002069  0.003564"
      ]
     },
     "execution_count": 36,
     "metadata": {},
     "output_type": "execute_result"
    }
   ],
   "source": [
    "cov_matrix"
   ]
  },
  {
   "cell_type": "code",
   "execution_count": 56,
   "metadata": {},
   "outputs": [],
   "source": [
    "# var = cov when it is S[0,0] S[1,1] S[2,2]\n",
    "for i in range(1,T):\n",
    "    S = lmbda * S + (1-lmbda) * np.transpose(np.asmatrix(y[i-1]))* np.asmatrix(y[i-1])\n",
    "#     EWMA[i,] = [S[0,0], S[1,1], S[0,1]] # self.cov.btc.sigma, self.cov.eth.sigma, cov.btc.eth?\n",
    "    VAR[i,] = [S[0,0],S[1,1],S[2,2]] # var_btc,var_eth,var_xrp\n",
    "    COV[i,] = [S[0,1],S[0,2],S[1,2]] # cov12,cov13,cov23\n",
    "# EWMArho = np.divide(EWMA[:,2], np.sqrt(np.multiply(EWMA[:,0],EWMA[:,1])))\n",
    "# print(EWMArho)"
   ]
  },
  {
   "cell_type": "code",
   "execution_count": 57,
   "metadata": {},
   "outputs": [
    {
     "data": {
      "text/plain": [
       "array([[0.00163742, 0.00266763, 0.00356351],\n",
       "       [0.00140816, 0.00161039, 0.00369754],\n",
       "       [0.00183803, 0.00260961, 0.00355737],\n",
       "       ...,\n",
       "       [0.00159698, 0.00197924, 0.00445768],\n",
       "       [0.00151475, 0.00186431, 0.00424326],\n",
       "       [0.00142388, 0.00176551, 0.00398868]])"
      ]
     },
     "execution_count": 57,
     "metadata": {},
     "output_type": "execute_result"
    }
   ],
   "source": [
    "VAR"
   ]
  },
  {
   "cell_type": "code",
   "execution_count": 58,
   "metadata": {
    "scrolled": true
   },
   "outputs": [
    {
     "data": {
      "text/plain": [
       "array([[0.00172423, 0.00144809, 0.00206863],\n",
       "       [0.00106718, 0.00059076, 0.00114057],\n",
       "       [0.00175393, 0.0007603 , 0.00137132],\n",
       "       ...,\n",
       "       [0.00147014, 0.00099167, 0.00135697],\n",
       "       [0.00138914, 0.00090531, 0.00126131],\n",
       "       [0.00130615, 0.00085098, 0.00118512]])"
      ]
     },
     "execution_count": 58,
     "metadata": {},
     "output_type": "execute_result"
    }
   ],
   "source": [
    "COV #btc_eth, btc_xrp, eth_xrp"
   ]
  },
  {
   "cell_type": "markdown",
   "metadata": {},
   "source": [
    "# User inputs"
   ]
  },
  {
   "cell_type": "code",
   "execution_count": 60,
   "metadata": {},
   "outputs": [],
   "source": [
    "btc_value = 3000\n",
    "eth_value = 3200\n",
    "xrp_value = 4800\n",
    "total_investment = btc_value + eth_value + xrp_value\n",
    "if (total_investment == 0): total_investment = 0.0000000000001\n",
    "w_btc = btc_value/total_investment\n",
    "w_eth = eth_value/total_investment\n",
    "w_xrp = xrp_value/total_investment"
   ]
  },
  {
   "cell_type": "code",
   "execution_count": 62,
   "metadata": {},
   "outputs": [],
   "source": [
    "weights = np.array([w_btc,w_eth,w_xrp]) # assume equal weightage\n",
    "portfolioVariance = np.zeros(T)\n",
    "for i in range(0,T):\n",
    "    portfolioVariance[i] = portfolio_daily_var(w_btc,w_eth,w_xrp,\n",
    "                                 VAR[i,0],VAR[i,1],VAR[i,2],\n",
    "                                 COV[i,0],COV[i,1],COV[i,2])"
   ]
  },
  {
   "cell_type": "code",
   "execution_count": 63,
   "metadata": {},
   "outputs": [],
   "source": [
    "EWMA95 = np.zeros(T)"
   ]
  },
  {
   "cell_type": "code",
   "execution_count": 64,
   "metadata": {},
   "outputs": [],
   "source": [
    "crptocurrencies = ['btc','eth','xrp']\n",
    "# # var-cov matrix\n",
    "# cov_matrix = return_data_2018.cov()\n",
    "# Calculate mean returns for each stock\n",
    "avg_rets = return_data_2018.mean()"
   ]
  },
  {
   "cell_type": "code",
   "execution_count": 65,
   "metadata": {},
   "outputs": [
    {
     "data": {
      "text/plain": [
       "1.6448536269514729"
      ]
     },
     "execution_count": 65,
     "metadata": {},
     "output_type": "execute_result"
    }
   ],
   "source": [
    "-norm.ppf(0.05)"
   ]
  },
  {
   "cell_type": "code",
   "execution_count": 73,
   "metadata": {},
   "outputs": [
    {
     "data": {
      "text/plain": [
       "0.039301472967947955"
      ]
     },
     "execution_count": 73,
     "metadata": {},
     "output_type": "execute_result"
    }
   ],
   "source": [
    "math.sqrt(portfolioVariance[1])"
   ]
  },
  {
   "cell_type": "code",
   "execution_count": 77,
   "metadata": {},
   "outputs": [],
   "source": [
    "import math\n",
    "pVar = 0.05\n",
    "Zscore = norm.ppf(pVar)\n",
    "EWMA95[0] = portfolioVariance[0]\n",
    "\n",
    "for t in range(1,len(return_data_2018)):\n",
    "    Sigma = math.sqrt(portfolioVariance[t])\n",
    "    EWMA95[t] = -Zscore*Sigma"
   ]
  },
  {
   "cell_type": "code",
   "execution_count": 80,
   "metadata": {},
   "outputs": [
    {
     "data": {
      "text/plain": [
       "751.5856334214026"
      ]
     },
     "execution_count": 80,
     "metadata": {},
     "output_type": "execute_result"
    }
   ],
   "source": [
    "# new-day var in dollars\n",
    "new_day_var = total_investment * EWMA95[-1]"
   ]
  },
  {
   "cell_type": "code",
   "execution_count": null,
   "metadata": {},
   "outputs": [],
   "source": [
    "var_array = []\n",
    "num_days = int(15)\n",
    "for x in range(1, num_days+1):    \n",
    "    var_array.append(np.round(new_day_var * np.sqrt(x),2))\n",
    "    print(str(x) + \" day VaR @ 95% confidence: \" + str(np.round(var_1d1 * np.sqrt(x),2)))\n",
    "\n",
    "# Build plot\n",
    "plt.xlabel(\"Day #\")\n",
    "plt.ylabel(\"Max portfolio loss (USD)\")\n",
    "plt.title(\"Max portfolio loss (VaR) over 15-day period\")\n",
    "plt.plot(var_array, \"r\")\n",
    "plt.show()\n"
   ]
  },
  {
   "cell_type": "code",
   "execution_count": null,
   "metadata": {},
   "outputs": [],
   "source": []
  },
  {
   "cell_type": "markdown",
   "metadata": {},
   "source": [
    "# 1-Day Var"
   ]
  },
  {
   "cell_type": "code",
   "execution_count": null,
   "metadata": {},
   "outputs": [],
   "source": [
    "# Calculate mean of investment\n",
    "mean_investment = (1+port_mean) * total_investment\n",
    "             \n",
    "# Calculate standard deviation of investmnet\n",
    "stdev_investment = total_investment * port_stdev\n",
    "# Select our confidence interval (I'll choose 95% here)\n",
    "conf_level1 = 0.05\n",
    "cutoff1 = norm.ppf(conf_level1, mean_investment, stdev_investment)\n",
    "var_1d1 = initial_investment - cutoff1\n",
    "# Calculate n Day VaR\n",
    "\n",
    "\n"
   ]
  },
  {
   "cell_type": "code",
   "execution_count": null,
   "metadata": {},
   "outputs": [],
   "source": []
  },
  {
   "cell_type": "code",
   "execution_count": null,
   "metadata": {},
   "outputs": [],
   "source": []
  },
  {
   "cell_type": "markdown",
   "metadata": {},
   "source": [
    "# Identify distributions"
   ]
  },
  {
   "cell_type": "code",
   "execution_count": 48,
   "metadata": {},
   "outputs": [],
   "source": [
    "dist_names = ['weibull_min','norm','weibull_max','beta',\n",
    "              'invgauss','uniform','gamma','expon',   \n",
    "              'lognorm','pearson3','triang']\n",
    "def print_chi_square_stats_distributions(y_std,size):\n",
    "    chi_square_statistics = []\n",
    "    # 11 equi-distant bins of observed Data \n",
    "    percentile_bins = np.linspace(0,100,11)\n",
    "    percentile_cutoffs = np.percentile(y_std, percentile_bins)\n",
    "    observed_frequency, bins = (np.histogram(y_std, bins=percentile_cutoffs))\n",
    "    cum_observed_frequency = np.cumsum(observed_frequency)\n",
    "\n",
    "    # Loop through candidate distributions\n",
    "    for distribution in dist_names:\n",
    "        # Set up distribution and get fitted distribution parameters\n",
    "        dist = getattr(scipy.stats, distribution)\n",
    "        param = dist.fit(y_std)\n",
    "        print(\"{}\\n{}\\n\".format(dist, param))\n",
    "\n",
    "\n",
    "        # Get expected counts in percentile bins\n",
    "        # cdf of fitted sistrinution across bins\n",
    "        cdf_fitted = dist.cdf(percentile_cutoffs, *param)\n",
    "        expected_frequency = []\n",
    "        for bin in range(len(percentile_bins)-1):\n",
    "            expected_cdf_area = cdf_fitted[bin+1] - cdf_fitted[bin]\n",
    "            expected_frequency.append(expected_cdf_area)\n",
    "\n",
    "        # Chi-square Statistics\n",
    "        expected_frequency = np.array(expected_frequency) * size\n",
    "        cum_expected_frequency = np.cumsum(expected_frequency)\n",
    "        ss = sum (((cum_expected_frequency - cum_observed_frequency) ** 2) / cum_observed_frequency)\n",
    "        chi_square_statistics.append(ss)\n",
    "\n",
    "\n",
    "    #Sort by minimum ch-square statistics\n",
    "    results = pd.DataFrame()\n",
    "    results['Distribution'] = dist_names\n",
    "    results['chi_square'] = chi_square_statistics\n",
    "    results.sort_values(['chi_square'], inplace=True)\n",
    "\n",
    "\n",
    "    print ('\\nDistributions listed by Betterment of fit:')\n",
    "    print ('............................................')\n",
    "    print (results)"
   ]
  },
  {
   "cell_type": "code",
   "execution_count": 54,
   "metadata": {},
   "outputs": [],
   "source": [
    "btc_arr = price_data_2018.btc.to_numpy().reshape(-1,1)\n",
    "eth_arr = price_data_2018.eth.to_numpy().reshape(-1,1)\n",
    "xrp_arr = price_data_2018.xrp.to_numpy().reshape(-1,1)"
   ]
  },
  {
   "cell_type": "code",
   "execution_count": 55,
   "metadata": {},
   "outputs": [],
   "source": [
    "scaler = preprocessing.StandardScaler().fit(btc_arr)\n",
    "btc_arr_scaled = scaler.transform(btc_arr)"
   ]
  },
  {
   "cell_type": "code",
   "execution_count": 56,
   "metadata": {},
   "outputs": [],
   "source": [
    "scaler = preprocessing.StandardScaler().fit(eth_arr)\n",
    "eth_arr_scaled = scaler.transform(eth_arr)"
   ]
  },
  {
   "cell_type": "code",
   "execution_count": 57,
   "metadata": {},
   "outputs": [],
   "source": [
    "scaler = preprocessing.StandardScaler().fit(xrp_arr)\n",
    "xrp_arr_scaled = scaler.transform(xrp_arr)"
   ]
  },
  {
   "cell_type": "code",
   "execution_count": 62,
   "metadata": {},
   "outputs": [],
   "source": [
    "size = len(btc_arr)"
   ]
  },
  {
   "cell_type": "code",
   "execution_count": 63,
   "metadata": {
    "scrolled": true
   },
   "outputs": [
    {
     "name": "stdout",
     "output_type": "stream",
     "text": [
      "<scipy.stats._continuous_distns.weibull_min_gen object at 0x000001B0BCE94358>\n",
      "(0.9781049742072642, -0.7780388402789964, 0.7723930855159418)\n",
      "\n",
      "<scipy.stats._continuous_distns.norm_gen object at 0x000001B0BCE44BE0>\n",
      "(0.0, 0.9999999999999999)\n",
      "\n",
      "<scipy.stats._continuous_distns.weibull_max_gen object at 0x000001B0BCE945C0>\n",
      "(0.5930308587163668, 4.751592981033981, 1.448598238442428)\n",
      "\n",
      "<scipy.stats._continuous_distns.beta_gen object at 0x000001B0BCE77208>\n",
      "(1.0619305065947056, 664008424.5583026, -0.7780932479887603, 491649392.60081875)\n",
      "\n",
      "<scipy.stats._continuous_distns.invgauss_gen object at 0x000001B0BCECC198>\n",
      "(0.921791310449886, -0.872501553536958, 0.9465101013040453)\n",
      "\n",
      "<scipy.stats._continuous_distns.uniform_gen object at 0x000001B0BCF2F5C0>\n",
      "(-0.7780388402789963, 5.529631821312976)\n",
      "\n"
     ]
    },
    {
     "name": "stderr",
     "output_type": "stream",
     "text": [
      "C:\\Users\\USER\\Anaconda3\\lib\\site-packages\\scipy\\stats\\_continuous_distns.py:621: RuntimeWarning: invalid value encountered in sqrt\n",
      "  sk = 2*(b-a)*np.sqrt(a + b + 1) / (a + b + 2) / np.sqrt(a*b)\n",
      "C:\\Users\\USER\\Anaconda3\\lib\\site-packages\\scipy\\optimize\\minpack.py:175: RuntimeWarning: The iteration is not making good progress, as measured by the \n",
      "  improvement from the last ten iterations.\n",
      "  warnings.warn(msg, RuntimeWarning)\n"
     ]
    },
    {
     "name": "stdout",
     "output_type": "stream",
     "text": [
      "<scipy.stats._continuous_distns.gamma_gen object at 0x000001B0BCEA36D8>\n",
      "(0.5295040588187883, -0.7780388402789964, 1.1586159592429226)\n",
      "\n",
      "<scipy.stats._continuous_distns.expon_gen object at 0x000001B0BCE83FD0>\n",
      "(-0.7780388402789963, 0.7780388402789963)\n",
      "\n",
      "<scipy.stats._continuous_distns.lognorm_gen object at 0x000001B0BCEDD518>\n",
      "(0.8627630944472638, -0.8347469316352922, 0.555234967892748)\n",
      "\n",
      "<scipy.stats._continuous_distns.pearson3_gen object at 0x000001B0BCF06828>\n",
      "(1.9230838630986198, -0.0010997376559197774, 0.7471351959542738)\n",
      "\n",
      "<scipy.stats._continuous_distns.triang_gen object at 0x000001B0BCF18B38>\n",
      "(1.3263335616598192e-08, -0.7780390334595146, 6.732842401605389)\n",
      "\n",
      "\n",
      "Distributions listed by Betterment of fit:\n",
      "............................................\n",
      "   Distribution   chi_square\n",
      "8       lognorm   150.542261\n",
      "4      invgauss   163.214734\n",
      "9      pearson3   169.862634\n",
      "3          beta   174.405811\n",
      "7         expon   189.440142\n",
      "0   weibull_min   201.624072\n",
      "6         gamma  1297.218960\n",
      "1          norm  1978.685490\n",
      "10       triang  2464.371215\n",
      "5       uniform  3336.785581\n",
      "2   weibull_max  4965.477527\n"
     ]
    }
   ],
   "source": [
    "# print btc_return\n",
    "print_chi_square_stats_distributions(btc_arr_scaled,size)"
   ]
  },
  {
   "cell_type": "code",
   "execution_count": 64,
   "metadata": {},
   "outputs": [
    {
     "name": "stdout",
     "output_type": "stream",
     "text": [
      "<scipy.stats._continuous_distns.weibull_min_gen object at 0x000001B0BCE94358>\n",
      "(0.9399739481919274, -0.8354562901157037, 0.801498249092706)\n",
      "\n",
      "<scipy.stats._continuous_distns.norm_gen object at 0x000001B0BCE44BE0>\n",
      "(-3.612929164881865e-17, 1.0)\n",
      "\n",
      "<scipy.stats._continuous_distns.weibull_max_gen object at 0x000001B0BCE945C0>\n",
      "(421190428.80981845, 221987282.63230023, 221987283.00994805)\n",
      "\n",
      "<scipy.stats._continuous_distns.beta_gen object at 0x000001B0BCE77208>\n",
      "(0.47601706786980513, 1.5654959643349544, -0.8354562901157037, 4.889577290682638)\n",
      "\n",
      "<scipy.stats._continuous_distns.invgauss_gen object at 0x000001B0BCECC198>\n",
      "(1.5037358926384146, -0.8739483399928676, 0.5811926827725389)\n",
      "\n",
      "<scipy.stats._continuous_distns.uniform_gen object at 0x000001B0BCF2F5C0>\n",
      "(-0.8354562901157035, 4.747671310404048)\n",
      "\n",
      "<scipy.stats._continuous_distns.gamma_gen object at 0x000001B0BCEA36D8>\n",
      "(0.9804524567466459, -0.8354562901157037, 0.8514478897551476)\n",
      "\n",
      "<scipy.stats._continuous_distns.expon_gen object at 0x000001B0BCE83FD0>\n",
      "(-0.8354562901157035, 0.8354562901157035)\n",
      "\n"
     ]
    },
    {
     "name": "stderr",
     "output_type": "stream",
     "text": [
      "C:\\Users\\USER\\Anaconda3\\lib\\site-packages\\scipy\\stats\\_continuous_distns.py:621: RuntimeWarning: invalid value encountered in sqrt\n",
      "  sk = 2*(b-a)*np.sqrt(a + b + 1) / (a + b + 2) / np.sqrt(a*b)\n"
     ]
    },
    {
     "name": "stdout",
     "output_type": "stream",
     "text": [
      "<scipy.stats._continuous_distns.lognorm_gen object at 0x000001B0BCEDD518>\n",
      "(1.0521065779459193, -0.8469697715193445, 0.48798755131279103)\n",
      "\n",
      "<scipy.stats._continuous_distns.pearson3_gen object at 0x000001B0BCF06828>\n",
      "(2.0114074254416936, -6.003707162899456e-17, 0.840221492785348)\n",
      "\n",
      "<scipy.stats._continuous_distns.triang_gen object at 0x000001B0BCF18B38>\n",
      "(0.015808821962417875, -0.8546309186645406, 4.780828025456559)\n",
      "\n",
      "\n",
      "Distributions listed by Betterment of fit:\n",
      "............................................\n",
      "   Distribution   chi_square\n",
      "4      invgauss    20.858483\n",
      "8       lognorm    26.092515\n",
      "0   weibull_min   106.902636\n",
      "6         gamma   109.931982\n",
      "9      pearson3   110.805439\n",
      "7         expon   111.887397\n",
      "3          beta   400.532134\n",
      "2   weibull_max   673.853835\n",
      "10       triang  1565.784069\n",
      "1          norm  1791.816026\n",
      "5       uniform  2770.435225\n"
     ]
    }
   ],
   "source": [
    "# print eth price distribution results\n",
    "print_chi_square_stats_distributions(eth_arr_scaled,size)"
   ]
  },
  {
   "cell_type": "code",
   "execution_count": 65,
   "metadata": {},
   "outputs": [
    {
     "name": "stdout",
     "output_type": "stream",
     "text": [
      "<scipy.stats._continuous_distns.weibull_min_gen object at 0x000001B0BCE94358>\n",
      "(1.1116814054737825, -0.85098351432558, 0.891285770572388)\n",
      "\n",
      "<scipy.stats._continuous_distns.norm_gen object at 0x000001B0BCE44BE0>\n",
      "(0.0, 1.0)\n",
      "\n",
      "<scipy.stats._continuous_distns.weibull_max_gen object at 0x000001B0BCE945C0>\n",
      "(79697203.12610704, 36242753.45836888, 36242753.77812006)\n",
      "\n",
      "<scipy.stats._continuous_distns.beta_gen object at 0x000001B0BCE77208>\n",
      "(1.4185066157389983, 327765.3096070803, -0.8515749180171195, 197725.0183963137)\n",
      "\n",
      "<scipy.stats._continuous_distns.invgauss_gen object at 0x000001B0BCECC198>\n",
      "(0.7831054348770745, -0.9128603133154567, 1.1656931891896454)\n",
      "\n",
      "<scipy.stats._continuous_distns.uniform_gen object at 0x000001B0BCF2F5C0>\n",
      "(-0.8508765933277969, 10.102187435594672)\n",
      "\n"
     ]
    },
    {
     "name": "stderr",
     "output_type": "stream",
     "text": [
      "C:\\Users\\USER\\Anaconda3\\lib\\site-packages\\scipy\\stats\\_continuous_distns.py:621: RuntimeWarning: invalid value encountered in sqrt\n",
      "  sk = 2*(b-a)*np.sqrt(a + b + 1) / (a + b + 2) / np.sqrt(a*b)\n",
      "C:\\Users\\USER\\Anaconda3\\lib\\site-packages\\scipy\\optimize\\minpack.py:175: RuntimeWarning: The iteration is not making good progress, as measured by the \n",
      "  improvement from the last ten iterations.\n",
      "  warnings.warn(msg, RuntimeWarning)\n"
     ]
    },
    {
     "name": "stdout",
     "output_type": "stream",
     "text": [
      "<scipy.stats._continuous_distns.gamma_gen object at 0x000001B0BCEA36D8>\n",
      "(0.5090449228542359, -0.850876593327797, 2.6823966512933923)\n",
      "\n",
      "<scipy.stats._continuous_distns.expon_gen object at 0x000001B0BCE83FD0>\n",
      "(-0.8508765933277969, 0.8508765933277969)\n",
      "\n",
      "<scipy.stats._continuous_distns.lognorm_gen object at 0x000001B0BCEDD518>\n",
      "(0.7988121718014496, -0.8809660835544455, 0.6220646400978505)\n",
      "\n",
      "<scipy.stats._continuous_distns.pearson3_gen object at 0x000001B0BCF06828>\n",
      "(1.667794284127956, -0.0026768018293471876, 0.7079064989078749)\n",
      "\n",
      "<scipy.stats._continuous_distns.triang_gen object at 0x000001B0BCF18B38>\n",
      "(0.007454507883768183, -0.8709319010459381, 10.132183689884318)\n",
      "\n",
      "\n",
      "Distributions listed by Betterment of fit:\n",
      "............................................\n",
      "   Distribution   chi_square\n",
      "8       lognorm    13.702973\n",
      "4      invgauss    19.754927\n",
      "9      pearson3    64.863059\n",
      "3          beta    68.585848\n",
      "0   weibull_min   117.577148\n",
      "2   weibull_max   222.492448\n",
      "7         expon   227.159400\n",
      "6         gamma   733.464417\n",
      "1          norm  1506.459619\n",
      "10       triang  2950.798065\n",
      "5       uniform  3946.237552\n"
     ]
    }
   ],
   "source": [
    "# print xrp price distribution results\n",
    "print_chi_square_stats_distributions(xrp_arr_scaled,size)"
   ]
  },
  {
   "cell_type": "code",
   "execution_count": 49,
   "metadata": {},
   "outputs": [
    {
     "name": "stdout",
     "output_type": "stream",
     "text": [
      "<scipy.stats._continuous_distns.weibull_min_gen object at 0x000001B0BCE94358>\n",
      "(13.018370578393842, -0.5309098529890504, 0.5498652682531413)\n",
      "\n",
      "<scipy.stats._continuous_distns.norm_gen object at 0x000001B0BCE44BE0>\n",
      "(0.0012229515943203697, 0.04041372912514586)\n",
      "\n",
      "<scipy.stats._continuous_distns.weibull_max_gen object at 0x000001B0BCE945C0>\n",
      "(3.727437980676617, 0.17434469415669912, 0.18785415024769148)\n",
      "\n",
      "<scipy.stats._continuous_distns.beta_gen object at 0x000001B0BCE77208>\n",
      "(123046.0079604651, 113.81484264236494, -460.8256433333704, 461.25311213111667)\n",
      "\n",
      "<scipy.stats._continuous_distns.invgauss_gen object at 0x000001B0BCECC198>\n",
      "(0.002884321033656912, -0.8510874701609674, 294.50266851720164)\n",
      "\n",
      "<scipy.stats._continuous_distns.uniform_gen object at 0x000001B0BCF2F5C0>\n",
      "(-0.46473017535485006, 0.6365507372548098)\n",
      "\n"
     ]
    },
    {
     "name": "stderr",
     "output_type": "stream",
     "text": [
      "C:\\Users\\USER\\Anaconda3\\lib\\site-packages\\scipy\\stats\\_continuous_distns.py:621: RuntimeWarning: invalid value encountered in sqrt\n",
      "  sk = 2*(b-a)*np.sqrt(a + b + 1) / (a + b + 2) / np.sqrt(a*b)\n",
      "C:\\Users\\USER\\Anaconda3\\lib\\site-packages\\scipy\\optimize\\minpack.py:175: RuntimeWarning: The iteration is not making good progress, as measured by the \n",
      "  improvement from the last ten iterations.\n",
      "  warnings.warn(msg, RuntimeWarning)\n"
     ]
    },
    {
     "name": "stdout",
     "output_type": "stream",
     "text": [
      "<scipy.stats._continuous_distns.gamma_gen object at 0x000001B0BCEA36D8>\n",
      "(97.28579313921773, -0.5260517241955309, 0.005397057791070945)\n",
      "\n",
      "<scipy.stats._continuous_distns.expon_gen object at 0x000001B0BCE83FD0>\n",
      "(-0.46473017535485006, 0.4659531269491704)\n",
      "\n",
      "<scipy.stats._continuous_distns.lognorm_gen object at 0x000001B0BCEDD518>\n",
      "(0.0010871468458359323, -37.15062539161261, 37.1518180021088)\n",
      "\n",
      "<scipy.stats._continuous_distns.pearson3_gen object at 0x000001B0BCF06828>\n",
      "(-0.17279156130612927, 0.0012218098296584655, 0.039842951120708694)\n",
      "\n",
      "<scipy.stats._continuous_distns.triang_gen object at 0x000001B0BCF18B38>\n",
      "(0.7587816433770023, -0.4653111232467266, 0.6380584226947015)\n",
      "\n",
      "\n",
      "Distributions listed by Betterment of fit:\n",
      "............................................\n",
      "   Distribution   chi_square\n",
      "9      pearson3   136.690426\n",
      "3          beta   137.541994\n",
      "8       lognorm   157.246092\n",
      "1          norm   157.259324\n",
      "0   weibull_min   301.754575\n",
      "2   weibull_max   321.017906\n",
      "4      invgauss   372.540219\n",
      "6         gamma   532.965724\n",
      "7         expon  4722.367228\n",
      "10       triang  4828.369431\n",
      "5       uniform  6405.716312\n"
     ]
    }
   ],
   "source": [
    "size = len(return_data_2018)\n",
    "# print btc_return\n",
    "print_chi_square_stats_distributions(return_data_2018.btc,size)"
   ]
  },
  {
   "cell_type": "code",
   "execution_count": 50,
   "metadata": {},
   "outputs": [
    {
     "name": "stdout",
     "output_type": "stream",
     "text": [
      "<scipy.stats._continuous_distns.weibull_min_gen object at 0x000001B0BCE94358>\n",
      "(12.692771497210238, -0.6361551749422003, 0.659326922481474)\n",
      "\n",
      "<scipy.stats._continuous_distns.norm_gen object at 0x000001B0BCE44BE0>\n",
      "(0.0007265514408880328, 0.05165905058978368)\n",
      "\n",
      "<scipy.stats._continuous_distns.weibull_max_gen object at 0x000001B0BCE945C0>\n",
      "(3.9604743049484794, 0.23346382439953117, 0.25220251374959)\n",
      "\n",
      "<scipy.stats._continuous_distns.beta_gen object at 0x000001B0BCE77208>\n",
      "(4872688.415120546, 66.87534084691994, -30568.012963216435, 30568.433186303686)\n",
      "\n",
      "<scipy.stats._continuous_distns.invgauss_gen object at 0x000001B0BCECC198>\n",
      "(0.004398480872320098, -0.9166055643451392, 208.1133816415835)\n",
      "\n",
      "<scipy.stats._continuous_distns.uniform_gen object at 0x000001B0BCF2F5C0>\n",
      "(-0.5507317441312178, 0.7814269728784762)\n",
      "\n"
     ]
    },
    {
     "name": "stderr",
     "output_type": "stream",
     "text": [
      "C:\\Users\\USER\\Anaconda3\\lib\\site-packages\\scipy\\stats\\_continuous_distns.py:621: RuntimeWarning: invalid value encountered in sqrt\n",
      "  sk = 2*(b-a)*np.sqrt(a + b + 1) / (a + b + 2) / np.sqrt(a*b)\n",
      "C:\\Users\\USER\\Anaconda3\\lib\\site-packages\\scipy\\optimize\\minpack.py:175: RuntimeWarning: The iteration is not making good progress, as measured by the \n",
      "  improvement from the last ten iterations.\n",
      "  warnings.warn(msg, RuntimeWarning)\n"
     ]
    },
    {
     "name": "stdout",
     "output_type": "stream",
     "text": [
      "<scipy.stats._continuous_distns.gamma_gen object at 0x000001B0BCEA36D8>\n",
      "(408.52620405754794, -1.2508909047847054, 0.0030624411826513835)\n",
      "\n",
      "<scipy.stats._continuous_distns.expon_gen object at 0x000001B0BCE83FD0>\n",
      "(-0.5507317441312178, 0.5514582955721059)\n",
      "\n",
      "<scipy.stats._continuous_distns.lognorm_gen object at 0x000001B0BCEDD518>\n",
      "(0.0009525819291085098, -54.198455590204986, 54.199275988006434)\n",
      "\n",
      "<scipy.stats._continuous_distns.pearson3_gen object at 0x000001B0BCF06828>\n",
      "(-0.20911195818133343, 0.0010828769939270956, 0.05084583707904698)\n",
      "\n",
      "<scipy.stats._continuous_distns.triang_gen object at 0x000001B0BCF18B38>\n",
      "(0.7329663592973623, -0.5514492227838977, 0.7830246246556986)\n",
      "\n",
      "\n",
      "Distributions listed by Betterment of fit:\n",
      "............................................\n",
      "   Distribution   chi_square\n",
      "9      pearson3   101.455677\n",
      "3          beta   109.238831\n",
      "8       lognorm   123.633336\n",
      "1          norm   125.569806\n",
      "0   weibull_min   228.738809\n",
      "2   weibull_max   289.639651\n",
      "6         gamma   304.053169\n",
      "4      invgauss   334.710423\n",
      "10       triang  4179.814078\n",
      "7         expon  4664.208470\n",
      "5       uniform  5693.639516\n"
     ]
    }
   ],
   "source": [
    "# print eth\n",
    "print_chi_square_stats_distributions(return_data_2018.eth,size)"
   ]
  },
  {
   "cell_type": "code",
   "execution_count": 51,
   "metadata": {},
   "outputs": [
    {
     "name": "stdout",
     "output_type": "stream",
     "text": [
      "<scipy.stats._continuous_distns.weibull_min_gen object at 0x000001B0BCE94358>\n",
      "(7.839572695358168, -0.5729151078605048, 0.5975243080888626)\n",
      "\n",
      "<scipy.stats._continuous_distns.norm_gen object at 0x000001B0BCE44BE0>\n",
      "(-0.0012193258983714576, 0.05961774792889459)\n",
      "\n",
      "<scipy.stats._continuous_distns.weibull_max_gen object at 0x000001B0BCE945C0>\n",
      "(6.088587920794138, 0.455514391225274, 0.48143792684420017)\n",
      "\n",
      "<scipy.stats._continuous_distns.beta_gen object at 0x000001B0BCE77208>\n",
      "(18382.337026364465, 17135.048211069334, -11.644452477918392, 22.496442472519124)\n",
      "\n",
      "<scipy.stats._continuous_distns.invgauss_gen object at 0x000001B0BCECC198>\n",
      "(0.003564268449483699, -1.0805818965731397, 302.6532187298867)\n",
      "\n",
      "<scipy.stats._continuous_distns.uniform_gen object at 0x000001B0BCF2F5C0>\n",
      "(-0.5505025324881687, 0.9952581356702372)\n",
      "\n",
      "<scipy.stats._continuous_distns.gamma_gen object at 0x000001B0BCEA36D8>\n",
      "(299.3116717060176, -1.0945638688931165, 0.0036484928002480854)\n",
      "\n",
      "<scipy.stats._continuous_distns.expon_gen object at 0x000001B0BCE83FD0>\n",
      "(-0.5505025324881687, 0.5492832065897972)\n",
      "\n"
     ]
    },
    {
     "name": "stderr",
     "output_type": "stream",
     "text": [
      "C:\\Users\\USER\\Anaconda3\\lib\\site-packages\\scipy\\optimize\\minpack.py:175: RuntimeWarning: The iteration is not making good progress, as measured by the \n",
      "  improvement from the last ten iterations.\n",
      "  warnings.warn(msg, RuntimeWarning)\n"
     ]
    },
    {
     "name": "stdout",
     "output_type": "stream",
     "text": [
      "<scipy.stats._continuous_distns.lognorm_gen object at 0x000001B0BCEDD518>\n",
      "(0.0021559932066416414, -27.654662088578437, 27.653506250484327)\n",
      "\n",
      "<scipy.stats._continuous_distns.pearson3_gen object at 0x000001B0BCF06828>\n",
      "(-0.019622400760228732, -0.0012259807703472003, 0.05959849886970018)\n",
      "\n",
      "<scipy.stats._continuous_distns.triang_gen object at 0x000001B0BCF18B38>\n",
      "(0.5559270029430192, -0.5514214854084218, 0.99711600860044)\n",
      "\n",
      "\n",
      "Distributions listed by Betterment of fit:\n",
      "............................................\n",
      "   Distribution   chi_square\n",
      "9      pearson3   242.889562\n",
      "8       lognorm   243.268528\n",
      "1          norm   244.714002\n",
      "3          beta   245.119962\n",
      "6         gamma   340.041967\n",
      "4      invgauss   354.706550\n",
      "2   weibull_max   545.481041\n",
      "0   weibull_min   713.672036\n",
      "10       triang  2296.989027\n",
      "5       uniform  2967.272022\n",
      "7         expon  4606.356411\n"
     ]
    }
   ],
   "source": [
    "# print xrp\n",
    "print_chi_square_stats_distributions(return_data_2018.xrp,size)"
   ]
  },
  {
   "cell_type": "code",
   "execution_count": null,
   "metadata": {},
   "outputs": [],
   "source": []
  },
  {
   "cell_type": "code",
   "execution_count": null,
   "metadata": {},
   "outputs": [],
   "source": [
    "# from arch.univariate import EWMAVariance\n",
    "# rm = EWMAVariance(0.94)"
   ]
  },
  {
   "cell_type": "code",
   "execution_count": 66,
   "metadata": {},
   "outputs": [],
   "source": []
  },
  {
   "cell_type": "code",
   "execution_count": null,
   "metadata": {},
   "outputs": [],
   "source": []
  },
  {
   "cell_type": "code",
   "execution_count": 40,
   "metadata": {},
   "outputs": [],
   "source": []
  },
  {
   "cell_type": "code",
   "execution_count": null,
   "metadata": {},
   "outputs": [],
   "source": []
  },
  {
   "cell_type": "markdown",
   "metadata": {},
   "source": [
    "# Garch 1,1 Model"
   ]
  },
  {
   "cell_type": "code",
   "execution_count": 67,
   "metadata": {},
   "outputs": [],
   "source": [
    "import numpy as np\n",
    "import scipy\n",
    "import pandas as pd\n",
    "class garchOneOne(object):\n",
    "       \n",
    "    def __init__(self, logReturns):\n",
    "        self.logReturns = logReturns\n",
    "        self.sigma_2 = self.garch_filter(self.garch_optimization())\n",
    "        self.coefficients = self.garch_optimization()\n",
    "        \n",
    "    def garch_filter(self, parameters):\n",
    "        \"Returns the variance expression of a GARCH(1,1) process.\"\n",
    "        \n",
    "        # Slicing the parameters list\n",
    "        omega = parameters[0]\n",
    "        alpha = parameters[1]\n",
    "        beta = parameters[2]\n",
    "        \n",
    "        # Length of logReturns\n",
    "        length = len(self.logReturns)\n",
    "        \n",
    "        # Initializing an empty array\n",
    "        sigma_2 = np.zeros(length)\n",
    "        \n",
    "        # Filling the array, if i == 0 then uses the long term variance.\n",
    "        for i in range(length):\n",
    "            if i == 0:\n",
    "                sigma_2[i] = omega / (1 - alpha - beta)\n",
    "            else:\n",
    "                sigma_2[i] = omega + alpha * self.logReturns[i-1]**2 + beta * sigma_2[i-1]\n",
    "        \n",
    "        return sigma_2 \n",
    "        \n",
    "    def garch_loglikehihood(self, parameters):\n",
    "        \"Defines the log likelihood sum to be optimized given the parameters.\"\n",
    "        length = len(self.logReturns)\n",
    "        \n",
    "        sigma_2 = self.garch_filter(parameters)\n",
    "        \n",
    "        loglikelihood = - np.sum(-np.log(sigma_2) - self.logReturns**2 / sigma_2)\n",
    "        return loglikelihood\n",
    "    \n",
    "    def garch_optimization(self):\n",
    "        \"Optimizes the log likelihood function and returns estimated coefficients\"\n",
    "        # Parameters initialization\n",
    "        parameters = [.1, .05, .92]\n",
    "        \n",
    "        # Parameters optimization, scipy does not have a maximize function, so we minimize the opposite of the equation described earlier\n",
    "        opt = scipy.optimize.minimize(self.garch_loglikehihood, parameters,\n",
    "                                     bounds = ((.001,1),(.001,1),(.001,1)))\n",
    "        \n",
    "        variance = .01**2 * opt.x[0] / (1 - opt.x[1] - opt.x[2])   # Times .01**2 because it concerns squared returns\n",
    "        \n",
    "        return np.append(opt.x, variance)"
   ]
  },
  {
   "cell_type": "code",
   "execution_count": 132,
   "metadata": {},
   "outputs": [],
   "source": [
    "def run_garch(data,cryptoType, conf_interval, dist_type):\n",
    "    print(\"=\"*40)\n",
    "    print(\"=\"*40)\n",
    "    print (\"Running Garch 1,1 model for %s\" %cryptoType)\n",
    "    model = garchOneOne(data)\n",
    "    arch_m = arch_model(data, mean = 'Zero', vol = 'GARCH', dist = dist_type)\n",
    "    arch_m = arch_m.fit()\n",
    "    conf_int = pd.DataFrame(arch_m.conf_int(alpha = conf_interval))\n",
    "#     conf_int['garchOneOne'] = model.coefficients[:-1]\n",
    "#     conf_int['Test'] = np.where(conf_int['garchOneOne'] < conf_int['upper'], np.where(conf_int['garchOneOne'] > conf_int['lower'], \"Ok\", \"Not ok\"), \"Not ok\") \n",
    "#     print(\"conf_int for %s\" %cryptoType)\n",
    "#     print(conf_int)\n",
    "    \n",
    "    %matplotlib inline\n",
    "#     df = pd.DataFrame(np.sqrt(model.sigma_2))\n",
    "#     print(df.head())\n",
    "#     # Plotting the data\n",
    "#     plt.plot(df, label = ' GARCH(1,1)', linewidth = .75)\n",
    "#     plt.legend()\n",
    "#     plt.title('GARCH(1,1) processes of %s' %cryptoType, fontweight = 'bold')\n",
    "#     return model.sigma_2\n",
    "    return np.sqrt(model.sigma_2)"
   ]
  },
  {
   "cell_type": "code",
   "execution_count": 127,
   "metadata": {},
   "outputs": [],
   "source": [
    "return_data_2018 = return_dataset.iloc[364:]"
   ]
  },
  {
   "cell_type": "code",
   "execution_count": 143,
   "metadata": {},
   "outputs": [
    {
     "data": {
      "text/html": [
       "<div>\n",
       "<style scoped>\n",
       "    .dataframe tbody tr th:only-of-type {\n",
       "        vertical-align: middle;\n",
       "    }\n",
       "\n",
       "    .dataframe tbody tr th {\n",
       "        vertical-align: top;\n",
       "    }\n",
       "\n",
       "    .dataframe thead th {\n",
       "        text-align: right;\n",
       "    }\n",
       "</style>\n",
       "<table border=\"1\" class=\"dataframe\">\n",
       "  <thead>\n",
       "    <tr style=\"text-align: right;\">\n",
       "      <th></th>\n",
       "      <th>Date</th>\n",
       "      <th>btc</th>\n",
       "      <th>eth</th>\n",
       "      <th>xrp</th>\n",
       "    </tr>\n",
       "  </thead>\n",
       "  <tbody>\n",
       "    <tr>\n",
       "      <th>364</th>\n",
       "      <td>2018-01-01</td>\n",
       "      <td>0.092589</td>\n",
       "      <td>0.135145</td>\n",
       "      <td>0.036897</td>\n",
       "    </tr>\n",
       "    <tr>\n",
       "      <th>365</th>\n",
       "      <td>2018-01-02</td>\n",
       "      <td>0.014505</td>\n",
       "      <td>0.084803</td>\n",
       "      <td>0.224511</td>\n",
       "    </tr>\n",
       "    <tr>\n",
       "      <th>366</th>\n",
       "      <td>2018-01-03</td>\n",
       "      <td>0.025858</td>\n",
       "      <td>0.018730</td>\n",
       "      <td>0.028964</td>\n",
       "    </tr>\n",
       "    <tr>\n",
       "      <th>367</th>\n",
       "      <td>2018-01-04</td>\n",
       "      <td>0.110945</td>\n",
       "      <td>0.016980</td>\n",
       "      <td>-0.047379</td>\n",
       "    </tr>\n",
       "    <tr>\n",
       "      <th>368</th>\n",
       "      <td>2018-01-05</td>\n",
       "      <td>0.005578</td>\n",
       "      <td>0.043117</td>\n",
       "      <td>0.014737</td>\n",
       "    </tr>\n",
       "  </tbody>\n",
       "</table>\n",
       "</div>"
      ],
      "text/plain": [
       "           Date       btc       eth       xrp\n",
       "364  2018-01-01  0.092589  0.135145  0.036897\n",
       "365  2018-01-02  0.014505  0.084803  0.224511\n",
       "366  2018-01-03  0.025858  0.018730  0.028964\n",
       "367  2018-01-04  0.110945  0.016980 -0.047379\n",
       "368  2018-01-05  0.005578  0.043117  0.014737"
      ]
     },
     "execution_count": 143,
     "metadata": {},
     "output_type": "execute_result"
    }
   ],
   "source": [
    "return_data_2018.head()"
   ]
  },
  {
   "cell_type": "code",
   "execution_count": 150,
   "metadata": {},
   "outputs": [
    {
     "name": "stdout",
     "output_type": "stream",
     "text": [
      "Statistic: 26.226\n",
      "15.000: 0.574, data does not look normal (reject H0)\n",
      "10.000: 0.654, data does not look normal (reject H0)\n",
      "5.000: 0.784, data does not look normal (reject H0)\n",
      "2.500: 0.915, data does not look normal (reject H0)\n",
      "1.000: 1.088, data does not look normal (reject H0)\n"
     ]
    }
   ],
   "source": [
    "from scipy.stats import anderson\n",
    "# normality test\n",
    "result = anderson(return_data_2018.btc)\n",
    "print('Statistic: %.3f' % result.statistic)\n",
    "p = 0\n",
    "for i in range(len(result.critical_values)):\n",
    "\tsl, cv = result.significance_level[i], result.critical_values[i]\n",
    "\tif result.statistic < result.critical_values[i]:\n",
    "\t\tprint('%.3f: %.3f, data looks normal (fail to reject H0)' % (sl, cv))\n",
    "\telse:\n",
    "\t\tprint('%.3f: %.3f, data does not look normal (reject H0)' % (sl, cv))"
   ]
  },
  {
   "cell_type": "code",
   "execution_count": 146,
   "metadata": {},
   "outputs": [
    {
     "name": "stdout",
     "output_type": "stream",
     "text": [
      "Statistics=0.914, p=0.000\n",
      "Sample does not look Gaussian (reject H0)\n"
     ]
    }
   ],
   "source": [
    "# normality test\n",
    "stat, p = shapiro(return_data_2018.eth)\n",
    "print('Statistics=%.3f, p=%.3f' % (stat, p))\n",
    "# interpret\n",
    "alpha = 0.05\n",
    "if p > alpha:\n",
    "\tprint('Sample looks Gaussian (fail to reject H0)')\n",
    "else:\n",
    "\tprint('Sample does not look Gaussian (reject H0)')"
   ]
  },
  {
   "cell_type": "code",
   "execution_count": 147,
   "metadata": {},
   "outputs": [
    {
     "name": "stdout",
     "output_type": "stream",
     "text": [
      "Statistics=0.834, p=0.000\n",
      "Sample does not look Gaussian (reject H0)\n"
     ]
    }
   ],
   "source": [
    "# normality test\n",
    "stat, p = shapiro(return_data_2018.xrp)\n",
    "print('Statistics=%.3f, p=%.3f' % (stat, p))\n",
    "# interpret\n",
    "alpha = 0.05\n",
    "if p > alpha:\n",
    "\tprint('Sample looks Gaussian (fail to reject H0)')\n",
    "else:\n",
    "\tprint('Sample does not look Gaussian (reject H0)')"
   ]
  },
  {
   "cell_type": "code",
   "execution_count": null,
   "metadata": {},
   "outputs": [],
   "source": [
    "from scipy.stats import norm"
   ]
  },
  {
   "cell_type": "code",
   "execution_count": 137,
   "metadata": {},
   "outputs": [
    {
     "name": "stdout",
     "output_type": "stream",
     "text": [
      "========================================\n",
      "========================================\n",
      "Running Garch 1,1 model for BTC\n",
      "Iteration:      1,   Func. Count:      5,   Neg. LLF: 212062.57624308104\n",
      "Iteration:      2,   Func. Count:     12,   Neg. LLF: -2042.565016635665\n",
      "Iteration:      3,   Func. Count:     19,   Neg. LLF: -1304.1690958768052\n",
      "Iteration:      4,   Func. Count:     24,   Neg. LLF: -2111.2789591208416\n",
      "Iteration:      5,   Func. Count:     29,   Neg. LLF: -2103.9755313467704\n",
      "Iteration:      6,   Func. Count:     34,   Neg. LLF: -2115.066514432211\n",
      "Iteration:      7,   Func. Count:     39,   Neg. LLF: -2163.8469654459045\n",
      "Iteration:      8,   Func. Count:     43,   Neg. LLF: -2163.8754078053375\n",
      "Iteration:      9,   Func. Count:     47,   Neg. LLF: -2163.8761512667265\n",
      "Iteration:     10,   Func. Count:     51,   Neg. LLF: -2163.876148174865\n",
      "Optimization terminated successfully    (Exit mode 0)\n",
      "            Current function value: -2163.8761514974562\n",
      "            Iterations: 10\n",
      "            Function evaluations: 53\n",
      "            Gradient evaluations: 10\n",
      "========================================\n",
      "========================================\n",
      "Running Garch 1,1 model for ETH\n"
     ]
    },
    {
     "name": "stderr",
     "output_type": "stream",
     "text": [
      "C:\\Users\\USER\\Anaconda3\\lib\\site-packages\\ipykernel_launcher.py:40: RuntimeWarning: invalid value encountered in log\n",
      "C:\\Users\\USER\\AppData\\Roaming\\Python\\Python37\\site-packages\\arch\\univariate\\base.py:317: DataScaleWarning: y is poorly scaled, which may affect convergence of the optimizer when\n",
      "estimating the model parameters. The scale of y is 0.001636. Parameter\n",
      "estimation work better when this value is between 1 and 1000. The recommended\n",
      "rescaling is 10 * y.\n",
      "\n",
      "This warning can be disabled by either rescaling y before initializing the\n",
      "model or by setting rescale=False.\n",
      "\n",
      "  data_scale_warning.format(orig_scale, rescale), DataScaleWarning\n",
      "C:\\Users\\USER\\AppData\\Roaming\\Python\\Python37\\site-packages\\arch\\univariate\\base.py:317: DataScaleWarning: y is poorly scaled, which may affect convergence of the optimizer when\n",
      "estimating the model parameters. The scale of y is 0.002667. Parameter\n",
      "estimation work better when this value is between 1 and 1000. The recommended\n",
      "rescaling is 10 * y.\n",
      "\n",
      "This warning can be disabled by either rescaling y before initializing the\n",
      "model or by setting rescale=False.\n",
      "\n",
      "  data_scale_warning.format(orig_scale, rescale), DataScaleWarning\n"
     ]
    },
    {
     "name": "stdout",
     "output_type": "stream",
     "text": [
      "Iteration:      1,   Func. Count:      5,   Neg. LLF: 2299.1221229241587\n",
      "Iteration:      2,   Func. Count:     13,   Neg. LLF: 3068230.7977573248\n",
      "Iteration:      3,   Func. Count:     18,   Neg. LLF: -1786.9805005850721\n",
      "Iteration:      4,   Func. Count:     23,   Neg. LLF: -1831.2604752380653\n",
      "Iteration:      5,   Func. Count:     29,   Neg. LLF: -1831.2362125422965\n",
      "Iteration:      6,   Func. Count:     34,   Neg. LLF: -1860.7222497112175\n",
      "Iteration:      7,   Func. Count:     39,   Neg. LLF: -1860.7731143973897\n",
      "Iteration:      8,   Func. Count:     43,   Neg. LLF: -1860.773130383919\n",
      "Iteration:      9,   Func. Count:     46,   Neg. LLF: -1860.7731303837916\n",
      "Optimization terminated successfully    (Exit mode 0)\n",
      "            Current function value: -1860.773130383919\n",
      "            Iterations: 9\n",
      "            Function evaluations: 46\n",
      "            Gradient evaluations: 9\n",
      "========================================\n",
      "========================================\n",
      "Running Garch 1,1 model for XRP\n",
      "Iteration:      1,   Func. Count:      4,   Neg. LLF: -1830.7208143146865\n",
      "Optimization terminated successfully    (Exit mode 0)\n",
      "            Current function value: -1830.720814709885\n",
      "            Iterations: 5\n",
      "            Function evaluations: 4\n",
      "            Gradient evaluations: 1\n"
     ]
    },
    {
     "name": "stderr",
     "output_type": "stream",
     "text": [
      "C:\\Users\\USER\\AppData\\Roaming\\Python\\Python37\\site-packages\\arch\\univariate\\base.py:317: DataScaleWarning: y is poorly scaled, which may affect convergence of the optimizer when\n",
      "estimating the model parameters. The scale of y is 0.003562. Parameter\n",
      "estimation work better when this value is between 1 and 1000. The recommended\n",
      "rescaling is 10 * y.\n",
      "\n",
      "This warning can be disabled by either rescaling y before initializing the\n",
      "model or by setting rescale=False.\n",
      "\n",
      "  data_scale_warning.format(orig_scale, rescale), DataScaleWarning\n"
     ]
    }
   ],
   "source": [
    "btc_sigma = run_garch(return_data_2018.btc.to_numpy(), \"BTC\", 0.05,'normal')\n",
    "eth_sigma = run_garch(return_data_2018.eth.to_numpy(), \"ETH\", 0.05,'normal')\n",
    "xrp_sigma = run_garch(return_data_2018.xrp.to_numpy(), \"XRP\", 0.05,'normal')\n",
    "var_btc = np.abs(-norm.ppf(0.05)*btc_sigma)\n",
    "var_eth = np.abs(-norm.ppf(0.05)*eth_sigma)\n",
    "var_xrp = np.abs(-norm.ppf(0.05)*xrp_sigma)\n",
    "gamma_vol_95 = pd.DataFrame({'btc': return_data_2018.btc, 'var_95_btc': var_btc,\n",
    "              'eth': return_data_2018.eth, 'var_95_eth': var_eth,\n",
    "              'xrp': return_data_2018.xrp, 'var_95_xrp': var_xrp})\n",
    "gamma_vol_95.to_csv('gammas_normal.csv', index=False)  "
   ]
  },
  {
   "cell_type": "code",
   "execution_count": 140,
   "metadata": {
    "scrolled": true
   },
   "outputs": [
    {
     "name": "stdout",
     "output_type": "stream",
     "text": [
      "========================================\n",
      "========================================\n",
      "Running Garch 1,1 model for BTC\n",
      "Iteration:      1,   Func. Count:      5,   Neg. LLF: -2320.6050656523958\n",
      "Optimization terminated successfully    (Exit mode 0)\n",
      "            Current function value: -2320.605065866496\n",
      "            Iterations: 5\n",
      "            Function evaluations: 5\n",
      "            Gradient evaluations: 1\n",
      "========================================\n",
      "========================================\n",
      "Running Garch 1,1 model for ETH\n"
     ]
    },
    {
     "name": "stderr",
     "output_type": "stream",
     "text": [
      "C:\\Users\\USER\\Anaconda3\\lib\\site-packages\\ipykernel_launcher.py:40: RuntimeWarning: invalid value encountered in log\n",
      "C:\\Users\\USER\\AppData\\Roaming\\Python\\Python37\\site-packages\\arch\\univariate\\base.py:317: DataScaleWarning: y is poorly scaled, which may affect convergence of the optimizer when\n",
      "estimating the model parameters. The scale of y is 0.001636. Parameter\n",
      "estimation work better when this value is between 1 and 1000. The recommended\n",
      "rescaling is 10 * y.\n",
      "\n",
      "This warning can be disabled by either rescaling y before initializing the\n",
      "model or by setting rescale=False.\n",
      "\n",
      "  data_scale_warning.format(orig_scale, rescale), DataScaleWarning\n",
      "C:\\Users\\USER\\AppData\\Roaming\\Python\\Python37\\site-packages\\arch\\univariate\\base.py:317: DataScaleWarning: y is poorly scaled, which may affect convergence of the optimizer when\n",
      "estimating the model parameters. The scale of y is 0.002667. Parameter\n",
      "estimation work better when this value is between 1 and 1000. The recommended\n",
      "rescaling is 10 * y.\n",
      "\n",
      "This warning can be disabled by either rescaling y before initializing the\n",
      "model or by setting rescale=False.\n",
      "\n",
      "  data_scale_warning.format(orig_scale, rescale), DataScaleWarning\n"
     ]
    },
    {
     "name": "stdout",
     "output_type": "stream",
     "text": [
      "Iteration:      1,   Func. Count:      5,   Neg. LLF: -1977.2479809660442\n",
      "Optimization terminated successfully    (Exit mode 0)\n",
      "            Current function value: -1977.2479810976913\n",
      "            Iterations: 5\n",
      "            Function evaluations: 5\n",
      "            Gradient evaluations: 1\n",
      "========================================\n",
      "========================================\n",
      "Running Garch 1,1 model for XRP\n",
      "Iteration:      1,   Func. Count:      6,   Neg. LLF: 14202.38763689252\n",
      "Iteration:      2,   Func. Count:     12,   Neg. LLF: -1578.0979833801707\n",
      "Iteration:      3,   Func. Count:     20,   Neg. LLF: -921.1561372126803\n",
      "Iteration:      4,   Func. Count:     26,   Neg. LLF: -1071.7996623242047\n",
      "Iteration:      5,   Func. Count:     32,   Neg. LLF: 673.3230982086244\n",
      "Iteration:      6,   Func. Count:     41,   Neg. LLF: -1910.6770849384413\n",
      "Iteration:      7,   Func. Count:     47,   Neg. LLF: -1304.9013812637888\n",
      "Iteration:      8,   Func. Count:     53,   Neg. LLF: -2028.0516842832913\n",
      "Iteration:      9,   Func. Count:     58,   Neg. LLF: -2029.7873672056598\n",
      "Iteration:     10,   Func. Count:     64,   Neg. LLF: -1863.564591039597\n",
      "Iteration:     11,   Func. Count:     71,   Neg. LLF: -2031.5090627131985\n",
      "Iteration:     12,   Func. Count:     77,   Neg. LLF: -1990.562591829181\n",
      "Iteration:     13,   Func. Count:     84,   Neg. LLF: -2034.379211448549\n",
      "Iteration:     14,   Func. Count:     89,   Neg. LLF: -2034.534477450265\n",
      "Iteration:     15,   Func. Count:     94,   Neg. LLF: -2034.5589847169897\n",
      "Iteration:     16,   Func. Count:     99,   Neg. LLF: -2034.562863689166\n",
      "Iteration:     17,   Func. Count:    104,   Neg. LLF: -2034.5639802471044\n",
      "Iteration:     18,   Func. Count:    109,   Neg. LLF: -2034.564050699344\n",
      "Iteration:     19,   Func. Count:    114,   Neg. LLF: -2034.564053727439\n",
      "Iteration:     20,   Func. Count:    118,   Neg. LLF: -2034.5640537274571\n",
      "Optimization terminated successfully    (Exit mode 0)\n",
      "            Current function value: -2034.564053727439\n",
      "            Iterations: 22\n",
      "            Function evaluations: 118\n",
      "            Gradient evaluations: 20\n"
     ]
    },
    {
     "name": "stderr",
     "output_type": "stream",
     "text": [
      "C:\\Users\\USER\\AppData\\Roaming\\Python\\Python37\\site-packages\\arch\\univariate\\base.py:317: DataScaleWarning: y is poorly scaled, which may affect convergence of the optimizer when\n",
      "estimating the model parameters. The scale of y is 0.003562. Parameter\n",
      "estimation work better when this value is between 1 and 1000. The recommended\n",
      "rescaling is 10 * y.\n",
      "\n",
      "This warning can be disabled by either rescaling y before initializing the\n",
      "model or by setting rescale=False.\n",
      "\n",
      "  data_scale_warning.format(orig_scale, rescale), DataScaleWarning\n"
     ]
    }
   ],
   "source": [
    "btc_sigma = run_garch(return_data_2018.btc.to_numpy(), \"BTC\", 0.05,'studentst')\n",
    "eth_sigma = run_garch(return_data_2018.eth.to_numpy(), \"ETH\", 0.05,'studentst')\n",
    "xrp_sigma = run_garch(return_data_2018.xrp.to_numpy(), \"XRP\", 0.05,'studentst')\n",
    "var_btc = np.abs(-norm.ppf(0.05)*btc_sigma)\n",
    "var_eth = np.abs(-norm.ppf(0.05)*eth_sigma)\n",
    "var_xrp = np.abs(-norm.ppf(0.05)*xrp_sigma)\n",
    "gamma_vol_95 = pd.DataFrame({'btc': return_data_2018.btc, 'var_95_btc': var_btc,\n",
    "              'eth': return_data_2018.eth, 'var_95_eth': var_eth,\n",
    "              'xrp': return_data_2018.xrp, 'var_95_xrp': var_xrp})\n",
    "gamma_vol_95.to_excel('gammas_studentt.xlsx', index=False)  "
   ]
  },
  {
   "cell_type": "code",
   "execution_count": 141,
   "metadata": {},
   "outputs": [
    {
     "name": "stdout",
     "output_type": "stream",
     "text": [
      "========================================\n",
      "========================================\n",
      "Running Garch 1,1 model for BTC\n",
      "Iteration:      1,   Func. Count:      6,   Neg. LLF: -2320.6050651179103\n",
      "Optimization terminated successfully    (Exit mode 0)\n",
      "            Current function value: -2320.605065866496\n",
      "            Iterations: 5\n",
      "            Function evaluations: 6\n",
      "            Gradient evaluations: 1\n",
      "========================================\n",
      "========================================\n",
      "Running Garch 1,1 model for ETH\n"
     ]
    },
    {
     "name": "stderr",
     "output_type": "stream",
     "text": [
      "C:\\Users\\USER\\Anaconda3\\lib\\site-packages\\ipykernel_launcher.py:40: RuntimeWarning: invalid value encountered in log\n",
      "C:\\Users\\USER\\AppData\\Roaming\\Python\\Python37\\site-packages\\arch\\univariate\\base.py:317: DataScaleWarning: y is poorly scaled, which may affect convergence of the optimizer when\n",
      "estimating the model parameters. The scale of y is 0.001636. Parameter\n",
      "estimation work better when this value is between 1 and 1000. The recommended\n",
      "rescaling is 10 * y.\n",
      "\n",
      "This warning can be disabled by either rescaling y before initializing the\n",
      "model or by setting rescale=False.\n",
      "\n",
      "  data_scale_warning.format(orig_scale, rescale), DataScaleWarning\n",
      "C:\\Users\\USER\\AppData\\Roaming\\Python\\Python37\\site-packages\\arch\\univariate\\base.py:317: DataScaleWarning: y is poorly scaled, which may affect convergence of the optimizer when\n",
      "estimating the model parameters. The scale of y is 0.002667. Parameter\n",
      "estimation work better when this value is between 1 and 1000. The recommended\n",
      "rescaling is 10 * y.\n",
      "\n",
      "This warning can be disabled by either rescaling y before initializing the\n",
      "model or by setting rescale=False.\n",
      "\n",
      "  data_scale_warning.format(orig_scale, rescale), DataScaleWarning\n"
     ]
    },
    {
     "name": "stdout",
     "output_type": "stream",
     "text": [
      "Iteration:      1,   Func. Count:      6,   Neg. LLF: -1977.2479806076685\n",
      "Optimization terminated successfully    (Exit mode 0)\n",
      "            Current function value: -1977.2479810976913\n",
      "            Iterations: 5\n",
      "            Function evaluations: 6\n",
      "            Gradient evaluations: 1\n",
      "========================================\n",
      "========================================\n",
      "Running Garch 1,1 model for XRP\n",
      "Iteration:      1,   Func. Count:      7,   Neg. LLF: 40367.61186267997\n",
      "Iteration:      2,   Func. Count:     14,   Neg. LLF: 5198.870475077545\n",
      "Iteration:      3,   Func. Count:     25,   Neg. LLF: -1346.3312481354465\n",
      "Iteration:      4,   Func. Count:     33,   Neg. LLF: 1733.4603608714128\n",
      "Iteration:      5,   Func. Count:     40,   Neg. LLF: -1716.9568867619496\n",
      "Iteration:      6,   Func. Count:     47,   Neg. LLF: -990.6410231829343\n",
      "Iteration:      7,   Func. Count:     54,   Neg. LLF: -1396.6179127003707\n",
      "Iteration:      8,   Func. Count:     61,   Neg. LLF: -1317.409726265208\n",
      "Iteration:      9,   Func. Count:     68,   Neg. LLF: -1928.3368871605696\n",
      "Iteration:     10,   Func. Count:     75,   Neg. LLF: -1379.2538925022848\n",
      "Iteration:     11,   Func. Count:     82,   Neg. LLF: -2030.8794940098746\n",
      "Iteration:     12,   Func. Count:     89,   Neg. LLF: -1350.9330066475159\n",
      "Iteration:     13,   Func. Count:     96,   Neg. LLF: -2032.3234516681607\n",
      "Iteration:     14,   Func. Count:    103,   Neg. LLF: -2035.0101742054064\n",
      "Iteration:     15,   Func. Count:    109,   Neg. LLF: -2035.0342981222916\n",
      "Iteration:     16,   Func. Count:    115,   Neg. LLF: -2035.035057490937\n",
      "Iteration:     17,   Func. Count:    121,   Neg. LLF: -2035.0349190145662\n",
      "Iteration:     18,   Func. Count:    128,   Neg. LLF: -2035.0355610373945\n",
      "Iteration:     19,   Func. Count:    135,   Neg. LLF: -2035.035683700773\n",
      "Iteration:     20,   Func. Count:    141,   Neg. LLF: -1980.2313800577374\n",
      "Optimization terminated successfully    (Exit mode 0)\n",
      "            Current function value: -2035.0356837035063\n",
      "            Iterations: 21\n",
      "            Function evaluations: 148\n",
      "            Gradient evaluations: 20\n"
     ]
    },
    {
     "name": "stderr",
     "output_type": "stream",
     "text": [
      "C:\\Users\\USER\\AppData\\Roaming\\Python\\Python37\\site-packages\\arch\\univariate\\base.py:317: DataScaleWarning: y is poorly scaled, which may affect convergence of the optimizer when\n",
      "estimating the model parameters. The scale of y is 0.003562. Parameter\n",
      "estimation work better when this value is between 1 and 1000. The recommended\n",
      "rescaling is 10 * y.\n",
      "\n",
      "This warning can be disabled by either rescaling y before initializing the\n",
      "model or by setting rescale=False.\n",
      "\n",
      "  data_scale_warning.format(orig_scale, rescale), DataScaleWarning\n"
     ]
    }
   ],
   "source": [
    "btc_sigma = run_garch(return_data_2018.btc.to_numpy(), \"BTC\", 0.05,'skewt')\n",
    "eth_sigma = run_garch(return_data_2018.eth.to_numpy(), \"ETH\", 0.05,'skewt')\n",
    "xrp_sigma = run_garch(return_data_2018.xrp.to_numpy(), \"XRP\", 0.05,'skewt')\n",
    "var_btc = np.abs(-norm.ppf(0.05)*btc_sigma)\n",
    "var_eth = np.abs(-norm.ppf(0.05)*eth_sigma)\n",
    "var_xrp = np.abs(-norm.ppf(0.05)*xrp_sigma)\n",
    "gamma_vol_95 = pd.DataFrame({'btc': return_data_2018.btc, 'var_95_btc': var_btc,\n",
    "              'eth': return_data_2018.eth, 'var_95_eth': var_eth,\n",
    "              'xrp': return_data_2018.xrp, 'var_95_xrp': var_xrp})\n",
    "gamma_vol_95.to_excel('gammas_skewt.xlsx', index=False)  "
   ]
  },
  {
   "cell_type": "code",
   "execution_count": 142,
   "metadata": {
    "scrolled": true
   },
   "outputs": [
    {
     "name": "stdout",
     "output_type": "stream",
     "text": [
      "========================================\n",
      "========================================\n",
      "Running Garch 1,1 model for BTC\n",
      "Iteration:      1,   Func. Count:      5,   Neg. LLF: -2267.711835497006\n",
      "Optimization terminated successfully    (Exit mode 0)\n",
      "            Current function value: -2267.7118381040423\n",
      "            Iterations: 5\n",
      "            Function evaluations: 5\n",
      "            Gradient evaluations: 1\n",
      "========================================\n",
      "========================================\n",
      "Running Garch 1,1 model for ETH\n"
     ]
    },
    {
     "name": "stderr",
     "output_type": "stream",
     "text": [
      "C:\\Users\\USER\\Anaconda3\\lib\\site-packages\\ipykernel_launcher.py:40: RuntimeWarning: invalid value encountered in log\n",
      "C:\\Users\\USER\\AppData\\Roaming\\Python\\Python37\\site-packages\\arch\\univariate\\base.py:317: DataScaleWarning: y is poorly scaled, which may affect convergence of the optimizer when\n",
      "estimating the model parameters. The scale of y is 0.001636. Parameter\n",
      "estimation work better when this value is between 1 and 1000. The recommended\n",
      "rescaling is 10 * y.\n",
      "\n",
      "This warning can be disabled by either rescaling y before initializing the\n",
      "model or by setting rescale=False.\n",
      "\n",
      "  data_scale_warning.format(orig_scale, rescale), DataScaleWarning\n",
      "C:\\Users\\USER\\AppData\\Roaming\\Python\\Python37\\site-packages\\arch\\univariate\\base.py:317: DataScaleWarning: y is poorly scaled, which may affect convergence of the optimizer when\n",
      "estimating the model parameters. The scale of y is 0.002667. Parameter\n",
      "estimation work better when this value is between 1 and 1000. The recommended\n",
      "rescaling is 10 * y.\n",
      "\n",
      "This warning can be disabled by either rescaling y before initializing the\n",
      "model or by setting rescale=False.\n",
      "\n",
      "  data_scale_warning.format(orig_scale, rescale), DataScaleWarning\n"
     ]
    },
    {
     "name": "stdout",
     "output_type": "stream",
     "text": [
      "Iteration:      1,   Func. Count:      5,   Neg. LLF: -1941.0786464264697\n",
      "Optimization terminated successfully    (Exit mode 0)\n",
      "            Current function value: -1941.078648393754\n",
      "            Iterations: 5\n",
      "            Function evaluations: 5\n",
      "            Gradient evaluations: 1\n",
      "========================================\n",
      "========================================\n",
      "Running Garch 1,1 model for XRP\n",
      "Iteration:      1,   Func. Count:      6,   Neg. LLF: 1250388.3993422482\n",
      "Iteration:      2,   Func. Count:     12,   Neg. LLF: -1514.4443820773272\n",
      "Iteration:      3,   Func. Count:     18,   Neg. LLF: -1726.2637400919775\n",
      "Iteration:      4,   Func. Count:     24,   Neg. LLF: 2055.808650241822\n",
      "Iteration:      5,   Func. Count:     33,   Neg. LLF: -1928.031192561968\n",
      "Iteration:      6,   Func. Count:     39,   Neg. LLF: -1993.5466140111596\n",
      "Iteration:      7,   Func. Count:     44,   Neg. LLF: -1850.933292015438\n",
      "Iteration:      8,   Func. Count:     51,   Neg. LLF: -1995.0361170716074\n",
      "Iteration:      9,   Func. Count:     58,   Neg. LLF: -1994.1543445637851\n",
      "Iteration:     10,   Func. Count:     64,   Neg. LLF: -2014.4364599051019\n",
      "Iteration:     11,   Func. Count:     70,   Neg. LLF: -1930.0771290206806\n",
      "Iteration:     12,   Func. Count:     76,   Neg. LLF: -2016.6135067273\n",
      "Iteration:     13,   Func. Count:     81,   Neg. LLF: -2016.8131097130536\n",
      "Iteration:     14,   Func. Count:     86,   Neg. LLF: -2016.8625458500073\n",
      "Iteration:     15,   Func. Count:     91,   Neg. LLF: -2016.867985520009\n",
      "Iteration:     16,   Func. Count:     96,   Neg. LLF: -2016.8682285921445\n",
      "Iteration:     17,   Func. Count:    101,   Neg. LLF: -2016.868231912582\n",
      "Iteration:     18,   Func. Count:    106,   Neg. LLF: -1954.839560229971\n",
      "Optimization terminated successfully    (Exit mode 0)\n",
      "            Current function value: -2016.8682319124628\n",
      "            Iterations: 21\n",
      "            Function evaluations: 116\n",
      "            Gradient evaluations: 18\n"
     ]
    },
    {
     "name": "stderr",
     "output_type": "stream",
     "text": [
      "C:\\Users\\USER\\AppData\\Roaming\\Python\\Python37\\site-packages\\arch\\univariate\\base.py:317: DataScaleWarning: y is poorly scaled, which may affect convergence of the optimizer when\n",
      "estimating the model parameters. The scale of y is 0.003562. Parameter\n",
      "estimation work better when this value is between 1 and 1000. The recommended\n",
      "rescaling is 10 * y.\n",
      "\n",
      "This warning can be disabled by either rescaling y before initializing the\n",
      "model or by setting rescale=False.\n",
      "\n",
      "  data_scale_warning.format(orig_scale, rescale), DataScaleWarning\n"
     ]
    }
   ],
   "source": [
    "btc_sigma = run_garch(return_data_2018.btc.to_numpy(), \"BTC\", 0.05,'ged')\n",
    "eth_sigma = run_garch(return_data_2018.eth.to_numpy(), \"ETH\", 0.05,'ged')\n",
    "xrp_sigma = run_garch(return_data_2018.xrp.to_numpy(), \"XRP\", 0.05,'ged')\n",
    "var_btc = np.abs(return_data_2018.btc.to_numpy()-norm.ppf(0.05)*btc_sigma)\n",
    "var_eth = np.abs(return_data_2018.eth.to_numpy()-norm.ppf(0.05)*eth_sigma)\n",
    "var_xrp = np.abs(return_data_2018.xrp.to_numpy()-norm.ppf(0.05)*xrp_sigma)\n",
    "gamma_vol_95 = pd.DataFrame({'btc': return_data_2018.btc, 'var_95_btc': var_btc,\n",
    "              'eth': return_data_2018.eth, 'var_95_eth': var_eth,\n",
    "              'xrp': return_data_2018.xrp, 'var_95_xrp': var_xrp})\n",
    "gamma_vol_95.to_excel('gammas_ged.xlsx', index=False)  "
   ]
  },
  {
   "cell_type": "code",
   "execution_count": null,
   "metadata": {},
   "outputs": [],
   "source": []
  },
  {
   "cell_type": "markdown",
   "metadata": {},
   "source": [
    "# Monte Carlo"
   ]
  },
  {
   "cell_type": "code",
   "execution_count": null,
   "metadata": {},
   "outputs": [],
   "source": []
  },
  {
   "cell_type": "code",
   "execution_count": null,
   "metadata": {},
   "outputs": [],
   "source": []
  },
  {
   "cell_type": "code",
   "execution_count": null,
   "metadata": {},
   "outputs": [],
   "source": []
  },
  {
   "cell_type": "code",
   "execution_count": 99,
   "metadata": {},
   "outputs": [],
   "source": [
    "ewma_data = pd.read_csv('ewma.csv', header=None)\n",
    "gammas_data = pd.read_csv('gammas.csv')\n",
    "monte_carlo_data = pd.read_csv('monte_carlo.csv', header=None)"
   ]
  },
  {
   "cell_type": "code",
   "execution_count": 100,
   "metadata": {
    "scrolled": true
   },
   "outputs": [
    {
     "data": {
      "text/html": [
       "<div>\n",
       "<style scoped>\n",
       "    .dataframe tbody tr th:only-of-type {\n",
       "        vertical-align: middle;\n",
       "    }\n",
       "\n",
       "    .dataframe tbody tr th {\n",
       "        vertical-align: top;\n",
       "    }\n",
       "\n",
       "    .dataframe thead th {\n",
       "        text-align: right;\n",
       "    }\n",
       "</style>\n",
       "<table border=\"1\" class=\"dataframe\">\n",
       "  <thead>\n",
       "    <tr style=\"text-align: right;\">\n",
       "      <th></th>\n",
       "      <th>0</th>\n",
       "      <th>1</th>\n",
       "      <th>2</th>\n",
       "      <th>3</th>\n",
       "      <th>4</th>\n",
       "      <th>5</th>\n",
       "    </tr>\n",
       "  </thead>\n",
       "  <tbody>\n",
       "    <tr>\n",
       "      <th>0</th>\n",
       "      <td>0.092589</td>\n",
       "      <td>0.21671</td>\n",
       "      <td>0.135140</td>\n",
       "      <td>0.24658</td>\n",
       "      <td>0.036897</td>\n",
       "      <td>0.32253</td>\n",
       "    </tr>\n",
       "    <tr>\n",
       "      <th>1</th>\n",
       "      <td>0.014505</td>\n",
       "      <td>0.14050</td>\n",
       "      <td>0.084803</td>\n",
       "      <td>0.20579</td>\n",
       "      <td>0.224510</td>\n",
       "      <td>0.50184</td>\n",
       "    </tr>\n",
       "    <tr>\n",
       "      <th>2</th>\n",
       "      <td>0.025858</td>\n",
       "      <td>0.14815</td>\n",
       "      <td>0.018730</td>\n",
       "      <td>0.14091</td>\n",
       "      <td>0.028964</td>\n",
       "      <td>0.31266</td>\n",
       "    </tr>\n",
       "    <tr>\n",
       "      <th>3</th>\n",
       "      <td>0.110940</td>\n",
       "      <td>0.22997</td>\n",
       "      <td>0.016980</td>\n",
       "      <td>0.13568</td>\n",
       "      <td>-0.047379</td>\n",
       "      <td>0.22792</td>\n",
       "    </tr>\n",
       "    <tr>\n",
       "      <th>4</th>\n",
       "      <td>0.005578</td>\n",
       "      <td>0.12933</td>\n",
       "      <td>0.043117</td>\n",
       "      <td>0.15840</td>\n",
       "      <td>0.014737</td>\n",
       "      <td>0.28233</td>\n",
       "    </tr>\n",
       "  </tbody>\n",
       "</table>\n",
       "</div>"
      ],
      "text/plain": [
       "          0        1         2        3         4        5\n",
       "0  0.092589  0.21671  0.135140  0.24658  0.036897  0.32253\n",
       "1  0.014505  0.14050  0.084803  0.20579  0.224510  0.50184\n",
       "2  0.025858  0.14815  0.018730  0.14091  0.028964  0.31266\n",
       "3  0.110940  0.22997  0.016980  0.13568 -0.047379  0.22792\n",
       "4  0.005578  0.12933  0.043117  0.15840  0.014737  0.28233"
      ]
     },
     "execution_count": 100,
     "metadata": {},
     "output_type": "execute_result"
    }
   ],
   "source": [
    "ewma_data.head()"
   ]
  },
  {
   "cell_type": "code",
   "execution_count": 101,
   "metadata": {},
   "outputs": [
    {
     "data": {
      "text/plain": [
       "1176"
      ]
     },
     "execution_count": 101,
     "metadata": {},
     "output_type": "execute_result"
    }
   ],
   "source": [
    "len(return_data_2018.Date.to_numpy())"
   ]
  },
  {
   "cell_type": "code",
   "execution_count": 102,
   "metadata": {},
   "outputs": [
    {
     "data": {
      "text/plain": [
       "1176"
      ]
     },
     "execution_count": 102,
     "metadata": {},
     "output_type": "execute_result"
    }
   ],
   "source": [
    "len(ewma_data[1])"
   ]
  },
  {
   "cell_type": "code",
   "execution_count": 105,
   "metadata": {},
   "outputs": [
    {
     "data": {
      "text/html": [
       "<div>\n",
       "<style scoped>\n",
       "    .dataframe tbody tr th:only-of-type {\n",
       "        vertical-align: middle;\n",
       "    }\n",
       "\n",
       "    .dataframe tbody tr th {\n",
       "        vertical-align: top;\n",
       "    }\n",
       "\n",
       "    .dataframe thead th {\n",
       "        text-align: right;\n",
       "    }\n",
       "</style>\n",
       "<table border=\"1\" class=\"dataframe\">\n",
       "  <thead>\n",
       "    <tr style=\"text-align: right;\">\n",
       "      <th></th>\n",
       "      <th>btc</th>\n",
       "      <th>var_95_btc</th>\n",
       "      <th>eth</th>\n",
       "      <th>var_95_eth</th>\n",
       "      <th>xrp</th>\n",
       "      <th>var_95_xrp</th>\n",
       "    </tr>\n",
       "  </thead>\n",
       "  <tbody>\n",
       "    <tr>\n",
       "      <th>0</th>\n",
       "      <td>0.092589</td>\n",
       "      <td>0.095197</td>\n",
       "      <td>0.135145</td>\n",
       "      <td>0.139901</td>\n",
       "      <td>0.036897</td>\n",
       "      <td>0.101614</td>\n",
       "    </tr>\n",
       "    <tr>\n",
       "      <th>1</th>\n",
       "      <td>0.014505</td>\n",
       "      <td>0.017440</td>\n",
       "      <td>0.084803</td>\n",
       "      <td>0.092767</td>\n",
       "      <td>0.224511</td>\n",
       "      <td>0.245682</td>\n",
       "    </tr>\n",
       "    <tr>\n",
       "      <th>2</th>\n",
       "      <td>0.025858</td>\n",
       "      <td>0.028513</td>\n",
       "      <td>0.018730</td>\n",
       "      <td>0.026075</td>\n",
       "      <td>0.028964</td>\n",
       "      <td>0.094273</td>\n",
       "    </tr>\n",
       "    <tr>\n",
       "      <th>3</th>\n",
       "      <td>0.110945</td>\n",
       "      <td>0.113525</td>\n",
       "      <td>0.016980</td>\n",
       "      <td>0.022571</td>\n",
       "      <td>-0.047379</td>\n",
       "      <td>0.026643</td>\n",
       "    </tr>\n",
       "    <tr>\n",
       "      <th>4</th>\n",
       "      <td>0.005578</td>\n",
       "      <td>0.008679</td>\n",
       "      <td>0.043117</td>\n",
       "      <td>0.047771</td>\n",
       "      <td>0.014737</td>\n",
       "      <td>0.024711</td>\n",
       "    </tr>\n",
       "  </tbody>\n",
       "</table>\n",
       "</div>"
      ],
      "text/plain": [
       "        btc  var_95_btc       eth  var_95_eth       xrp  var_95_xrp\n",
       "0  0.092589    0.095197  0.135145    0.139901  0.036897    0.101614\n",
       "1  0.014505    0.017440  0.084803    0.092767  0.224511    0.245682\n",
       "2  0.025858    0.028513  0.018730    0.026075  0.028964    0.094273\n",
       "3  0.110945    0.113525  0.016980    0.022571 -0.047379    0.026643\n",
       "4  0.005578    0.008679  0.043117    0.047771  0.014737    0.024711"
      ]
     },
     "execution_count": 105,
     "metadata": {},
     "output_type": "execute_result"
    }
   ],
   "source": [
    "gammas_data.head()"
   ]
  },
  {
   "cell_type": "code",
   "execution_count": 106,
   "metadata": {},
   "outputs": [
    {
     "data": {
      "text/plain": [
       "1176"
      ]
     },
     "execution_count": 106,
     "metadata": {},
     "output_type": "execute_result"
    }
   ],
   "source": [
    "len(gammas_data['var_95_btc'])"
   ]
  },
  {
   "cell_type": "code",
   "execution_count": 113,
   "metadata": {},
   "outputs": [
    {
     "data": {
      "image/png": "[encoded data removed]",
      "text/plain": [
       "<Figure size 432x288 with 1 Axes>"
      ]
     },
     "metadata": {
      "needs_background": "light"
     },
     "output_type": "display_data"
    }
   ],
   "source": [
    "import matplotlib.pyplot as plt\n",
    "plt.plot(return_data_2018.Date.to_numpy(),ewma_data[0],'y')\n",
    "plt.plot(return_data_2018.Date.to_numpy(),-ewma_data[1],'r')\n",
    "plt.show()"
   ]
  },
  {
   "cell_type": "code",
   "execution_count": 114,
   "metadata": {},
   "outputs": [
    {
     "data": {
      "image/png": "[encoded data removed]",
      "text/plain": [
       "<Figure size 432x288 with 1 Axes>"
      ]
     },
     "metadata": {
      "needs_background": "light"
     },
     "output_type": "display_data"
    }
   ],
   "source": [
    "plt.plot(return_data_2018.Date.to_numpy(),ewma_data[0],'y')\n",
    "plt.plot(return_data_2018.Date.to_numpy(),-gammas_data['var_95_btc'],'b')\n",
    "plt.show()"
   ]
  },
  {
   "cell_type": "code",
   "execution_count": 115,
   "metadata": {},
   "outputs": [
    {
     "data": {
      "image/png": "[encoded data removed]",
      "text/plain": [
       "<Figure size 432x288 with 1 Axes>"
      ]
     },
     "metadata": {
      "needs_background": "light"
     },
     "output_type": "display_data"
    }
   ],
   "source": [
    "plt.plot(return_data_2018.Date.to_numpy(),ewma_data[0],'y')\n",
    "plt.plot(return_data_2018.Date.to_numpy(),-monte_carlo_data[1],'g')\n",
    "plt.show()"
   ]
  },
  {
   "cell_type": "code",
   "execution_count": null,
   "metadata": {},
   "outputs": [],
   "source": []
  },
  {
   "cell_type": "code",
   "execution_count": null,
   "metadata": {},
   "outputs": [],
   "source": []
  }
 ],
 "metadata": {
  "kernelspec": {
   "display_name": "Python 3",
   "language": "python",
   "name": "python3"
  },
  "language_info": {
   "codemirror_mode": {
    "name": "ipython",
    "version": 3
   },
   "file_extension": ".py",
   "mimetype": "text/x-python",
   "name": "python",
   "nbconvert_exporter": "python",
   "pygments_lexer": "ipython3",
   "version": "3.7.3"
  },
  "pycharm": {
   "stem_cell": {
    "cell_type": "raw",
    "metadata": {
     "collapsed": false
    },
    "source": []
   }
  }
 },
 "nbformat": 4,
 "nbformat_minor": 1
}
