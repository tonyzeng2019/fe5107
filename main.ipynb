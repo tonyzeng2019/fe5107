{
 "cells": [
  {
   "cell_type": "markdown",
   "metadata": {},
   "source": [
    "# Date Preprocessing for EWMA Matlab"
   ]
  },
  {
   "cell_type": "code",
   "execution_count": 1,
   "metadata": {},
   "outputs": [],
   "source": [
    "import pandas as pd\n",
    "import numpy as np"
   ]
  },
  {
   "cell_type": "code",
   "execution_count": 2,
   "metadata": {},
   "outputs": [],
   "source": [
    "# data from 2017.1.1 to 2021.3.28\n",
    "btc = pd.read_csv('data/BTC-USD.csv')\n",
    "eth = pd.read_csv('data/ETH-USD.csv')\n",
    "xrp = pd.read_csv('data/XRP-USD.csv')"
   ]
  },
  {
   "cell_type": "code",
   "execution_count": 3,
   "metadata": {},
   "outputs": [],
   "source": [
    "# only using adj close data\n",
    "btc_price = btc['Adj Close']\n",
    "eth_price = eth['Adj Close']\n",
    "xrp_price = xrp['Adj Close']"
   ]
  },
  {
   "cell_type": "code",
   "execution_count": 4,
   "metadata": {},
   "outputs": [],
   "source": [
    "date_array = btc['Date'].to_numpy()"
   ]
  },
  {
   "cell_type": "code",
   "execution_count": 5,
   "metadata": {},
   "outputs": [],
   "source": [
    "# convert price to returns and adjust length\n",
    "# e.g. 1.1 $100, 1.2 : $120, return: 1.1 with ln(120) - ln(100)\n",
    "return_btc = np.diff(np.log(btc_price), n=1, axis=0)\n",
    "return_eth = np.diff(np.log(eth_price), n=1, axis=0)\n",
    "return_xrp = np.diff(np.log(xrp_price), n=1, axis=0)"
   ]
  },
  {
   "cell_type": "code",
   "execution_count": 6,
   "metadata": {},
   "outputs": [],
   "source": [
    "return_dataset = pd.DataFrame({'Date': date_array[0:-1], 'btc': return_btc, 'eth': return_eth, 'xrp': return_xrp})"
   ]
  },
  {
   "cell_type": "code",
   "execution_count": 7,
   "metadata": {},
   "outputs": [
    {
     "data": {
      "text/plain": [
       "True"
      ]
     },
     "execution_count": 7,
     "metadata": {},
     "output_type": "execute_result"
    }
   ],
   "source": [
    "return_dataset['btc'].isnull().values.any()"
   ]
  },
  {
   "cell_type": "code",
   "execution_count": 8,
   "metadata": {},
   "outputs": [
    {
     "data": {
      "text/html": [
       "<div>\n",
       "<style scoped>\n",
       "    .dataframe tbody tr th:only-of-type {\n",
       "        vertical-align: middle;\n",
       "    }\n",
       "\n",
       "    .dataframe tbody tr th {\n",
       "        vertical-align: top;\n",
       "    }\n",
       "\n",
       "    .dataframe thead th {\n",
       "        text-align: right;\n",
       "    }\n",
       "</style>\n",
       "<table border=\"1\" class=\"dataframe\">\n",
       "  <thead>\n",
       "    <tr style=\"text-align: right;\">\n",
       "      <th></th>\n",
       "      <th>Date</th>\n",
       "      <th>btc</th>\n",
       "      <th>eth</th>\n",
       "      <th>xrp</th>\n",
       "    </tr>\n",
       "  </thead>\n",
       "  <tbody>\n",
       "    <tr>\n",
       "      <th>1200</th>\n",
       "      <td>2020-04-16</td>\n",
       "      <td>NaN</td>\n",
       "      <td>NaN</td>\n",
       "      <td>NaN</td>\n",
       "    </tr>\n",
       "    <tr>\n",
       "      <th>1201</th>\n",
       "      <td>2020-04-17</td>\n",
       "      <td>NaN</td>\n",
       "      <td>NaN</td>\n",
       "      <td>NaN</td>\n",
       "    </tr>\n",
       "    <tr>\n",
       "      <th>1375</th>\n",
       "      <td>2020-10-08</td>\n",
       "      <td>NaN</td>\n",
       "      <td>NaN</td>\n",
       "      <td>NaN</td>\n",
       "    </tr>\n",
       "    <tr>\n",
       "      <th>1376</th>\n",
       "      <td>2020-10-09</td>\n",
       "      <td>NaN</td>\n",
       "      <td>NaN</td>\n",
       "      <td>NaN</td>\n",
       "    </tr>\n",
       "    <tr>\n",
       "      <th>1378</th>\n",
       "      <td>2020-10-11</td>\n",
       "      <td>NaN</td>\n",
       "      <td>NaN</td>\n",
       "      <td>NaN</td>\n",
       "    </tr>\n",
       "    <tr>\n",
       "      <th>1379</th>\n",
       "      <td>2020-10-12</td>\n",
       "      <td>NaN</td>\n",
       "      <td>NaN</td>\n",
       "      <td>NaN</td>\n",
       "    </tr>\n",
       "    <tr>\n",
       "      <th>1380</th>\n",
       "      <td>2020-10-13</td>\n",
       "      <td>NaN</td>\n",
       "      <td>NaN</td>\n",
       "      <td>NaN</td>\n",
       "    </tr>\n",
       "  </tbody>\n",
       "</table>\n",
       "</div>"
      ],
      "text/plain": [
       "            Date  btc  eth  xrp\n",
       "1200  2020-04-16  NaN  NaN  NaN\n",
       "1201  2020-04-17  NaN  NaN  NaN\n",
       "1375  2020-10-08  NaN  NaN  NaN\n",
       "1376  2020-10-09  NaN  NaN  NaN\n",
       "1378  2020-10-11  NaN  NaN  NaN\n",
       "1379  2020-10-12  NaN  NaN  NaN\n",
       "1380  2020-10-13  NaN  NaN  NaN"
      ]
     },
     "execution_count": 8,
     "metadata": {},
     "output_type": "execute_result"
    }
   ],
   "source": [
    "return_dataset[return_dataset['btc'].isnull()]"
   ]
  },
  {
   "cell_type": "code",
   "execution_count": 9,
   "metadata": {},
   "outputs": [],
   "source": [
    "# dropna\n",
    "return_dataset = return_dataset.dropna()"
   ]
  },
  {
   "cell_type": "code",
   "execution_count": 10,
   "metadata": {},
   "outputs": [
    {
     "data": {
      "text/plain": [
       "True"
      ]
     },
     "execution_count": 10,
     "metadata": {},
     "output_type": "execute_result"
    }
   ],
   "source": [
    "return_dataset['btc'].isnull().values.sum() + return_dataset['eth'].isnull().values.sum() + return_dataset['xrp'].isnull().values.sum() == 0"
   ]
  },
  {
   "cell_type": "code",
   "execution_count": 11,
   "metadata": {},
   "outputs": [
    {
     "data": {
      "text/plain": [
       "1540"
      ]
     },
     "execution_count": 11,
     "metadata": {},
     "output_type": "execute_result"
    }
   ],
   "source": [
    "len(return_dataset) "
   ]
  },
  {
   "cell_type": "code",
   "execution_count": 17,
   "metadata": {},
   "outputs": [],
   "source": [
    "return_dataset.to_csv('returns.csv', index=False)  "
   ]
  },
  {
   "cell_type": "code",
   "execution_count": null,
   "metadata": {},
   "outputs": [],
   "source": []
  },
  {
   "cell_type": "markdown",
   "metadata": {},
   "source": [
    "# Garch 1,1 Model"
   ]
  },
  {
   "cell_type": "code",
   "execution_count": 18,
   "metadata": {},
   "outputs": [],
   "source": [
    "import numpy as np\n",
    "import scipy\n",
    "import pandas as pd\n",
    "class garchOneOne(object):\n",
    "       \n",
    "    def __init__(self, logReturns):\n",
    "        # todo: maybe need to remove this *100 \n",
    "        self.logReturns = logReturns * 100\n",
    "        self.sigma_2 = self.garch_filter(self.garch_optimization())\n",
    "        self.coefficients = self.garch_optimization()\n",
    "        \n",
    "    def garch_filter(self, parameters):\n",
    "        \"Returns the variance expression of a GARCH(1,1) process.\"\n",
    "        \n",
    "        # Slicing the parameters list\n",
    "        omega = parameters[0]\n",
    "        alpha = parameters[1]\n",
    "        beta = parameters[2]\n",
    "        \n",
    "        # Length of logReturns\n",
    "        length = len(self.logReturns)\n",
    "        \n",
    "        # Initializing an empty array\n",
    "        sigma_2 = np.zeros(length)\n",
    "        \n",
    "        # Filling the array, if i == 0 then uses the long term variance.\n",
    "        for i in range(length):\n",
    "            if i == 0:\n",
    "                sigma_2[i] = omega / (1 - alpha - beta)\n",
    "            else:\n",
    "                sigma_2[i] = omega + alpha * self.logReturns[i-1]**2 + beta * sigma_2[i-1]\n",
    "        \n",
    "        return sigma_2 \n",
    "        \n",
    "    def garch_loglikehihood(self, parameters):\n",
    "        \"Defines the log likelihood sum to be optimized given the parameters.\"\n",
    "        length = len(self.logReturns)\n",
    "        \n",
    "        sigma_2 = self.garch_filter(parameters)\n",
    "        \n",
    "        loglikelihood = - np.sum(-np.log(sigma_2) - self.logReturns**2 / sigma_2)\n",
    "        return loglikelihood\n",
    "    \n",
    "    def garch_optimization(self):\n",
    "        \"Optimizes the log likelihood function and returns estimated coefficients\"\n",
    "        # Parameters initialization\n",
    "        parameters = [.1, .05, .92]\n",
    "        \n",
    "        # Parameters optimization, scipy does not have a maximize function, so we minimize the opposite of the equation described earlier\n",
    "        opt = scipy.optimize.minimize(self.garch_loglikehihood, parameters,\n",
    "                                     bounds = ((.001,1),(.001,1),(.001,1)))\n",
    "        \n",
    "        variance = .01**2 * opt.x[0] / (1 - opt.x[1] - opt.x[2])   # Times .01**2 because it concerns squared returns\n",
    "        \n",
    "        return np.append(opt.x, variance)"
   ]
  },
  {
   "cell_type": "code",
   "execution_count": 13,
   "metadata": {},
   "outputs": [],
   "source": [
    "from arch import arch_model\n",
    "import matplotlib.pyplot as plt"
   ]
  },
  {
   "cell_type": "code",
   "execution_count": 19,
   "metadata": {},
   "outputs": [],
   "source": [
    "def run_garch(data,cryptoType, conf_interval):\n",
    "    print(\"=\"*40)\n",
    "    print(\"=\"*40)\n",
    "    print (\"Running Garch 1,1 model for %s\" %cryptoType)\n",
    "    model = garchOneOne(data)\n",
    "    arch_m = arch_model(data * 100, mean = 'Zero', vol = 'GARCH')\n",
    "#     arch_m = arch_model(data * 100, mean = 'Zero', vol = 'GARCH')\n",
    "    arch_m = arch_m.fit()\n",
    "    conf_int = pd.DataFrame(arch_m.conf_int(alpha = conf_interval))\n",
    "    conf_int['garchOneOne'] = model.coefficients[:-1]\n",
    "    conf_int['Test'] = np.where(conf_int['garchOneOne'] < conf_int['upper'], np.where(conf_int['garchOneOne'] > conf_int['lower'], \"Ok\", \"Not ok\"), \"Not ok\") \n",
    "    print(\"conf_int for %s\" %cryptoType)\n",
    "    print(conf_int)\n",
    "    \n",
    "    %matplotlib inline\n",
    "    df = pd.DataFrame(np.sqrt(model.sigma_2))\n",
    "    print(df.head())\n",
    "    # Plotting the data\n",
    "    plt.plot(df, label = ' GARCH(1,1)', linewidth = .75)\n",
    "    plt.legend()\n",
    "    plt.title('GARCH(1,1) processes of %s' %cryptoType, fontweight = 'bold')\n",
    "    return model.sigma_2"
   ]
  },
  {
   "cell_type": "code",
   "execution_count": 25,
   "metadata": {},
   "outputs": [
    {
     "name": "stdout",
     "output_type": "stream",
     "text": [
      "========================================\n",
      "========================================\n",
      "Running Garch 1,1 model for BTC\n",
      "Iteration:      1,   Func. Count:      5,   Neg. LLF: 4025607.1810204433\n",
      "Iteration:      2,   Func. Count:     11,   Neg. LLF: 4379.057868283349\n",
      "Iteration:      3,   Func. Count:     17,   Neg. LLF: 4368.4408144556355\n",
      "Iteration:      4,   Func. Count:     22,   Neg. LLF: 4335.35489445054\n",
      "Iteration:      5,   Func. Count:     27,   Neg. LLF: 4590.338268655036\n",
      "Iteration:      6,   Func. Count:     32,   Neg. LLF: 4327.356646059461\n",
      "Iteration:      7,   Func. Count:     36,   Neg. LLF: 4327.3171059113065\n",
      "Iteration:      8,   Func. Count:     40,   Neg. LLF: 4327.314724933898\n",
      "Iteration:      9,   Func. Count:     44,   Neg. LLF: 4327.314672592707\n",
      "Iteration:     10,   Func. Count:     48,   Neg. LLF: 4327.314669105521\n",
      "Iteration:     11,   Func. Count:     51,   Neg. LLF: 4327.314669105828\n",
      "Optimization terminated successfully    (Exit mode 0)\n",
      "            Current function value: 4327.314669105521\n",
      "            Iterations: 11\n",
      "            Function evaluations: 51\n",
      "            Gradient evaluations: 11\n",
      "conf_int for BTC\n",
      "             lower     upper  garchOneOne    Test\n",
      "omega     0.083836  2.309102         0.10      Ok\n",
      "alpha[1]  0.018893  0.240714         0.05      Ok\n",
      "beta[1]   0.727597  0.906003         0.92  Not ok\n",
      "          0\n",
      "0  1.825742\n",
      "1  1.842666\n",
      "2  2.884490\n",
      "3  4.034799\n",
      "4  4.672208\n"
     ]
    },
    {
     "name": "stderr",
     "output_type": "stream",
     "text": [
      "C:\\Users\\USER\\Anaconda3\\lib\\site-packages\\ipykernel_launcher.py:41: RuntimeWarning: invalid value encountered in log\n"
     ]
    },
    {
     "data": {
      "image/png": "[encoded data removed]",
      "text/plain": [
       "<Figure size 432x288 with 1 Axes>"
      ]
     },
     "metadata": {
      "needs_background": "light"
     },
     "output_type": "display_data"
    }
   ],
   "source": [
    "btc_sigma_2 = run_garch(return_dataset.btc.to_numpy(), \"BTC\", 0.01)"
   ]
  },
  {
   "cell_type": "code",
   "execution_count": 21,
   "metadata": {},
   "outputs": [
    {
     "name": "stdout",
     "output_type": "stream",
     "text": [
      "========================================\n",
      "========================================\n",
      "Running Garch 1,1 model for ETH\n",
      "Iteration:      1,   Func. Count:      5,   Neg. LLF: 1596589.9049798134\n",
      "Iteration:      2,   Func. Count:     11,   Neg. LLF: 4850.17189170428\n",
      "Iteration:      3,   Func. Count:     18,   Neg. LLF: 4777.048963087043\n",
      "Iteration:      4,   Func. Count:     24,   Neg. LLF: 4757.1913028168565\n",
      "Iteration:      5,   Func. Count:     28,   Neg. LLF: 4757.190586275028\n",
      "Iteration:      6,   Func. Count:     32,   Neg. LLF: 4757.190584217029\n",
      "Iteration:      7,   Func. Count:     35,   Neg. LLF: 4757.190584216632\n",
      "Optimization terminated successfully    (Exit mode 0)\n",
      "            Current function value: 4757.190584217029\n",
      "            Iterations: 7\n",
      "            Function evaluations: 35\n",
      "            Gradient evaluations: 7\n",
      "conf_int for ETH\n",
      "             lower     upper  garchOneOne Test\n",
      "omega    -0.063150  6.414499         0.10   Ok\n",
      "alpha[1]  0.036752  0.254942         0.05   Ok\n",
      "beta[1]   0.603288  0.924134         0.92   Ok\n",
      "          0\n",
      "0  1.825742\n",
      "1  3.778285\n",
      "2  4.884670\n",
      "3  5.133950\n",
      "4  4.934455\n"
     ]
    },
    {
     "name": "stderr",
     "output_type": "stream",
     "text": [
      "C:\\Users\\USER\\Anaconda3\\lib\\site-packages\\ipykernel_launcher.py:41: RuntimeWarning: invalid value encountered in log\n"
     ]
    },
    {
     "data": {
      "image/png": "[encoded data removed]",
      "text/plain": [
       "<Figure size 432x288 with 1 Axes>"
      ]
     },
     "metadata": {
      "needs_background": "light"
     },
     "output_type": "display_data"
    }
   ],
   "source": [
    "eth_sigma_2 = run_garch(return_dataset.eth.to_numpy(), \"ETH\", 0.01)"
   ]
  },
  {
   "cell_type": "code",
   "execution_count": 22,
   "metadata": {
    "scrolled": true
   },
   "outputs": [
    {
     "name": "stdout",
     "output_type": "stream",
     "text": [
      "========================================\n",
      "========================================\n",
      "Running Garch 1,1 model for XRP\n",
      "Iteration:      1,   Func. Count:      5,   Neg. LLF: 9370.45648500208\n",
      "Iteration:      2,   Func. Count:     12,   Neg. LLF: 5327.712698934334\n",
      "Iteration:      3,   Func. Count:     17,   Neg. LLF: 4853.875420461771\n",
      "Iteration:      4,   Func. Count:     21,   Neg. LLF: 4853.829806588084\n",
      "Iteration:      5,   Func. Count:     25,   Neg. LLF: 4853.819936618181\n",
      "Iteration:      6,   Func. Count:     29,   Neg. LLF: 4853.819734200685\n",
      "Iteration:      7,   Func. Count:     32,   Neg. LLF: 4853.819733248238\n",
      "Optimization terminated successfully    (Exit mode 0)\n",
      "            Current function value: 4853.819734200685\n",
      "            Iterations: 7\n",
      "            Function evaluations: 32\n",
      "            Gradient evaluations: 7\n",
      "conf_int for XRP\n",
      "             lower     upper  garchOneOne    Test\n",
      "omega    -0.385391  7.930898         0.10      Ok\n",
      "alpha[1]  0.053400  0.724826         0.05  Not ok\n",
      "beta[1]   0.324932  0.896842         0.92  Not ok\n",
      "          0\n",
      "0  1.825742\n",
      "1  1.799014\n",
      "2  1.865738\n",
      "3  2.230047\n",
      "4  2.200271\n"
     ]
    },
    {
     "name": "stderr",
     "output_type": "stream",
     "text": [
      "C:\\Users\\USER\\Anaconda3\\lib\\site-packages\\ipykernel_launcher.py:41: RuntimeWarning: invalid value encountered in log\n"
     ]
    },
    {
     "data": {
      "image/png": "[encoded data removed]",
      "text/plain": [
       "<Figure size 432x288 with 1 Axes>"
      ]
     },
     "metadata": {
      "needs_background": "light"
     },
     "output_type": "display_data"
    }
   ],
   "source": [
    "xrp_sigma_2 = run_garch(return_dataset.xrp.to_numpy(), \"XRP\", 0.01)"
   ]
  },
  {
   "cell_type": "code",
   "execution_count": 26,
   "metadata": {},
   "outputs": [],
   "source": [
    "gamma_vol_99 = pd.DataFrame({'btc': return_dataset.btc, 'vol_99_btc': np.sqrt(btc_sigma_2),\n",
    "              'eth': return_dataset.eth, 'vol_99_eth': np.sqrt(eth_sigma_2),\n",
    "              'xrp': return_dataset.xrp, 'vol_99_xrp': np.sqrt(xrp_sigma_2)})"
   ]
  },
  {
   "cell_type": "code",
   "execution_count": 27,
   "metadata": {},
   "outputs": [
    {
     "data": {
      "text/html": [
       "<div>\n",
       "<style scoped>\n",
       "    .dataframe tbody tr th:only-of-type {\n",
       "        vertical-align: middle;\n",
       "    }\n",
       "\n",
       "    .dataframe tbody tr th {\n",
       "        vertical-align: top;\n",
       "    }\n",
       "\n",
       "    .dataframe thead th {\n",
       "        text-align: right;\n",
       "    }\n",
       "</style>\n",
       "<table border=\"1\" class=\"dataframe\">\n",
       "  <thead>\n",
       "    <tr style=\"text-align: right;\">\n",
       "      <th></th>\n",
       "      <th>btc</th>\n",
       "      <th>vol_99_btc</th>\n",
       "      <th>eth</th>\n",
       "      <th>vol_99_eth</th>\n",
       "      <th>xrp</th>\n",
       "      <th>vol_99_xrp</th>\n",
       "    </tr>\n",
       "  </thead>\n",
       "  <tbody>\n",
       "    <tr>\n",
       "      <th>0</th>\n",
       "      <td>0.021389</td>\n",
       "      <td>1.825742</td>\n",
       "      <td>0.149056</td>\n",
       "      <td>1.825742</td>\n",
       "      <td>0.011814</td>\n",
       "      <td>1.825742</td>\n",
       "    </tr>\n",
       "    <tr>\n",
       "      <th>1</th>\n",
       "      <td>0.100960</td>\n",
       "      <td>1.842666</td>\n",
       "      <td>0.145785</td>\n",
       "      <td>3.778285</td>\n",
       "      <td>0.028406</td>\n",
       "      <td>1.799014</td>\n",
       "    </tr>\n",
       "    <tr>\n",
       "      <th>2</th>\n",
       "      <td>-0.130575</td>\n",
       "      <td>2.884490</td>\n",
       "      <td>-0.092803</td>\n",
       "      <td>4.884670</td>\n",
       "      <td>-0.057803</td>\n",
       "      <td>1.865738</td>\n",
       "    </tr>\n",
       "    <tr>\n",
       "      <th>3</th>\n",
       "      <td>-0.116209</td>\n",
       "      <td>4.034799</td>\n",
       "      <td>0.000029</td>\n",
       "      <td>5.133950</td>\n",
       "      <td>0.018217</td>\n",
       "      <td>2.230047</td>\n",
       "    </tr>\n",
       "    <tr>\n",
       "      <th>4</th>\n",
       "      <td>0.007051</td>\n",
       "      <td>4.672208</td>\n",
       "      <td>-0.038521</td>\n",
       "      <td>4.934455</td>\n",
       "      <td>0.008044</td>\n",
       "      <td>2.200271</td>\n",
       "    </tr>\n",
       "  </tbody>\n",
       "</table>\n",
       "</div>"
      ],
      "text/plain": [
       "        btc  vol_99_btc       eth  vol_99_eth       xrp  vol_99_xrp\n",
       "0  0.021389    1.825742  0.149056    1.825742  0.011814    1.825742\n",
       "1  0.100960    1.842666  0.145785    3.778285  0.028406    1.799014\n",
       "2 -0.130575    2.884490 -0.092803    4.884670 -0.057803    1.865738\n",
       "3 -0.116209    4.034799  0.000029    5.133950  0.018217    2.230047\n",
       "4  0.007051    4.672208 -0.038521    4.934455  0.008044    2.200271"
      ]
     },
     "execution_count": 27,
     "metadata": {},
     "output_type": "execute_result"
    }
   ],
   "source": [
    "gamma_vol_99.head()"
   ]
  },
  {
   "cell_type": "code",
   "execution_count": 78,
   "metadata": {},
   "outputs": [],
   "source": [
    "gamma_vol_99.to_csv('gammas.csv', index=False)  "
   ]
  }
 ],
 "metadata": {
  "kernelspec": {
   "display_name": "Python 3",
   "language": "python",
   "name": "python3"
  },
  "language_info": {
   "codemirror_mode": {
    "name": "ipython",
    "version": 3
   },
   "file_extension": ".py",
   "mimetype": "text/x-python",
   "name": "python",
   "nbconvert_exporter": "python",
   "pygments_lexer": "ipython3",
   "version": "3.7.3"
  },
  "pycharm": {
   "stem_cell": {
    "cell_type": "raw",
    "metadata": {
     "collapsed": false
    },
    "source": []
   }
  }
 },
 "nbformat": 4,
 "nbformat_minor": 1
}
