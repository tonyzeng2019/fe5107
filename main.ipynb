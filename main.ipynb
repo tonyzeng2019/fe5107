{
 "cells": [
  {
   "cell_type": "markdown",
   "metadata": {},
   "source": [
    "# Date Preprocessing for EWMA Matlab"
   ]
  },
  {
   "cell_type": "code",
   "execution_count": 1,
   "metadata": {},
   "outputs": [],
   "source": [
    "import pandas as pd\n",
    "import numpy as np"
   ]
  },
  {
   "cell_type": "code",
   "execution_count": 2,
   "metadata": {},
   "outputs": [],
   "source": [
    "# data from 2017.1.1 to 2021.3.28\n",
    "btc = pd.read_csv('data/BTC-USD.csv')\n",
    "eth = pd.read_csv('data/ETH-USD.csv')\n",
    "xrp = pd.read_csv('data/XRP-USD.csv')"
   ]
  },
  {
   "cell_type": "code",
   "execution_count": 3,
   "metadata": {},
   "outputs": [],
   "source": [
    "# only using adj close data\n",
    "btc_price = btc['Adj Close']\n",
    "eth_price = eth['Adj Close']\n",
    "xrp_price = xrp['Adj Close']"
   ]
  },
  {
   "cell_type": "code",
   "execution_count": 4,
   "metadata": {},
   "outputs": [],
   "source": [
    "date_array = btc['Date'].to_numpy()"
   ]
  },
  {
   "cell_type": "code",
   "execution_count": 5,
   "metadata": {},
   "outputs": [],
   "source": [
    "# convert price to returns and adjust length\n",
    "# e.g. 1.1 $100, 1.2 : $120, return: 1.1 with ln(120) - ln(100)\n",
    "return_btc = np.diff(np.log(btc_price), n=1, axis=0)\n",
    "return_eth = np.diff(np.log(eth_price), n=1, axis=0)\n",
    "return_xrp = np.diff(np.log(xrp_price), n=1, axis=0)"
   ]
  },
  {
   "cell_type": "code",
   "execution_count": 6,
   "metadata": {},
   "outputs": [],
   "source": [
    "return_dataset = pd.DataFrame({'Date': date_array[0:-1], 'btc': return_btc, 'eth': return_eth, 'xrp': return_xrp})"
   ]
  },
  {
   "cell_type": "code",
   "execution_count": 7,
   "metadata": {},
   "outputs": [
    {
     "data": {
      "text/plain": [
       "True"
      ]
     },
     "execution_count": 7,
     "metadata": {},
     "output_type": "execute_result"
    }
   ],
   "source": [
    "return_dataset['btc'].isnull().values.any()"
   ]
  },
  {
   "cell_type": "code",
   "execution_count": 8,
   "metadata": {},
   "outputs": [
    {
     "data": {
      "text/html": [
       "<div>\n",
       "<style scoped>\n",
       "    .dataframe tbody tr th:only-of-type {\n",
       "        vertical-align: middle;\n",
       "    }\n",
       "\n",
       "    .dataframe tbody tr th {\n",
       "        vertical-align: top;\n",
       "    }\n",
       "\n",
       "    .dataframe thead th {\n",
       "        text-align: right;\n",
       "    }\n",
       "</style>\n",
       "<table border=\"1\" class=\"dataframe\">\n",
       "  <thead>\n",
       "    <tr style=\"text-align: right;\">\n",
       "      <th></th>\n",
       "      <th>Date</th>\n",
       "      <th>btc</th>\n",
       "      <th>eth</th>\n",
       "      <th>xrp</th>\n",
       "    </tr>\n",
       "  </thead>\n",
       "  <tbody>\n",
       "    <tr>\n",
       "      <th>1200</th>\n",
       "      <td>2020-04-16</td>\n",
       "      <td>NaN</td>\n",
       "      <td>NaN</td>\n",
       "      <td>NaN</td>\n",
       "    </tr>\n",
       "    <tr>\n",
       "      <th>1201</th>\n",
       "      <td>2020-04-17</td>\n",
       "      <td>NaN</td>\n",
       "      <td>NaN</td>\n",
       "      <td>NaN</td>\n",
       "    </tr>\n",
       "    <tr>\n",
       "      <th>1375</th>\n",
       "      <td>2020-10-08</td>\n",
       "      <td>NaN</td>\n",
       "      <td>NaN</td>\n",
       "      <td>NaN</td>\n",
       "    </tr>\n",
       "    <tr>\n",
       "      <th>1376</th>\n",
       "      <td>2020-10-09</td>\n",
       "      <td>NaN</td>\n",
       "      <td>NaN</td>\n",
       "      <td>NaN</td>\n",
       "    </tr>\n",
       "    <tr>\n",
       "      <th>1378</th>\n",
       "      <td>2020-10-11</td>\n",
       "      <td>NaN</td>\n",
       "      <td>NaN</td>\n",
       "      <td>NaN</td>\n",
       "    </tr>\n",
       "    <tr>\n",
       "      <th>1379</th>\n",
       "      <td>2020-10-12</td>\n",
       "      <td>NaN</td>\n",
       "      <td>NaN</td>\n",
       "      <td>NaN</td>\n",
       "    </tr>\n",
       "    <tr>\n",
       "      <th>1380</th>\n",
       "      <td>2020-10-13</td>\n",
       "      <td>NaN</td>\n",
       "      <td>NaN</td>\n",
       "      <td>NaN</td>\n",
       "    </tr>\n",
       "  </tbody>\n",
       "</table>\n",
       "</div>"
      ],
      "text/plain": [
       "            Date  btc  eth  xrp\n",
       "1200  2020-04-16  NaN  NaN  NaN\n",
       "1201  2020-04-17  NaN  NaN  NaN\n",
       "1375  2020-10-08  NaN  NaN  NaN\n",
       "1376  2020-10-09  NaN  NaN  NaN\n",
       "1378  2020-10-11  NaN  NaN  NaN\n",
       "1379  2020-10-12  NaN  NaN  NaN\n",
       "1380  2020-10-13  NaN  NaN  NaN"
      ]
     },
     "execution_count": 8,
     "metadata": {},
     "output_type": "execute_result"
    }
   ],
   "source": [
    "return_dataset[return_dataset['btc'].isnull()]"
   ]
  },
  {
   "cell_type": "code",
   "execution_count": 9,
   "metadata": {},
   "outputs": [],
   "source": [
    "# dropna\n",
    "return_dataset = return_dataset.dropna()"
   ]
  },
  {
   "cell_type": "code",
   "execution_count": 10,
   "metadata": {},
   "outputs": [
    {
     "data": {
      "text/plain": [
       "True"
      ]
     },
     "execution_count": 10,
     "metadata": {},
     "output_type": "execute_result"
    }
   ],
   "source": [
    "return_dataset['btc'].isnull().values.sum() + return_dataset['eth'].isnull().values.sum() + return_dataset['xrp'].isnull().values.sum() == 0"
   ]
  },
  {
   "cell_type": "code",
   "execution_count": 11,
   "metadata": {},
   "outputs": [
    {
     "data": {
      "text/plain": [
       "1540"
      ]
     },
     "execution_count": 11,
     "metadata": {},
     "output_type": "execute_result"
    }
   ],
   "source": [
    "len(return_dataset) "
   ]
  },
  {
   "cell_type": "code",
   "execution_count": 17,
   "metadata": {},
   "outputs": [],
   "source": [
    "return_dataset.to_csv('returns.csv', index=False)  "
   ]
  },
  {
   "cell_type": "code",
   "execution_count": null,
   "metadata": {},
   "outputs": [],
   "source": []
  },
  {
   "cell_type": "markdown",
   "metadata": {},
   "source": [
    "# Garch 1,1 Model"
   ]
  },
  {
   "cell_type": "code",
   "execution_count": 24,
   "metadata": {},
   "outputs": [],
   "source": [
    "import numpy as np\n",
    "import scipy\n",
    "import pandas as pd\n",
    "class garchOneOne(object):\n",
    "       \n",
    "    def __init__(self, logReturns):\n",
    "        self.logReturns = logReturns\n",
    "        self.sigma_2 = self.garch_filter(self.garch_optimization())\n",
    "        self.coefficients = self.garch_optimization()\n",
    "        \n",
    "    def garch_filter(self, parameters):\n",
    "        \"Returns the variance expression of a GARCH(1,1) process.\"\n",
    "        \n",
    "        # Slicing the parameters list\n",
    "        omega = parameters[0]\n",
    "        alpha = parameters[1]\n",
    "        beta = parameters[2]\n",
    "        \n",
    "        # Length of logReturns\n",
    "        length = len(self.logReturns)\n",
    "        \n",
    "        # Initializing an empty array\n",
    "        sigma_2 = np.zeros(length)\n",
    "        \n",
    "        # Filling the array, if i == 0 then uses the long term variance.\n",
    "        for i in range(length):\n",
    "            if i == 0:\n",
    "                sigma_2[i] = omega / (1 - alpha - beta)\n",
    "            else:\n",
    "                sigma_2[i] = omega + alpha * self.logReturns[i-1]**2 + beta * sigma_2[i-1]\n",
    "        \n",
    "        return sigma_2 \n",
    "        \n",
    "    def garch_loglikehihood(self, parameters):\n",
    "        \"Defines the log likelihood sum to be optimized given the parameters.\"\n",
    "        length = len(self.logReturns)\n",
    "        \n",
    "        sigma_2 = self.garch_filter(parameters)\n",
    "        \n",
    "        loglikelihood = - np.sum(-np.log(sigma_2) - self.logReturns**2 / sigma_2)\n",
    "        return loglikelihood\n",
    "    \n",
    "    def garch_optimization(self):\n",
    "        \"Optimizes the log likelihood function and returns estimated coefficients\"\n",
    "        # Parameters initialization\n",
    "        parameters = [.1, .05, .92]\n",
    "        \n",
    "        # Parameters optimization, scipy does not have a maximize function, so we minimize the opposite of the equation described earlier\n",
    "        opt = scipy.optimize.minimize(self.garch_loglikehihood, parameters,\n",
    "                                     bounds = ((.001,1),(.001,1),(.001,1)))\n",
    "        \n",
    "        variance = .01**2 * opt.x[0] / (1 - opt.x[1] - opt.x[2])   # Times .01**2 because it concerns squared returns\n",
    "        \n",
    "        return np.append(opt.x, variance)"
   ]
  },
  {
   "cell_type": "code",
   "execution_count": 25,
   "metadata": {},
   "outputs": [],
   "source": [
    "from arch import arch_model\n",
    "import matplotlib.pyplot as plt"
   ]
  },
  {
   "cell_type": "code",
   "execution_count": 26,
   "metadata": {},
   "outputs": [],
   "source": [
    "def run_garch(data,cryptoType, conf_interval):\n",
    "    print(\"=\"*40)\n",
    "    print(\"=\"*40)\n",
    "    print (\"Running Garch 1,1 model for %s\" %cryptoType)\n",
    "    model = garchOneOne(data)\n",
    "    arch_m = arch_model(data, mean = 'Zero', vol = 'GARCH')\n",
    "    arch_m = arch_m.fit()\n",
    "    conf_int = pd.DataFrame(arch_m.conf_int(alpha = conf_interval))\n",
    "    conf_int['garchOneOne'] = model.coefficients[:-1]\n",
    "    conf_int['Test'] = np.where(conf_int['garchOneOne'] < conf_int['upper'], np.where(conf_int['garchOneOne'] > conf_int['lower'], \"Ok\", \"Not ok\"), \"Not ok\") \n",
    "    print(\"conf_int for %s\" %cryptoType)\n",
    "    print(conf_int)\n",
    "    \n",
    "    %matplotlib inline\n",
    "    df = pd.DataFrame(np.sqrt(model.sigma_2))\n",
    "    print(df.head())\n",
    "    # Plotting the data\n",
    "    plt.plot(df, label = ' GARCH(1,1)', linewidth = .75)\n",
    "    plt.legend()\n",
    "    plt.title('GARCH(1,1) processes of %s' %cryptoType, fontweight = 'bold')\n",
    "    return model.sigma_2"
   ]
  },
  {
   "cell_type": "code",
   "execution_count": 30,
   "metadata": {
    "scrolled": true
   },
   "outputs": [
    {
     "name": "stdout",
     "output_type": "stream",
     "text": [
      "========================================\n",
      "========================================\n",
      "Running Garch 1,1 model for BTC\n",
      "Iteration:      1,   Func. Count:      5,   Neg. LLF: 4018515.218934022\n",
      "Iteration:      2,   Func. Count:     11,   Neg. LLF: -2660.05848579102\n",
      "Iteration:      3,   Func. Count:     17,   Neg. LLF: -1545.4172201787667\n",
      "Iteration:      4,   Func. Count:     22,   Neg. LLF: -2728.2596470486496\n",
      "Iteration:      5,   Func. Count:     27,   Neg. LLF: -2721.7286051459887\n",
      "Iteration:      6,   Func. Count:     32,   Neg. LLF: -2580.1332642257266\n",
      "Iteration:      7,   Func. Count:     37,   Neg. LLF: -2764.5978703684464\n",
      "Iteration:      8,   Func. Count:     41,   Neg. LLF: -2764.6385118201106\n",
      "Iteration:      9,   Func. Count:     45,   Neg. LLF: -2764.645700886025\n",
      "Iteration:     10,   Func. Count:     49,   Neg. LLF: -2764.647337086943\n",
      "Iteration:     11,   Func. Count:     53,   Neg. LLF: -2764.6474164790993\n",
      "Iteration:     12,   Func. Count:     57,   Neg. LLF: -2764.647415251861\n",
      "Optimization terminated successfully    (Exit mode 0)\n",
      "            Current function value: -2764.6474164790925\n",
      "            Iterations: 12\n",
      "            Function evaluations: 67\n",
      "            Gradient evaluations: 12\n",
      "conf_int for BTC\n",
      "             lower     upper  garchOneOne    Test\n",
      "omega     0.000045  0.000194     0.001000  Not ok\n",
      "alpha[1]  0.047044  0.212584     0.015810  Not ok\n",
      "beta[1]   0.755897  0.877723     0.423769  Not ok\n",
      "          0\n",
      "0  0.042242\n",
      "1  0.041993\n",
      "2  0.043685\n",
      "3  0.045588\n",
      "4  0.045763\n"
     ]
    },
    {
     "name": "stderr",
     "output_type": "stream",
     "text": [
      "C:\\Users\\USER\\Anaconda3\\lib\\site-packages\\ipykernel_launcher.py:40: RuntimeWarning: invalid value encountered in log\n",
      "C:\\Users\\USER\\AppData\\Roaming\\Python\\Python37\\site-packages\\arch\\univariate\\base.py:317: DataScaleWarning: y is poorly scaled, which may affect convergence of the optimizer when\n",
      "estimating the model parameters. The scale of y is 0.001831. Parameter\n",
      "estimation work better when this value is between 1 and 1000. The recommended\n",
      "rescaling is 10 * y.\n",
      "\n",
      "This warning can be disabled by either rescaling y before initializing the\n",
      "model or by setting rescale=False.\n",
      "\n",
      "  data_scale_warning.format(orig_scale, rescale), DataScaleWarning\n"
     ]
    },
    {
     "data": {
      "image/png": "[encoded data removed]",
      "text/plain": [
       "<Figure size 432x288 with 1 Axes>"
      ]
     },
     "metadata": {
      "needs_background": "light"
     },
     "output_type": "display_data"
    }
   ],
   "source": [
    "btc_sigma = run_garch(return_dataset.btc.to_numpy(), \"BTC\", 0.05)"
   ]
  },
  {
   "cell_type": "code",
   "execution_count": 31,
   "metadata": {},
   "outputs": [
    {
     "name": "stdout",
     "output_type": "stream",
     "text": [
      "========================================\n",
      "========================================\n",
      "Running Garch 1,1 model for ETH\n",
      "Iteration:      1,   Func. Count:      4,   Neg. LLF: -2330.9549992592774\n",
      "Optimization terminated successfully    (Exit mode 0)\n",
      "            Current function value: -2330.9550013204953\n",
      "            Iterations: 5\n",
      "            Function evaluations: 4\n",
      "            Gradient evaluations: 1\n",
      "conf_int for ETH\n",
      "             lower     upper  garchOneOne    Test\n",
      "omega    -0.000034  0.000682     0.001000  Not ok\n",
      "alpha[1]  0.048298  0.151702     0.211844  Not ok\n",
      "beta[1]   0.667956  0.932044     0.509365  Not ok\n",
      "          0\n",
      "0  0.059891\n",
      "1  0.086797\n",
      "2  0.096642\n",
      "3  0.087074\n",
      "4  0.069727\n"
     ]
    },
    {
     "name": "stderr",
     "output_type": "stream",
     "text": [
      "C:\\Users\\USER\\AppData\\Roaming\\Python\\Python37\\site-packages\\arch\\univariate\\base.py:317: DataScaleWarning: y is poorly scaled, which may affect convergence of the optimizer when\n",
      "estimating the model parameters. The scale of y is 0.003231. Parameter\n",
      "estimation work better when this value is between 1 and 1000. The recommended\n",
      "rescaling is 10 * y.\n",
      "\n",
      "This warning can be disabled by either rescaling y before initializing the\n",
      "model or by setting rescale=False.\n",
      "\n",
      "  data_scale_warning.format(orig_scale, rescale), DataScaleWarning\n"
     ]
    },
    {
     "data": {
      "image/png": "[encoded data removed]",
      "text/plain": [
       "<Figure size 432x288 with 1 Axes>"
      ]
     },
     "metadata": {
      "needs_background": "light"
     },
     "output_type": "display_data"
    }
   ],
   "source": [
    "eth_sigma = run_garch(return_dataset.eth.to_numpy(), \"ETH\", 0.05)"
   ]
  },
  {
   "cell_type": "code",
   "execution_count": 32,
   "metadata": {
    "scrolled": true
   },
   "outputs": [
    {
     "name": "stdout",
     "output_type": "stream",
     "text": [
      "========================================\n",
      "========================================\n",
      "Running Garch 1,1 model for XRP\n",
      "Iteration:      1,   Func. Count:      4,   Neg. LLF: -2209.567443300443\n",
      "Optimization terminated successfully    (Exit mode 0)\n",
      "            Current function value: -2209.567430293236\n",
      "            Iterations: 5\n",
      "            Function evaluations: 4\n",
      "            Gradient evaluations: 1\n",
      "conf_int for XRP\n",
      "             lower     upper  garchOneOne    Test\n",
      "omega    -0.000099  0.000330     0.001000  Not ok\n",
      "alpha[1] -0.045024  0.445024     0.546005  Not ok\n",
      "beta[1]   0.459835  1.100165     0.401020  Not ok\n",
      "          0\n",
      "0  0.137393\n",
      "1  0.092985\n",
      "2  0.070056\n",
      "3  0.069228\n",
      "4  0.055705\n"
     ]
    },
    {
     "name": "stderr",
     "output_type": "stream",
     "text": [
      "C:\\Users\\USER\\AppData\\Roaming\\Python\\Python37\\site-packages\\arch\\univariate\\base.py:317: DataScaleWarning: y is poorly scaled, which may affect convergence of the optimizer when\n",
      "estimating the model parameters. The scale of y is 0.005754. Parameter\n",
      "estimation work better when this value is between 1 and 1000. The recommended\n",
      "rescaling is 10 * y.\n",
      "\n",
      "This warning can be disabled by either rescaling y before initializing the\n",
      "model or by setting rescale=False.\n",
      "\n",
      "  data_scale_warning.format(orig_scale, rescale), DataScaleWarning\n"
     ]
    },
    {
     "data": {
      "image/png": "[encoded data removed]",
      "text/plain": [
       "<Figure size 432x288 with 1 Axes>"
      ]
     },
     "metadata": {
      "needs_background": "light"
     },
     "output_type": "display_data"
    }
   ],
   "source": [
    "xrp_sigma = run_garch(return_dataset.xrp.to_numpy(), \"XRP\", 0.05)"
   ]
  },
  {
   "cell_type": "code",
   "execution_count": 33,
   "metadata": {},
   "outputs": [],
   "source": [
    "gamma_vol_95 = pd.DataFrame({'btc': return_dataset.btc, 'vol_95_btc': btc_sigma,\n",
    "              'eth': return_dataset.eth, 'vol_95_eth': eth_sigma,\n",
    "              'xrp': return_dataset.xrp, 'vol_95_xrp': xrp_sigma})"
   ]
  },
  {
   "cell_type": "code",
   "execution_count": 34,
   "metadata": {},
   "outputs": [
    {
     "data": {
      "text/html": [
       "<div>\n",
       "<style scoped>\n",
       "    .dataframe tbody tr th:only-of-type {\n",
       "        vertical-align: middle;\n",
       "    }\n",
       "\n",
       "    .dataframe tbody tr th {\n",
       "        vertical-align: top;\n",
       "    }\n",
       "\n",
       "    .dataframe thead th {\n",
       "        text-align: right;\n",
       "    }\n",
       "</style>\n",
       "<table border=\"1\" class=\"dataframe\">\n",
       "  <thead>\n",
       "    <tr style=\"text-align: right;\">\n",
       "      <th></th>\n",
       "      <th>btc</th>\n",
       "      <th>vol_95_btc</th>\n",
       "      <th>eth</th>\n",
       "      <th>vol_95_eth</th>\n",
       "      <th>xrp</th>\n",
       "      <th>vol_95_xrp</th>\n",
       "    </tr>\n",
       "  </thead>\n",
       "  <tbody>\n",
       "    <tr>\n",
       "      <th>0</th>\n",
       "      <td>0.021389</td>\n",
       "      <td>0.001784</td>\n",
       "      <td>0.149056</td>\n",
       "      <td>0.003587</td>\n",
       "      <td>0.011814</td>\n",
       "      <td>0.018877</td>\n",
       "    </tr>\n",
       "    <tr>\n",
       "      <th>1</th>\n",
       "      <td>0.100960</td>\n",
       "      <td>0.001763</td>\n",
       "      <td>0.145785</td>\n",
       "      <td>0.007534</td>\n",
       "      <td>0.028406</td>\n",
       "      <td>0.008646</td>\n",
       "    </tr>\n",
       "    <tr>\n",
       "      <th>2</th>\n",
       "      <td>-0.130575</td>\n",
       "      <td>0.001908</td>\n",
       "      <td>-0.092803</td>\n",
       "      <td>0.009340</td>\n",
       "      <td>-0.057803</td>\n",
       "      <td>0.004908</td>\n",
       "    </tr>\n",
       "    <tr>\n",
       "      <th>3</th>\n",
       "      <td>-0.116209</td>\n",
       "      <td>0.002078</td>\n",
       "      <td>0.000029</td>\n",
       "      <td>0.007582</td>\n",
       "      <td>0.018217</td>\n",
       "      <td>0.004792</td>\n",
       "    </tr>\n",
       "    <tr>\n",
       "      <th>4</th>\n",
       "      <td>0.007051</td>\n",
       "      <td>0.002094</td>\n",
       "      <td>-0.038521</td>\n",
       "      <td>0.004862</td>\n",
       "      <td>0.008044</td>\n",
       "      <td>0.003103</td>\n",
       "    </tr>\n",
       "  </tbody>\n",
       "</table>\n",
       "</div>"
      ],
      "text/plain": [
       "        btc  vol_95_btc       eth  vol_95_eth       xrp  vol_95_xrp\n",
       "0  0.021389    0.001784  0.149056    0.003587  0.011814    0.018877\n",
       "1  0.100960    0.001763  0.145785    0.007534  0.028406    0.008646\n",
       "2 -0.130575    0.001908 -0.092803    0.009340 -0.057803    0.004908\n",
       "3 -0.116209    0.002078  0.000029    0.007582  0.018217    0.004792\n",
       "4  0.007051    0.002094 -0.038521    0.004862  0.008044    0.003103"
      ]
     },
     "execution_count": 34,
     "metadata": {},
     "output_type": "execute_result"
    }
   ],
   "source": [
    "gamma_vol_95.head()"
   ]
  },
  {
   "cell_type": "code",
   "execution_count": 35,
   "metadata": {},
   "outputs": [],
   "source": [
    "gamma_vol_95.to_csv('gammas.csv', index=False)  "
   ]
  },
  {
   "cell_type": "code",
   "execution_count": null,
   "metadata": {},
   "outputs": [],
   "source": []
  }
 ],
 "metadata": {
  "kernelspec": {
   "display_name": "Python 3",
   "language": "python",
   "name": "python3"
  },
  "language_info": {
   "codemirror_mode": {
    "name": "ipython",
    "version": 3
   },
   "file_extension": ".py",
   "mimetype": "text/x-python",
   "name": "python",
   "nbconvert_exporter": "python",
   "pygments_lexer": "ipython3",
   "version": "3.7.3"
  },
  "pycharm": {
   "stem_cell": {
    "cell_type": "raw",
    "metadata": {
     "collapsed": false
    },
    "source": []
   }
  }
 },
 "nbformat": 4,
 "nbformat_minor": 1
}
