{
 "cells": [
  {
   "cell_type": "markdown",
   "metadata": {},
   "source": [
    "# Date Preprocessing for EWMA Matlab"
   ]
  },
  {
   "cell_type": "code",
   "execution_count": 1,
   "metadata": {},
   "outputs": [],
   "source": [
    "import pandas as pd\n",
    "import numpy as np\n",
    "from arch import arch_model\n",
    "import matplotlib.pyplot as plt\n",
    "from scipy.stats import norm\n",
    "import matplotlib.mlab as mlab"
   ]
  },
  {
   "cell_type": "code",
   "execution_count": 9,
   "metadata": {},
   "outputs": [],
   "source": [
    "# data from 2017.1.1 to 2021.3.28\n",
    "btc = pd.read_csv('data/BTC-USD.csv')\n",
    "eth = pd.read_csv('data/ETH-USD.csv')\n",
    "xrp = pd.read_csv('data/XRP-USD.csv')"
   ]
  },
  {
   "cell_type": "code",
   "execution_count": 10,
   "metadata": {},
   "outputs": [],
   "source": [
    "# only using adj close data\n",
    "btc_price = btc['Adj Close'].to_numpy()\n",
    "eth_price = eth['Adj Close'].to_numpy()\n",
    "xrp_price = xrp['Adj Close'].to_numpy()"
   ]
  },
  {
   "cell_type": "code",
   "execution_count": 11,
   "metadata": {},
   "outputs": [],
   "source": [
    "date_array = btc['Date'].to_numpy()"
   ]
  },
  {
   "cell_type": "code",
   "execution_count": 12,
   "metadata": {},
   "outputs": [],
   "source": [
    "price_dataset = pd.DataFrame({'Date': date_array, 'btc': btc_price, 'eth': eth_price, 'xrp': xrp_price})"
   ]
  },
  {
   "cell_type": "code",
   "execution_count": 13,
   "metadata": {},
   "outputs": [
    {
     "data": {
      "text/plain": [
       "True"
      ]
     },
     "execution_count": 13,
     "metadata": {},
     "output_type": "execute_result"
    }
   ],
   "source": [
    "price_dataset.isnull().values.any()"
   ]
  },
  {
   "cell_type": "code",
   "execution_count": 14,
   "metadata": {},
   "outputs": [],
   "source": [
    "price_dataset = price_dataset.dropna()"
   ]
  },
  {
   "cell_type": "code",
   "execution_count": 15,
   "metadata": {},
   "outputs": [],
   "source": [
    "# convert price to returns and adjust length\n",
    "# e.g. 1.1 $100, 1.2 : $120, return: 1.2 with ln(120) - ln(100)\n",
    "# u(i) = ln(s(i)/s(i-1))\n",
    "return_btc = np.diff(np.log(price_dataset.btc), n=1, axis=0)\n",
    "return_eth = np.diff(np.log(price_dataset.eth), n=1, axis=0)\n",
    "return_xrp = np.diff(np.log(price_dataset.xrp), n=1, axis=0)"
   ]
  },
  {
   "cell_type": "code",
   "execution_count": 16,
   "metadata": {},
   "outputs": [],
   "source": [
    "return_dataset = pd.DataFrame({'Date': price_dataset.Date.to_numpy()[1:], 'btc': return_btc, 'eth': return_eth, 'xrp': return_xrp})"
   ]
  },
  {
   "cell_type": "code",
   "execution_count": 17,
   "metadata": {},
   "outputs": [
    {
     "data": {
      "text/plain": [
       "False"
      ]
     },
     "execution_count": 17,
     "metadata": {},
     "output_type": "execute_result"
    }
   ],
   "source": [
    "return_dataset.isnull().values.any()"
   ]
  },
  {
   "cell_type": "code",
   "execution_count": 20,
   "metadata": {},
   "outputs": [],
   "source": [
    "return_dataset.to_csv('returns.csv', index=False)  "
   ]
  },
  {
   "cell_type": "code",
   "execution_count": 21,
   "metadata": {},
   "outputs": [
    {
     "name": "stdout",
     "output_type": "stream",
     "text": [
      "363\n"
     ]
    }
   ],
   "source": [
    "# get the index from the df for 2018-01-01\n",
    "i_2018 = return_dataset[return_dataset['Date']=='2018-01-01'].index[0]\n",
    "print(i_2018)"
   ]
  },
  {
   "cell_type": "code",
   "execution_count": 22,
   "metadata": {},
   "outputs": [],
   "source": [
    "return_data_2018 = return_dataset.iloc[i_2018:]"
   ]
  },
  {
   "cell_type": "code",
   "execution_count": 53,
   "metadata": {},
   "outputs": [],
   "source": [
    "return_data_2018.to_csv('returns_2018.csv', index=False)  "
   ]
  },
  {
   "cell_type": "code",
   "execution_count": 24,
   "metadata": {
    "scrolled": true
   },
   "outputs": [
    {
     "data": {
      "text/html": [
       "<div>\n",
       "<style scoped>\n",
       "    .dataframe tbody tr th:only-of-type {\n",
       "        vertical-align: middle;\n",
       "    }\n",
       "\n",
       "    .dataframe tbody tr th {\n",
       "        vertical-align: top;\n",
       "    }\n",
       "\n",
       "    .dataframe thead th {\n",
       "        text-align: right;\n",
       "    }\n",
       "</style>\n",
       "<table border=\"1\" class=\"dataframe\">\n",
       "  <thead>\n",
       "    <tr style=\"text-align: right;\">\n",
       "      <th></th>\n",
       "      <th>Date</th>\n",
       "      <th>btc</th>\n",
       "      <th>eth</th>\n",
       "      <th>xrp</th>\n",
       "    </tr>\n",
       "  </thead>\n",
       "  <tbody>\n",
       "    <tr>\n",
       "      <th>363</th>\n",
       "      <td>2018-01-01</td>\n",
       "      <td>-0.035900</td>\n",
       "      <td>0.020804</td>\n",
       "      <td>0.038567</td>\n",
       "    </tr>\n",
       "    <tr>\n",
       "      <th>364</th>\n",
       "      <td>2018-01-02</td>\n",
       "      <td>0.092589</td>\n",
       "      <td>0.135145</td>\n",
       "      <td>0.036897</td>\n",
       "    </tr>\n",
       "    <tr>\n",
       "      <th>365</th>\n",
       "      <td>2018-01-03</td>\n",
       "      <td>0.014505</td>\n",
       "      <td>0.084803</td>\n",
       "      <td>0.224511</td>\n",
       "    </tr>\n",
       "    <tr>\n",
       "      <th>366</th>\n",
       "      <td>2018-01-04</td>\n",
       "      <td>0.025858</td>\n",
       "      <td>0.018730</td>\n",
       "      <td>0.028964</td>\n",
       "    </tr>\n",
       "    <tr>\n",
       "      <th>367</th>\n",
       "      <td>2018-01-05</td>\n",
       "      <td>0.110945</td>\n",
       "      <td>0.016980</td>\n",
       "      <td>-0.047379</td>\n",
       "    </tr>\n",
       "  </tbody>\n",
       "</table>\n",
       "</div>"
      ],
      "text/plain": [
       "           Date       btc       eth       xrp\n",
       "363  2018-01-01 -0.035900  0.020804  0.038567\n",
       "364  2018-01-02  0.092589  0.135145  0.036897\n",
       "365  2018-01-03  0.014505  0.084803  0.224511\n",
       "366  2018-01-04  0.025858  0.018730  0.028964\n",
       "367  2018-01-05  0.110945  0.016980 -0.047379"
      ]
     },
     "execution_count": 24,
     "metadata": {},
     "output_type": "execute_result"
    }
   ],
   "source": [
    "return_data_2018.head()"
   ]
  },
  {
   "cell_type": "markdown",
   "metadata": {},
   "source": [
    "# EWMA calculation"
   ]
  },
  {
   "cell_type": "code",
   "execution_count": 56,
   "metadata": {},
   "outputs": [],
   "source": [
    "# data from 2017.1.1 to 2021.3.28\n",
    "return_dataset = pd.read_csv('processed_data/returns.csv')\n",
    "return_dataset_2018 = pd.read_csv('processed_data/returns_2018.csv')"
   ]
  },
  {
   "cell_type": "code",
   "execution_count": 32,
   "metadata": {},
   "outputs": [],
   "source": [
    "y = return_dataset[['btc','eth','xrp']].to_numpy()\n",
    "T = len(return_dataset)\n",
    "VAR = np.full([T,3], np.nan)\n",
    "COV = np.full([T,3], np.nan)\n",
    "lmbda = 0.94\n",
    "S = np.cov(y, rowvar = False)\n",
    "S_matrix = np.full([T,3,3], np.nan)\n",
    "S_matrix[0,] = S\n",
    "VAR[0,] = [S[0,0],S[1,1],S[2,2]]\n",
    "COV[0,] = [S[0,1],S[0,2],S[1,2]]\n",
    "\n",
    "for i in range(1,T):\n",
    "    S = lmbda * S_matrix[i-1] + (1-lmbda) * np.transpose(np.asmatrix(y[i-1]))* np.asmatrix(y[i-1])\n",
    "    S_matrix[i] = S\n",
    "    VAR[i,] = [S[0,0],S[1,1],S[2,2]] # var_btc,var_eth,var_xrp\n",
    "    COV[i,] = [S[0,1],S[0,2],S[1,2]] # cov12,cov13,cov23"
   ]
  },
  {
   "cell_type": "code",
   "execution_count": 33,
   "metadata": {},
   "outputs": [],
   "source": [
    "T_2018 =T - i_2018\n",
    "VAR_2018 = np.full([T_2018,3], np.nan)\n",
    "COV_2018 = np.full([T_2018,3], np.nan)"
   ]
  },
  {
   "cell_type": "code",
   "execution_count": 34,
   "metadata": {
    "scrolled": true
   },
   "outputs": [],
   "source": [
    "pVar = 0.05\n",
    "Zscore = norm.ppf(pVar) \n",
    "# Get individual EWMA95\n",
    "df_ewma_95 = pd.DataFrame({\"btc\":[],\"var_95_btc\":[],\n",
    "                           \"eth\":[],\"var_95_eth\":[],\n",
    "                           \"xrp\":[],\"var_95_xrp\":[]})"
   ]
  },
  {
   "cell_type": "code",
   "execution_count": 35,
   "metadata": {},
   "outputs": [],
   "source": [
    "count = 0\n",
    "for i in range(i_2018,T):\n",
    "    VAR_2018[count,] = VAR[i,:]\n",
    "    COV_2018[count,] = COV[i,:]\n",
    "    v_var_95_btc, v_var_95_eth, v_var_95_xrp = -Zscore * np.sqrt(VAR[i,:])\n",
    "    returns_btc_eth_xrp = return_dataset.iloc[i,:]\n",
    "    v_return_btc = returns_btc_eth_xrp[1]\n",
    "    v_return_eth = returns_btc_eth_xrp[2]\n",
    "    v_return_xrp = returns_btc_eth_xrp[3]    \n",
    "    update_data = [v_return_btc,v_var_95_btc, v_return_eth,v_var_95_eth, v_return_xrp,v_var_95_xrp]\n",
    "    df_ewma_95.loc[count] = update_data\n",
    "    count += 1"
   ]
  },
  {
   "cell_type": "code",
   "execution_count": null,
   "metadata": {},
   "outputs": [],
   "source": [
    "df_ewma_95.to_excel(\"ewma_95.xlsx\",index=False)"
   ]
  },
  {
   "cell_type": "code",
   "execution_count": 36,
   "metadata": {},
   "outputs": [],
   "source": [
    "# save numpy array as npy file\n",
    "from numpy import asarray\n",
    "from numpy import save\n",
    "data_var_2018 = asarray(VAR_2018)\n",
    "# save to npy file\n",
    "save('data_var.npy', data_var_2018)\n",
    "data_cov = asarray(COV_2018)\n",
    "# save to npy file\n",
    "save('data_cov.npy', data_cov)"
   ]
  },
  {
   "cell_type": "code",
   "execution_count": null,
   "metadata": {},
   "outputs": [],
   "source": []
  },
  {
   "cell_type": "markdown",
   "metadata": {},
   "source": [
    "# Monte Carlo with EWMA"
   ]
  },
  {
   "cell_type": "code",
   "execution_count": 44,
   "metadata": {},
   "outputs": [],
   "source": [
    "np.random.seed(42)\n",
    "df_mc_95 = pd.DataFrame({\"btc\":[],\"var_95_btc\":[],\n",
    "                           \"eth\":[],\"var_95_eth\":[],\n",
    "                           \"xrp\":[],\"var_95_xrp\":[]})\n",
    "for i in range (0,len(VAR_2018)):\n",
    "    mean = 0\n",
    "    std_all = np.sqrt(VAR_2018[i])\n",
    "    std_btc = std_all[0]\n",
    "    std_eth = std_all[1]\n",
    "    std_xrp = std_all[2]\n",
    "    n_sims = 1000\n",
    "    sim_returns_btc = np.random.normal(mean, std_btc, n_sims)\n",
    "    sim_returns_eth = np.random.normal(mean, std_eth, n_sims)\n",
    "    sim_returns_xrp = np.random.normal(mean, std_xrp, n_sims)\n",
    "    v_var_95_btc = -np.percentile(sim_returns_btc, 5)\n",
    "    v_var_95_eth = -np.percentile(sim_returns_eth, 5)\n",
    "    v_var_95_xrp = -np.percentile(sim_returns_xrp, 5)\n",
    "    returns_btc_eth_xrp = return_data_2018.iloc[i,:]\n",
    "    v_return_btc = returns_btc_eth_xrp[1]\n",
    "    v_return_eth = returns_btc_eth_xrp[2]\n",
    "    v_return_xrp = returns_btc_eth_xrp[3]    \n",
    "    update_data = [v_return_btc,v_var_95_btc, v_return_eth,v_var_95_eth, v_return_xrp,v_var_95_xrp]\n",
    "    df_mc_95.loc[i] = update_data"
   ]
  },
  {
   "cell_type": "code",
   "execution_count": 49,
   "metadata": {},
   "outputs": [],
   "source": [
    "import matplotlib.pyplot as plt\n",
    "# mu: mean\n",
    "# sigma: real std\n",
    "# s: simulated values\n",
    "def plot_mc(mu,sigma,s):\n",
    "    count, bins, ignored = plt.hist(s, 30, density=True)\n",
    "    plt.plot(bins, 1/(sigma * np.sqrt(2 * np.pi)) *np.exp( - (bins - mu)**2 / (2 * sigma**2) ),linewidth=2, color='r')\n",
    "    plt.show()"
   ]
  },
  {
   "cell_type": "code",
   "execution_count": 50,
   "metadata": {},
   "outputs": [
    {
     "data": {
      "image/png": "[encoded data removed]",
      "text/plain": [
       "<Figure size 432x288 with 1 Axes>"
      ]
     },
     "metadata": {
      "needs_background": "light"
     },
     "output_type": "display_data"
    }
   ],
   "source": [
    "# plot last day btc\n",
    "mu = 0\n",
    "sigma = std_btc\n",
    "s = sim_returns_btc\n",
    "plot_mc(mu,sigma,s)"
   ]
  },
  {
   "cell_type": "code",
   "execution_count": 51,
   "metadata": {},
   "outputs": [
    {
     "data": {
      "image/png": "[encoded data removed]",
      "text/plain": [
       "<Figure size 432x288 with 1 Axes>"
      ]
     },
     "metadata": {
      "needs_background": "light"
     },
     "output_type": "display_data"
    }
   ],
   "source": [
    "# plot last day eth\n",
    "mu = 0\n",
    "sigma = std_eth\n",
    "s = sim_returns_eth\n",
    "plot_mc(mu,sigma,s)"
   ]
  },
  {
   "cell_type": "code",
   "execution_count": 52,
   "metadata": {},
   "outputs": [
    {
     "data": {
      "image/png": "[encoded data removed]",
      "text/plain": [
       "<Figure size 432x288 with 1 Axes>"
      ]
     },
     "metadata": {
      "needs_background": "light"
     },
     "output_type": "display_data"
    }
   ],
   "source": [
    "# plot last day xrp\n",
    "mu = 0\n",
    "sigma = std_xrp\n",
    "s = sim_returns_xrp\n",
    "plot_mc(mu,sigma,s)"
   ]
  },
  {
   "cell_type": "code",
   "execution_count": 46,
   "metadata": {},
   "outputs": [],
   "source": [
    "df_mc_95.to_excel(\"df_mc_95.xlsx\",index=False)"
   ]
  },
  {
   "cell_type": "code",
   "execution_count": null,
   "metadata": {},
   "outputs": [],
   "source": []
  },
  {
   "cell_type": "markdown",
   "metadata": {},
   "source": [
    "# Plot distributions"
   ]
  },
  {
   "cell_type": "code",
   "execution_count": 18,
   "metadata": {
    "scrolled": true
   },
   "outputs": [],
   "source": [
    "crptocurrencies = ['btc','eth','xrp']\n",
    "weights = np.array([1/3,1/3,1/3]) # assume equal weightage\n",
    "bins_num = 100\n",
    "\n",
    "# var-cov matrix\n",
    "cov_matrix = return_data_2018.cov()\n",
    "# Calculate mean returns for each stock\n",
    "avg_rets = return_data_2018.mean()\n",
    "port_mean = avg_rets.dot(weights)\n",
    "# Calculate portfolio standard deviation\n",
    "port_stdev = np.sqrt(weights.T.dot(cov_matrix).dot(weights))\n",
    "# Repeat for each equity in portfolio\n",
    "return_data_2018['btc'].hist(bins=bins_num, normed=True,histtype=\"stepfilled\",alpha=0.5)\n",
    "x = np.linspace(port_mean - 3*port_stdev, port_mean+3*port_stdev,100)\n",
    "plt.plot(x, scipy.stats.norm.pdf(x, port_mean, port_stdev), \"r\")\n",
    "plt.title(\"BTC returns (binned) vs. normal distribution\")\n",
    "plt.show()"
   ]
  },
  {
   "cell_type": "code",
   "execution_count": 20,
   "metadata": {},
   "outputs": [
    {
     "data": {
      "image/png": "[encoded data removed]",
      "text/plain": [
       "<Figure size 432x288 with 1 Axes>"
      ]
     },
     "metadata": {
      "needs_background": "light"
     },
     "output_type": "display_data"
    }
   ],
   "source": [
    "# Repeat for each equity in portfolio\n",
    "return_data_2018['eth'].hist(bins=bins_num, normed=True,histtype=\"stepfilled\",alpha=0.5)\n",
    "x = np.linspace(port_mean - 3*port_stdev, port_mean+3*port_stdev,100)\n",
    "plt.plot(x, scipy.stats.norm.pdf(x, port_mean, port_stdev), \"r\")\n",
    "plt.title(\"ETH returns (binned) vs. normal distribution\")\n",
    "plt.show()"
   ]
  },
  {
   "cell_type": "code",
   "execution_count": 21,
   "metadata": {
    "scrolled": true
   },
   "outputs": [
    {
     "data": {
      "image/png": "[encoded data removed]",
      "text/plain": [
       "<Figure size 432x288 with 1 Axes>"
      ]
     },
     "metadata": {
      "needs_background": "light"
     },
     "output_type": "display_data"
    }
   ],
   "source": [
    "# Repeat for each equity in portfolio\n",
    "return_data_2018['xrp'].hist(bins=bins_num, normed=True,histtype=\"stepfilled\",alpha=0.5)\n",
    "x = np.linspace(port_mean - 3*port_stdev, port_mean+3*port_stdev,100)\n",
    "plt.plot(x, scipy.stats.norm.pdf(x, port_mean, port_stdev), \"r\")\n",
    "plt.title(\"XRP returns (binned) vs. normal distribution\")\n",
    "plt.show()"
   ]
  },
  {
   "cell_type": "code",
   "execution_count": null,
   "metadata": {},
   "outputs": [],
   "source": []
  },
  {
   "cell_type": "markdown",
   "metadata": {},
   "source": [
    "# User inputs for portforlio Var"
   ]
  },
  {
   "cell_type": "code",
   "execution_count": null,
   "metadata": {},
   "outputs": [],
   "source": [
    "crptocurrencies = ['btc','eth','xrp']\n",
    "# var-cov matrix\n",
    "# cov_matrix = return_data_2018.cov()\n",
    "# Calculate mean returns for each stock\n",
    "# avg_rets = return_data_2018.mean()\n",
    "# w_... : weight_...\n",
    "# v_... : var...\n",
    "# cov12 : covariance(1,2)\n",
    "def portfolio_daily_var(w1,w2,w3,v1,v2,v3,cov12,cov13,cov23):\n",
    "    return (w1**2)*v1 + (w2**2)*v2 + (w3**2)*v3 \\\n",
    "        + 2*w1*w2*cov12 + 2*w1*w3*cov13 + 2*w2*w3*cov23 "
   ]
  },
  {
   "cell_type": "code",
   "execution_count": 40,
   "metadata": {},
   "outputs": [],
   "source": [
    "import math\n",
    "btc_value = 3000\n",
    "eth_value = 3200\n",
    "xrp_value = 4800\n",
    "\n",
    "def getVar(btc_value,eth_value,xrp_value):\n",
    "    total_investment = btc_value + eth_value + xrp_value\n",
    "    if (total_investment == 0): total_investment = 0.0000000000001\n",
    "    w_btc = btc_value/total_investment\n",
    "    w_eth = eth_value/total_investment\n",
    "    w_xrp = xrp_value/total_investment\n",
    "    weights = np.array([w_btc,w_eth,w_xrp]) # assume equal weightage\n",
    "    portfolioVariance = np.zeros(T)\n",
    "    for i in range(0,T):\n",
    "        portfolioVariance[i] = portfolio_daily_var(w_btc,w_eth,w_xrp,\n",
    "                                     VAR[i,0],VAR[i,1],VAR[i,2],\n",
    "                                     COV[i,0],COV[i,1],COV[i,2])\n",
    "    EWMA95 = np.zeros(T)\n",
    "    EWMA95[0] = portfolioVariance[0]\n",
    "    for t in range(1,len(return_data_2018)):\n",
    "        Sigma = math.sqrt(portfolioVariance[t])\n",
    "        EWMA95[t] = -Zscore*Sigma\n",
    "    # new-day var in dollars\n",
    "    var_1d1 = total_investment * EWMA95[-1]\n",
    "    \n",
    "    return var_1d1"
   ]
  },
  {
   "cell_type": "code",
   "execution_count": 41,
   "metadata": {},
   "outputs": [
    {
     "data": {
      "text/plain": [
       "751.5856334214026"
      ]
     },
     "execution_count": 41,
     "metadata": {},
     "output_type": "execute_result"
    }
   ],
   "source": [
    "getVar(btc_value,eth_value,xrp_value)"
   ]
  },
  {
   "cell_type": "code",
   "execution_count": 83,
   "metadata": {
    "scrolled": true
   },
   "outputs": [
    {
     "name": "stdout",
     "output_type": "stream",
     "text": [
      "1 day VaR @ 95% confidence: 751.59\n",
      "2 day VaR @ 95% confidence: 1062.9\n",
      "3 day VaR @ 95% confidence: 1301.78\n",
      "4 day VaR @ 95% confidence: 1503.17\n",
      "5 day VaR @ 95% confidence: 1680.6\n",
      "6 day VaR @ 95% confidence: 1841.0\n",
      "7 day VaR @ 95% confidence: 1988.51\n",
      "8 day VaR @ 95% confidence: 2125.81\n",
      "9 day VaR @ 95% confidence: 2254.76\n",
      "10 day VaR @ 95% confidence: 2376.72\n",
      "11 day VaR @ 95% confidence: 2492.73\n",
      "12 day VaR @ 95% confidence: 2603.57\n",
      "13 day VaR @ 95% confidence: 2709.88\n",
      "14 day VaR @ 95% confidence: 2812.18\n",
      "15 day VaR @ 95% confidence: 2910.88\n"
     ]
    },
    {
     "data": {
      "image/png": "[encoded data removed]",
      "text/plain": [
       "<Figure size 432x288 with 1 Axes>"
      ]
     },
     "metadata": {
      "needs_background": "light"
     },
     "output_type": "display_data"
    }
   ],
   "source": [
    "\n",
    "var_array = []\n",
    "num_days = int(15)\n",
    "for x in range(1, num_days+1):    \n",
    "    var_array.append(np.round(var_1d1 * np.sqrt(x),2))\n",
    "    print(str(x) + \" day VaR @ 95% confidence: \" + str(np.round(var_1d1 * np.sqrt(x),2)))\n",
    "\n",
    "# Build plot\n",
    "plt.xlabel(\"Day #\")\n",
    "plt.ylabel(\"Max portfolio loss (USD)\")\n",
    "plt.title(\"Max portfolio loss (VaR) over 15-day period\")\n",
    "plt.plot(var_array, \"r\")\n",
    "plt.show()"
   ]
  },
  {
   "cell_type": "code",
   "execution_count": null,
   "metadata": {},
   "outputs": [],
   "source": []
  },
  {
   "cell_type": "code",
   "execution_count": null,
   "metadata": {},
   "outputs": [],
   "source": []
  },
  {
   "cell_type": "markdown",
   "metadata": {},
   "source": [
    "# Garch 1,1 Model"
   ]
  },
  {
   "cell_type": "code",
   "execution_count": 87,
   "metadata": {},
   "outputs": [],
   "source": [
    "import numpy as np\n",
    "import scipy\n",
    "import pandas as pd\n",
    "class garchOneOne(object):\n",
    "       \n",
    "    def __init__(self, logReturns):\n",
    "        self.logReturns = logReturns * 100\n",
    "        self.sigma_2 = self.garch_filter(self.garch_optimization())\n",
    "        self.coefficients = self.garch_optimization()\n",
    "        \n",
    "    def garch_filter(self, parameters):\n",
    "        \"Returns the variance expression of a GARCH(1,1) process.\"\n",
    "        \n",
    "        # Slicing the parameters list\n",
    "        omega = parameters[0]\n",
    "        alpha = parameters[1]\n",
    "        beta = parameters[2]\n",
    "        \n",
    "        # Length of logReturns\n",
    "        length = len(self.logReturns)\n",
    "        \n",
    "        # Initializing an empty array\n",
    "        sigma_2 = np.zeros(length)\n",
    "        \n",
    "        # Filling the array, if i == 0 then uses the long term variance.\n",
    "        for i in range(length):\n",
    "            if i == 0:\n",
    "                sigma_2[i] = omega / (1 - alpha - beta)\n",
    "            else:\n",
    "                sigma_2[i] = omega + alpha * self.logReturns[i-1]**2 + beta * sigma_2[i-1]\n",
    "        \n",
    "        return sigma_2 \n",
    "        \n",
    "    def garch_loglikehihood(self, parameters):\n",
    "        \"Defines the log likelihood sum to be optimized given the parameters.\"\n",
    "        length = len(self.logReturns)\n",
    "        \n",
    "        sigma_2 = self.garch_filter(parameters)\n",
    "        \n",
    "        loglikelihood = - np.sum(-np.log(sigma_2) - self.logReturns**2 / sigma_2)\n",
    "        return loglikelihood\n",
    "    \n",
    "    def garch_optimization(self):\n",
    "        \"Optimizes the log likelihood function and returns estimated coefficients\"\n",
    "        # Parameters initialization\n",
    "        parameters = [.1, .05, .92]\n",
    "        \n",
    "        # Parameters optimization, scipy does not have a maximize function, so we minimize the opposite of the equation described earlier\n",
    "        opt = scipy.optimize.minimize(self.garch_loglikehihood, parameters,\n",
    "                                     bounds = ((.001,1),(.001,1),(.001,1)))\n",
    "        \n",
    "        variance = .01**2 * opt.x[0] / (1 - opt.x[1] - opt.x[2])   # Times .01**2 because it concerns squared returns\n",
    "        \n",
    "        return np.append(opt.x, variance)"
   ]
  },
  {
   "cell_type": "code",
   "execution_count": 88,
   "metadata": {},
   "outputs": [],
   "source": [
    "def run_garch(data,cryptoType, conf_interval, dist_type):\n",
    "    print(\"=\"*40)\n",
    "    print(\"=\"*40)\n",
    "    print (\"Running Garch 1,1 model for %s\" %cryptoType)\n",
    "    model = garchOneOne(data)\n",
    "    # upscale by 100 for better model performance, as garch model works better when y between 1 - 1000\n",
    "    arch_m = arch_model(data * 100, mean = 'Zero', vol = 'GARCH', dist = dist_type, rescale=False)\n",
    "    arch_m = arch_m.fit()\n",
    "#     conf_int = pd.DataFrame(arch_m.conf_int(alpha = conf_interval))\n",
    "#     conf_int['garchOneOne'] = model.coefficients[:-1]\n",
    "#     conf_int['Test'] = np.where(conf_int['garchOneOne'] < conf_int['upper'], np.where(conf_int['garchOneOne'] > conf_int['lower'], \"Ok\", \"Not ok\"), \"Not ok\") \n",
    "#     print(\"conf_int for %s\" %cryptoType)\n",
    "#     print(conf_int)\n",
    "    \n",
    "#     %matplotlib inline\n",
    "#     print(df.head())\n",
    "#     # Plotting the data\n",
    "#     plt.plot(df, label = ' GARCH(1,1)', linewidth = .75)\n",
    "#     plt.legend()\n",
    "#     plt.title('GARCH(1,1) processes of %s' %cryptoType, fontweight = 'bold')\n",
    "#     return model.sigma_2\n",
    "    return np.sqrt(model.sigma_2) / 100"
   ]
  },
  {
   "cell_type": "code",
   "execution_count": null,
   "metadata": {},
   "outputs": [],
   "source": [
    "from scipy.stats import norm"
   ]
  },
  {
   "cell_type": "code",
   "execution_count": 89,
   "metadata": {
    "scrolled": true
   },
   "outputs": [
    {
     "name": "stdout",
     "output_type": "stream",
     "text": [
      "========================================\n",
      "========================================\n",
      "Running Garch 1,1 model for BTC\n",
      "Iteration:      1,   Func. Count:      5,   Neg. LLF: 4025613.013566537\n",
      "Iteration:      2,   Func. Count:     11,   Neg. LLF: 4384.9916204200945\n",
      "Iteration:      3,   Func. Count:     17,   Neg. LLF: 4377.081683321308\n",
      "Iteration:      4,   Func. Count:     22,   Neg. LLF: 4342.7006551754475\n",
      "Iteration:      5,   Func. Count:     27,   Neg. LLF: 4607.285736210748\n",
      "Iteration:      6,   Func. Count:     32,   Neg. LLF: 4334.61479813538\n",
      "Iteration:      7,   Func. Count:     36,   Neg. LLF: 4334.57578408737\n",
      "Iteration:      8,   Func. Count:     40,   Neg. LLF: 4334.573435790055\n",
      "Iteration:      9,   Func. Count:     44,   Neg. LLF: 4334.573379604806\n",
      "Iteration:     10,   Func. Count:     48,   Neg. LLF: 4334.573375595739\n",
      "Iteration:     11,   Func. Count:     51,   Neg. LLF: 4334.573375596127\n",
      "Optimization terminated successfully    (Exit mode 0)\n",
      "            Current function value: 4334.573375595739\n",
      "            Iterations: 11\n",
      "            Function evaluations: 51\n",
      "            Gradient evaluations: 11\n",
      "========================================\n",
      "========================================\n",
      "Running Garch 1,1 model for ETH\n",
      "Iteration:      1,   Func. Count:      5,   Neg. LLF: 1596599.3489760605\n",
      "Iteration:      2,   Func. Count:     11,   Neg. LLF: 4860.631536469239\n",
      "Iteration:      3,   Func. Count:     18,   Neg. LLF: 4786.68300355602\n",
      "Iteration:      4,   Func. Count:     24,   Neg. LLF: 4766.768284720013\n",
      "Iteration:      5,   Func. Count:     28,   Neg. LLF: 4766.767714833195\n",
      "Iteration:      6,   Func. Count:     32,   Neg. LLF: 4766.767712999381\n",
      "Iteration:      7,   Func. Count:     35,   Neg. LLF: 4766.767712998981\n",
      "Optimization terminated successfully    (Exit mode 0)\n",
      "            Current function value: 4766.767712999381\n",
      "            Iterations: 7\n",
      "            Function evaluations: 35\n",
      "            Gradient evaluations: 7\n",
      "========================================\n",
      "========================================\n",
      "Running Garch 1,1 model for XRP\n",
      "Iteration:      1,   Func. Count:      5,   Neg. LLF: 9388.658935954303\n",
      "Iteration:      2,   Func. Count:     12,   Neg. LLF: 5336.355677044012\n",
      "Iteration:      3,   Func. Count:     17,   Neg. LLF: 4861.09835071897\n",
      "Iteration:      4,   Func. Count:     21,   Neg. LLF: 4861.052395347668\n",
      "Iteration:      5,   Func. Count:     25,   Neg. LLF: 4861.042493097018\n",
      "Iteration:      6,   Func. Count:     29,   Neg. LLF: 4861.042280523403\n",
      "Iteration:      7,   Func. Count:     32,   Neg. LLF: 4861.042279562933\n",
      "Optimization terminated successfully    (Exit mode 0)\n",
      "            Current function value: 4861.042280523403\n",
      "            Iterations: 7\n",
      "            Function evaluations: 32\n",
      "            Gradient evaluations: 7\n"
     ]
    },
    {
     "name": "stderr",
     "output_type": "stream",
     "text": [
      "C:\\Users\\USER\\Anaconda3\\lib\\site-packages\\ipykernel_launcher.py:40: RuntimeWarning: invalid value encountered in log\n",
      "C:\\Users\\USER\\Anaconda3\\lib\\site-packages\\ipykernel_launcher.py:40: RuntimeWarning: invalid value encountered in log\n",
      "C:\\Users\\USER\\Anaconda3\\lib\\site-packages\\ipykernel_launcher.py:40: RuntimeWarning: invalid value encountered in log\n"
     ]
    }
   ],
   "source": [
    "btc_sigma = run_garch(return_dataset.btc.to_numpy(), \"BTC\", 0.05,'normal')\n",
    "eth_sigma = run_garch(return_dataset.eth.to_numpy(), \"ETH\", 0.05,'normal')\n",
    "xrp_sigma = run_garch(return_dataset.xrp.to_numpy(), \"XRP\", 0.05,'normal')"
   ]
  },
  {
   "cell_type": "code",
   "execution_count": 94,
   "metadata": {},
   "outputs": [],
   "source": [
    "var_btc = np.abs(-norm.ppf(0.05)*btc_sigma[363:]) \n",
    "var_eth = np.abs(-norm.ppf(0.05)*eth_sigma[363:])\n",
    "var_xrp = np.abs(-norm.ppf(0.05)*xrp_sigma[363:])\n",
    "gamma_vol_95 = pd.DataFrame({'btc': return_data_2018.btc, 'var_95_btc': var_btc,\n",
    "              'eth': return_data_2018.eth, 'var_95_eth': var_eth,\n",
    "              'xrp': return_data_2018.xrp, 'var_95_xrp': var_xrp})\n",
    "gamma_vol_95.to_csv('gammas_normal.csv', index=False)  "
   ]
  },
  {
   "cell_type": "code",
   "execution_count": 140,
   "metadata": {
    "scrolled": true
   },
   "outputs": [
    {
     "name": "stdout",
     "output_type": "stream",
     "text": [
      "========================================\n",
      "========================================\n",
      "Running Garch 1,1 model for BTC\n",
      "Iteration:      1,   Func. Count:      5,   Neg. LLF: -2320.6050656523958\n",
      "Optimization terminated successfully    (Exit mode 0)\n",
      "            Current function value: -2320.605065866496\n",
      "            Iterations: 5\n",
      "            Function evaluations: 5\n",
      "            Gradient evaluations: 1\n",
      "========================================\n",
      "========================================\n",
      "Running Garch 1,1 model for ETH\n"
     ]
    },
    {
     "name": "stderr",
     "output_type": "stream",
     "text": [
      "C:\\Users\\USER\\Anaconda3\\lib\\site-packages\\ipykernel_launcher.py:40: RuntimeWarning: invalid value encountered in log\n",
      "C:\\Users\\USER\\AppData\\Roaming\\Python\\Python37\\site-packages\\arch\\univariate\\base.py:317: DataScaleWarning: y is poorly scaled, which may affect convergence of the optimizer when\n",
      "estimating the model parameters. The scale of y is 0.001636. Parameter\n",
      "estimation work better when this value is between 1 and 1000. The recommended\n",
      "rescaling is 10 * y.\n",
      "\n",
      "This warning can be disabled by either rescaling y before initializing the\n",
      "model or by setting rescale=False.\n",
      "\n",
      "  data_scale_warning.format(orig_scale, rescale), DataScaleWarning\n",
      "C:\\Users\\USER\\AppData\\Roaming\\Python\\Python37\\site-packages\\arch\\univariate\\base.py:317: DataScaleWarning: y is poorly scaled, which may affect convergence of the optimizer when\n",
      "estimating the model parameters. The scale of y is 0.002667. Parameter\n",
      "estimation work better when this value is between 1 and 1000. The recommended\n",
      "rescaling is 10 * y.\n",
      "\n",
      "This warning can be disabled by either rescaling y before initializing the\n",
      "model or by setting rescale=False.\n",
      "\n",
      "  data_scale_warning.format(orig_scale, rescale), DataScaleWarning\n"
     ]
    },
    {
     "name": "stdout",
     "output_type": "stream",
     "text": [
      "Iteration:      1,   Func. Count:      5,   Neg. LLF: -1977.2479809660442\n",
      "Optimization terminated successfully    (Exit mode 0)\n",
      "            Current function value: -1977.2479810976913\n",
      "            Iterations: 5\n",
      "            Function evaluations: 5\n",
      "            Gradient evaluations: 1\n",
      "========================================\n",
      "========================================\n",
      "Running Garch 1,1 model for XRP\n",
      "Iteration:      1,   Func. Count:      6,   Neg. LLF: 14202.38763689252\n",
      "Iteration:      2,   Func. Count:     12,   Neg. LLF: -1578.0979833801707\n",
      "Iteration:      3,   Func. Count:     20,   Neg. LLF: -921.1561372126803\n",
      "Iteration:      4,   Func. Count:     26,   Neg. LLF: -1071.7996623242047\n",
      "Iteration:      5,   Func. Count:     32,   Neg. LLF: 673.3230982086244\n",
      "Iteration:      6,   Func. Count:     41,   Neg. LLF: -1910.6770849384413\n",
      "Iteration:      7,   Func. Count:     47,   Neg. LLF: -1304.9013812637888\n",
      "Iteration:      8,   Func. Count:     53,   Neg. LLF: -2028.0516842832913\n",
      "Iteration:      9,   Func. Count:     58,   Neg. LLF: -2029.7873672056598\n",
      "Iteration:     10,   Func. Count:     64,   Neg. LLF: -1863.564591039597\n",
      "Iteration:     11,   Func. Count:     71,   Neg. LLF: -2031.5090627131985\n",
      "Iteration:     12,   Func. Count:     77,   Neg. LLF: -1990.562591829181\n",
      "Iteration:     13,   Func. Count:     84,   Neg. LLF: -2034.379211448549\n",
      "Iteration:     14,   Func. Count:     89,   Neg. LLF: -2034.534477450265\n",
      "Iteration:     15,   Func. Count:     94,   Neg. LLF: -2034.5589847169897\n",
      "Iteration:     16,   Func. Count:     99,   Neg. LLF: -2034.562863689166\n",
      "Iteration:     17,   Func. Count:    104,   Neg. LLF: -2034.5639802471044\n",
      "Iteration:     18,   Func. Count:    109,   Neg. LLF: -2034.564050699344\n",
      "Iteration:     19,   Func. Count:    114,   Neg. LLF: -2034.564053727439\n",
      "Iteration:     20,   Func. Count:    118,   Neg. LLF: -2034.5640537274571\n",
      "Optimization terminated successfully    (Exit mode 0)\n",
      "            Current function value: -2034.564053727439\n",
      "            Iterations: 22\n",
      "            Function evaluations: 118\n",
      "            Gradient evaluations: 20\n"
     ]
    },
    {
     "name": "stderr",
     "output_type": "stream",
     "text": [
      "C:\\Users\\USER\\AppData\\Roaming\\Python\\Python37\\site-packages\\arch\\univariate\\base.py:317: DataScaleWarning: y is poorly scaled, which may affect convergence of the optimizer when\n",
      "estimating the model parameters. The scale of y is 0.003562. Parameter\n",
      "estimation work better when this value is between 1 and 1000. The recommended\n",
      "rescaling is 10 * y.\n",
      "\n",
      "This warning can be disabled by either rescaling y before initializing the\n",
      "model or by setting rescale=False.\n",
      "\n",
      "  data_scale_warning.format(orig_scale, rescale), DataScaleWarning\n"
     ]
    }
   ],
   "source": [
    "btc_sigma = run_garch(return_data_2018.btc.to_numpy(), \"BTC\", 0.05,'studentst')\n",
    "eth_sigma = run_garch(return_data_2018.eth.to_numpy(), \"ETH\", 0.05,'studentst')\n",
    "xrp_sigma = run_garch(return_data_2018.xrp.to_numpy(), \"XRP\", 0.05,'studentst')\n",
    "var_btc = np.abs(-norm.ppf(0.05)*btc_sigma)\n",
    "var_eth = np.abs(-norm.ppf(0.05)*eth_sigma)\n",
    "var_xrp = np.abs(-norm.ppf(0.05)*xrp_sigma)\n",
    "gamma_vol_95 = pd.DataFrame({'btc': return_data_2018.btc, 'var_95_btc': var_btc,\n",
    "              'eth': return_data_2018.eth, 'var_95_eth': var_eth,\n",
    "              'xrp': return_data_2018.xrp, 'var_95_xrp': var_xrp})\n",
    "gamma_vol_95.to_excel('gammas_studentt.xlsx', index=False)  "
   ]
  },
  {
   "cell_type": "code",
   "execution_count": 141,
   "metadata": {},
   "outputs": [
    {
     "name": "stdout",
     "output_type": "stream",
     "text": [
      "========================================\n",
      "========================================\n",
      "Running Garch 1,1 model for BTC\n",
      "Iteration:      1,   Func. Count:      6,   Neg. LLF: -2320.6050651179103\n",
      "Optimization terminated successfully    (Exit mode 0)\n",
      "            Current function value: -2320.605065866496\n",
      "            Iterations: 5\n",
      "            Function evaluations: 6\n",
      "            Gradient evaluations: 1\n",
      "========================================\n",
      "========================================\n",
      "Running Garch 1,1 model for ETH\n"
     ]
    },
    {
     "name": "stderr",
     "output_type": "stream",
     "text": [
      "C:\\Users\\USER\\Anaconda3\\lib\\site-packages\\ipykernel_launcher.py:40: RuntimeWarning: invalid value encountered in log\n",
      "C:\\Users\\USER\\AppData\\Roaming\\Python\\Python37\\site-packages\\arch\\univariate\\base.py:317: DataScaleWarning: y is poorly scaled, which may affect convergence of the optimizer when\n",
      "estimating the model parameters. The scale of y is 0.001636. Parameter\n",
      "estimation work better when this value is between 1 and 1000. The recommended\n",
      "rescaling is 10 * y.\n",
      "\n",
      "This warning can be disabled by either rescaling y before initializing the\n",
      "model or by setting rescale=False.\n",
      "\n",
      "  data_scale_warning.format(orig_scale, rescale), DataScaleWarning\n",
      "C:\\Users\\USER\\AppData\\Roaming\\Python\\Python37\\site-packages\\arch\\univariate\\base.py:317: DataScaleWarning: y is poorly scaled, which may affect convergence of the optimizer when\n",
      "estimating the model parameters. The scale of y is 0.002667. Parameter\n",
      "estimation work better when this value is between 1 and 1000. The recommended\n",
      "rescaling is 10 * y.\n",
      "\n",
      "This warning can be disabled by either rescaling y before initializing the\n",
      "model or by setting rescale=False.\n",
      "\n",
      "  data_scale_warning.format(orig_scale, rescale), DataScaleWarning\n"
     ]
    },
    {
     "name": "stdout",
     "output_type": "stream",
     "text": [
      "Iteration:      1,   Func. Count:      6,   Neg. LLF: -1977.2479806076685\n",
      "Optimization terminated successfully    (Exit mode 0)\n",
      "            Current function value: -1977.2479810976913\n",
      "            Iterations: 5\n",
      "            Function evaluations: 6\n",
      "            Gradient evaluations: 1\n",
      "========================================\n",
      "========================================\n",
      "Running Garch 1,1 model for XRP\n",
      "Iteration:      1,   Func. Count:      7,   Neg. LLF: 40367.61186267997\n",
      "Iteration:      2,   Func. Count:     14,   Neg. LLF: 5198.870475077545\n",
      "Iteration:      3,   Func. Count:     25,   Neg. LLF: -1346.3312481354465\n",
      "Iteration:      4,   Func. Count:     33,   Neg. LLF: 1733.4603608714128\n",
      "Iteration:      5,   Func. Count:     40,   Neg. LLF: -1716.9568867619496\n",
      "Iteration:      6,   Func. Count:     47,   Neg. LLF: -990.6410231829343\n",
      "Iteration:      7,   Func. Count:     54,   Neg. LLF: -1396.6179127003707\n",
      "Iteration:      8,   Func. Count:     61,   Neg. LLF: -1317.409726265208\n",
      "Iteration:      9,   Func. Count:     68,   Neg. LLF: -1928.3368871605696\n",
      "Iteration:     10,   Func. Count:     75,   Neg. LLF: -1379.2538925022848\n",
      "Iteration:     11,   Func. Count:     82,   Neg. LLF: -2030.8794940098746\n",
      "Iteration:     12,   Func. Count:     89,   Neg. LLF: -1350.9330066475159\n",
      "Iteration:     13,   Func. Count:     96,   Neg. LLF: -2032.3234516681607\n",
      "Iteration:     14,   Func. Count:    103,   Neg. LLF: -2035.0101742054064\n",
      "Iteration:     15,   Func. Count:    109,   Neg. LLF: -2035.0342981222916\n",
      "Iteration:     16,   Func. Count:    115,   Neg. LLF: -2035.035057490937\n",
      "Iteration:     17,   Func. Count:    121,   Neg. LLF: -2035.0349190145662\n",
      "Iteration:     18,   Func. Count:    128,   Neg. LLF: -2035.0355610373945\n",
      "Iteration:     19,   Func. Count:    135,   Neg. LLF: -2035.035683700773\n",
      "Iteration:     20,   Func. Count:    141,   Neg. LLF: -1980.2313800577374\n",
      "Optimization terminated successfully    (Exit mode 0)\n",
      "            Current function value: -2035.0356837035063\n",
      "            Iterations: 21\n",
      "            Function evaluations: 148\n",
      "            Gradient evaluations: 20\n"
     ]
    },
    {
     "name": "stderr",
     "output_type": "stream",
     "text": [
      "C:\\Users\\USER\\AppData\\Roaming\\Python\\Python37\\site-packages\\arch\\univariate\\base.py:317: DataScaleWarning: y is poorly scaled, which may affect convergence of the optimizer when\n",
      "estimating the model parameters. The scale of y is 0.003562. Parameter\n",
      "estimation work better when this value is between 1 and 1000. The recommended\n",
      "rescaling is 10 * y.\n",
      "\n",
      "This warning can be disabled by either rescaling y before initializing the\n",
      "model or by setting rescale=False.\n",
      "\n",
      "  data_scale_warning.format(orig_scale, rescale), DataScaleWarning\n"
     ]
    }
   ],
   "source": [
    "btc_sigma = run_garch(return_data_2018.btc.to_numpy(), \"BTC\", 0.05,'skewt')\n",
    "eth_sigma = run_garch(return_data_2018.eth.to_numpy(), \"ETH\", 0.05,'skewt')\n",
    "xrp_sigma = run_garch(return_data_2018.xrp.to_numpy(), \"XRP\", 0.05,'skewt')\n",
    "var_btc = np.abs(-norm.ppf(0.05)*btc_sigma)\n",
    "var_eth = np.abs(-norm.ppf(0.05)*eth_sigma)\n",
    "var_xrp = np.abs(-norm.ppf(0.05)*xrp_sigma)\n",
    "gamma_vol_95 = pd.DataFrame({'btc': return_data_2018.btc, 'var_95_btc': var_btc,\n",
    "              'eth': return_data_2018.eth, 'var_95_eth': var_eth,\n",
    "              'xrp': return_data_2018.xrp, 'var_95_xrp': var_xrp})\n",
    "gamma_vol_95.to_excel('gammas_skewt.xlsx', index=False)  "
   ]
  },
  {
   "cell_type": "code",
   "execution_count": 142,
   "metadata": {
    "scrolled": true
   },
   "outputs": [
    {
     "name": "stdout",
     "output_type": "stream",
     "text": [
      "========================================\n",
      "========================================\n",
      "Running Garch 1,1 model for BTC\n",
      "Iteration:      1,   Func. Count:      5,   Neg. LLF: -2267.711835497006\n",
      "Optimization terminated successfully    (Exit mode 0)\n",
      "            Current function value: -2267.7118381040423\n",
      "            Iterations: 5\n",
      "            Function evaluations: 5\n",
      "            Gradient evaluations: 1\n",
      "========================================\n",
      "========================================\n",
      "Running Garch 1,1 model for ETH\n"
     ]
    },
    {
     "name": "stderr",
     "output_type": "stream",
     "text": [
      "C:\\Users\\USER\\Anaconda3\\lib\\site-packages\\ipykernel_launcher.py:40: RuntimeWarning: invalid value encountered in log\n",
      "C:\\Users\\USER\\AppData\\Roaming\\Python\\Python37\\site-packages\\arch\\univariate\\base.py:317: DataScaleWarning: y is poorly scaled, which may affect convergence of the optimizer when\n",
      "estimating the model parameters. The scale of y is 0.001636. Parameter\n",
      "estimation work better when this value is between 1 and 1000. The recommended\n",
      "rescaling is 10 * y.\n",
      "\n",
      "This warning can be disabled by either rescaling y before initializing the\n",
      "model or by setting rescale=False.\n",
      "\n",
      "  data_scale_warning.format(orig_scale, rescale), DataScaleWarning\n",
      "C:\\Users\\USER\\AppData\\Roaming\\Python\\Python37\\site-packages\\arch\\univariate\\base.py:317: DataScaleWarning: y is poorly scaled, which may affect convergence of the optimizer when\n",
      "estimating the model parameters. The scale of y is 0.002667. Parameter\n",
      "estimation work better when this value is between 1 and 1000. The recommended\n",
      "rescaling is 10 * y.\n",
      "\n",
      "This warning can be disabled by either rescaling y before initializing the\n",
      "model or by setting rescale=False.\n",
      "\n",
      "  data_scale_warning.format(orig_scale, rescale), DataScaleWarning\n"
     ]
    },
    {
     "name": "stdout",
     "output_type": "stream",
     "text": [
      "Iteration:      1,   Func. Count:      5,   Neg. LLF: -1941.0786464264697\n",
      "Optimization terminated successfully    (Exit mode 0)\n",
      "            Current function value: -1941.078648393754\n",
      "            Iterations: 5\n",
      "            Function evaluations: 5\n",
      "            Gradient evaluations: 1\n",
      "========================================\n",
      "========================================\n",
      "Running Garch 1,1 model for XRP\n",
      "Iteration:      1,   Func. Count:      6,   Neg. LLF: 1250388.3993422482\n",
      "Iteration:      2,   Func. Count:     12,   Neg. LLF: -1514.4443820773272\n",
      "Iteration:      3,   Func. Count:     18,   Neg. LLF: -1726.2637400919775\n",
      "Iteration:      4,   Func. Count:     24,   Neg. LLF: 2055.808650241822\n",
      "Iteration:      5,   Func. Count:     33,   Neg. LLF: -1928.031192561968\n",
      "Iteration:      6,   Func. Count:     39,   Neg. LLF: -1993.5466140111596\n",
      "Iteration:      7,   Func. Count:     44,   Neg. LLF: -1850.933292015438\n",
      "Iteration:      8,   Func. Count:     51,   Neg. LLF: -1995.0361170716074\n",
      "Iteration:      9,   Func. Count:     58,   Neg. LLF: -1994.1543445637851\n",
      "Iteration:     10,   Func. Count:     64,   Neg. LLF: -2014.4364599051019\n",
      "Iteration:     11,   Func. Count:     70,   Neg. LLF: -1930.0771290206806\n",
      "Iteration:     12,   Func. Count:     76,   Neg. LLF: -2016.6135067273\n",
      "Iteration:     13,   Func. Count:     81,   Neg. LLF: -2016.8131097130536\n",
      "Iteration:     14,   Func. Count:     86,   Neg. LLF: -2016.8625458500073\n",
      "Iteration:     15,   Func. Count:     91,   Neg. LLF: -2016.867985520009\n",
      "Iteration:     16,   Func. Count:     96,   Neg. LLF: -2016.8682285921445\n",
      "Iteration:     17,   Func. Count:    101,   Neg. LLF: -2016.868231912582\n",
      "Iteration:     18,   Func. Count:    106,   Neg. LLF: -1954.839560229971\n",
      "Optimization terminated successfully    (Exit mode 0)\n",
      "            Current function value: -2016.8682319124628\n",
      "            Iterations: 21\n",
      "            Function evaluations: 116\n",
      "            Gradient evaluations: 18\n"
     ]
    },
    {
     "name": "stderr",
     "output_type": "stream",
     "text": [
      "C:\\Users\\USER\\AppData\\Roaming\\Python\\Python37\\site-packages\\arch\\univariate\\base.py:317: DataScaleWarning: y is poorly scaled, which may affect convergence of the optimizer when\n",
      "estimating the model parameters. The scale of y is 0.003562. Parameter\n",
      "estimation work better when this value is between 1 and 1000. The recommended\n",
      "rescaling is 10 * y.\n",
      "\n",
      "This warning can be disabled by either rescaling y before initializing the\n",
      "model or by setting rescale=False.\n",
      "\n",
      "  data_scale_warning.format(orig_scale, rescale), DataScaleWarning\n"
     ]
    }
   ],
   "source": [
    "btc_sigma = run_garch(return_data_2018.btc.to_numpy(), \"BTC\", 0.05,'ged')\n",
    "eth_sigma = run_garch(return_data_2018.eth.to_numpy(), \"ETH\", 0.05,'ged')\n",
    "xrp_sigma = run_garch(return_data_2018.xrp.to_numpy(), \"XRP\", 0.05,'ged')\n",
    "var_btc = np.abs(return_data_2018.btc.to_numpy()-norm.ppf(0.05)*btc_sigma)\n",
    "var_eth = np.abs(return_data_2018.eth.to_numpy()-norm.ppf(0.05)*eth_sigma)\n",
    "var_xrp = np.abs(return_data_2018.xrp.to_numpy()-norm.ppf(0.05)*xrp_sigma)\n",
    "gamma_vol_95 = pd.DataFrame({'btc': return_data_2018.btc, 'var_95_btc': var_btc,\n",
    "              'eth': return_data_2018.eth, 'var_95_eth': var_eth,\n",
    "              'xrp': return_data_2018.xrp, 'var_95_xrp': var_xrp})\n",
    "gamma_vol_95.to_excel('gammas_ged.xlsx', index=False)  "
   ]
  },
  {
   "cell_type": "markdown",
   "metadata": {},
   "source": [
    "# Monte Carlo"
   ]
  },
  {
   "cell_type": "code",
   "execution_count": null,
   "metadata": {},
   "outputs": [],
   "source": []
  },
  {
   "cell_type": "code",
   "execution_count": 99,
   "metadata": {},
   "outputs": [],
   "source": [
    "ewma_data = pd.read_csv('ewma.csv', header=None)\n",
    "monte_carlo_data = pd.read_csv('monte_carlo.csv', header=None)"
   ]
  },
  {
   "cell_type": "code",
   "execution_count": 100,
   "metadata": {
    "scrolled": true
   },
   "outputs": [
    {
     "data": {
      "text/html": [
       "<div>\n",
       "<style scoped>\n",
       "    .dataframe tbody tr th:only-of-type {\n",
       "        vertical-align: middle;\n",
       "    }\n",
       "\n",
       "    .dataframe tbody tr th {\n",
       "        vertical-align: top;\n",
       "    }\n",
       "\n",
       "    .dataframe thead th {\n",
       "        text-align: right;\n",
       "    }\n",
       "</style>\n",
       "<table border=\"1\" class=\"dataframe\">\n",
       "  <thead>\n",
       "    <tr style=\"text-align: right;\">\n",
       "      <th></th>\n",
       "      <th>0</th>\n",
       "      <th>1</th>\n",
       "      <th>2</th>\n",
       "      <th>3</th>\n",
       "      <th>4</th>\n",
       "      <th>5</th>\n",
       "    </tr>\n",
       "  </thead>\n",
       "  <tbody>\n",
       "    <tr>\n",
       "      <th>0</th>\n",
       "      <td>0.092589</td>\n",
       "      <td>0.21671</td>\n",
       "      <td>0.135140</td>\n",
       "      <td>0.24658</td>\n",
       "      <td>0.036897</td>\n",
       "      <td>0.32253</td>\n",
       "    </tr>\n",
       "    <tr>\n",
       "      <th>1</th>\n",
       "      <td>0.014505</td>\n",
       "      <td>0.14050</td>\n",
       "      <td>0.084803</td>\n",
       "      <td>0.20579</td>\n",
       "      <td>0.224510</td>\n",
       "      <td>0.50184</td>\n",
       "    </tr>\n",
       "    <tr>\n",
       "      <th>2</th>\n",
       "      <td>0.025858</td>\n",
       "      <td>0.14815</td>\n",
       "      <td>0.018730</td>\n",
       "      <td>0.14091</td>\n",
       "      <td>0.028964</td>\n",
       "      <td>0.31266</td>\n",
       "    </tr>\n",
       "    <tr>\n",
       "      <th>3</th>\n",
       "      <td>0.110940</td>\n",
       "      <td>0.22997</td>\n",
       "      <td>0.016980</td>\n",
       "      <td>0.13568</td>\n",
       "      <td>-0.047379</td>\n",
       "      <td>0.22792</td>\n",
       "    </tr>\n",
       "    <tr>\n",
       "      <th>4</th>\n",
       "      <td>0.005578</td>\n",
       "      <td>0.12933</td>\n",
       "      <td>0.043117</td>\n",
       "      <td>0.15840</td>\n",
       "      <td>0.014737</td>\n",
       "      <td>0.28233</td>\n",
       "    </tr>\n",
       "  </tbody>\n",
       "</table>\n",
       "</div>"
      ],
      "text/plain": [
       "          0        1         2        3         4        5\n",
       "0  0.092589  0.21671  0.135140  0.24658  0.036897  0.32253\n",
       "1  0.014505  0.14050  0.084803  0.20579  0.224510  0.50184\n",
       "2  0.025858  0.14815  0.018730  0.14091  0.028964  0.31266\n",
       "3  0.110940  0.22997  0.016980  0.13568 -0.047379  0.22792\n",
       "4  0.005578  0.12933  0.043117  0.15840  0.014737  0.28233"
      ]
     },
     "execution_count": 100,
     "metadata": {},
     "output_type": "execute_result"
    }
   ],
   "source": [
    "ewma_data.head()"
   ]
  },
  {
   "cell_type": "code",
   "execution_count": 101,
   "metadata": {},
   "outputs": [
    {
     "data": {
      "text/plain": [
       "1176"
      ]
     },
     "execution_count": 101,
     "metadata": {},
     "output_type": "execute_result"
    }
   ],
   "source": [
    "len(return_data_2018.Date.to_numpy())"
   ]
  },
  {
   "cell_type": "code",
   "execution_count": 102,
   "metadata": {},
   "outputs": [
    {
     "data": {
      "text/plain": [
       "1176"
      ]
     },
     "execution_count": 102,
     "metadata": {},
     "output_type": "execute_result"
    }
   ],
   "source": [
    "len(ewma_data[1])"
   ]
  },
  {
   "cell_type": "code",
   "execution_count": 105,
   "metadata": {},
   "outputs": [
    {
     "data": {
      "text/html": [
       "<div>\n",
       "<style scoped>\n",
       "    .dataframe tbody tr th:only-of-type {\n",
       "        vertical-align: middle;\n",
       "    }\n",
       "\n",
       "    .dataframe tbody tr th {\n",
       "        vertical-align: top;\n",
       "    }\n",
       "\n",
       "    .dataframe thead th {\n",
       "        text-align: right;\n",
       "    }\n",
       "</style>\n",
       "<table border=\"1\" class=\"dataframe\">\n",
       "  <thead>\n",
       "    <tr style=\"text-align: right;\">\n",
       "      <th></th>\n",
       "      <th>btc</th>\n",
       "      <th>var_95_btc</th>\n",
       "      <th>eth</th>\n",
       "      <th>var_95_eth</th>\n",
       "      <th>xrp</th>\n",
       "      <th>var_95_xrp</th>\n",
       "    </tr>\n",
       "  </thead>\n",
       "  <tbody>\n",
       "    <tr>\n",
       "      <th>0</th>\n",
       "      <td>0.092589</td>\n",
       "      <td>0.095197</td>\n",
       "      <td>0.135145</td>\n",
       "      <td>0.139901</td>\n",
       "      <td>0.036897</td>\n",
       "      <td>0.101614</td>\n",
       "    </tr>\n",
       "    <tr>\n",
       "      <th>1</th>\n",
       "      <td>0.014505</td>\n",
       "      <td>0.017440</td>\n",
       "      <td>0.084803</td>\n",
       "      <td>0.092767</td>\n",
       "      <td>0.224511</td>\n",
       "      <td>0.245682</td>\n",
       "    </tr>\n",
       "    <tr>\n",
       "      <th>2</th>\n",
       "      <td>0.025858</td>\n",
       "      <td>0.028513</td>\n",
       "      <td>0.018730</td>\n",
       "      <td>0.026075</td>\n",
       "      <td>0.028964</td>\n",
       "      <td>0.094273</td>\n",
       "    </tr>\n",
       "    <tr>\n",
       "      <th>3</th>\n",
       "      <td>0.110945</td>\n",
       "      <td>0.113525</td>\n",
       "      <td>0.016980</td>\n",
       "      <td>0.022571</td>\n",
       "      <td>-0.047379</td>\n",
       "      <td>0.026643</td>\n",
       "    </tr>\n",
       "    <tr>\n",
       "      <th>4</th>\n",
       "      <td>0.005578</td>\n",
       "      <td>0.008679</td>\n",
       "      <td>0.043117</td>\n",
       "      <td>0.047771</td>\n",
       "      <td>0.014737</td>\n",
       "      <td>0.024711</td>\n",
       "    </tr>\n",
       "  </tbody>\n",
       "</table>\n",
       "</div>"
      ],
      "text/plain": [
       "        btc  var_95_btc       eth  var_95_eth       xrp  var_95_xrp\n",
       "0  0.092589    0.095197  0.135145    0.139901  0.036897    0.101614\n",
       "1  0.014505    0.017440  0.084803    0.092767  0.224511    0.245682\n",
       "2  0.025858    0.028513  0.018730    0.026075  0.028964    0.094273\n",
       "3  0.110945    0.113525  0.016980    0.022571 -0.047379    0.026643\n",
       "4  0.005578    0.008679  0.043117    0.047771  0.014737    0.024711"
      ]
     },
     "execution_count": 105,
     "metadata": {},
     "output_type": "execute_result"
    }
   ],
   "source": [
    "gammas_data.head()"
   ]
  },
  {
   "cell_type": "code",
   "execution_count": 106,
   "metadata": {},
   "outputs": [
    {
     "data": {
      "text/plain": [
       "1176"
      ]
     },
     "execution_count": 106,
     "metadata": {},
     "output_type": "execute_result"
    }
   ],
   "source": [
    "len(gammas_data['var_95_btc'])"
   ]
  },
  {
   "cell_type": "code",
   "execution_count": 113,
   "metadata": {},
   "outputs": [
    {
     "data": {
      "image/png": "[encoded data removed]",
      "text/plain": [
       "<Figure size 432x288 with 1 Axes>"
      ]
     },
     "metadata": {
      "needs_background": "light"
     },
     "output_type": "display_data"
    }
   ],
   "source": [
    "import matplotlib.pyplot as plt\n",
    "plt.plot(return_data_2018.Date.to_numpy(),ewma_data[0],'y')\n",
    "plt.plot(return_data_2018.Date.to_numpy(),-ewma_data[1],'r')\n",
    "plt.show()"
   ]
  },
  {
   "cell_type": "code",
   "execution_count": 114,
   "metadata": {},
   "outputs": [
    {
     "data": {
      "image/png": "[encoded data removed]",
      "text/plain": [
       "<Figure size 432x288 with 1 Axes>"
      ]
     },
     "metadata": {
      "needs_background": "light"
     },
     "output_type": "display_data"
    }
   ],
   "source": [
    "plt.plot(return_data_2018.Date.to_numpy(),ewma_data[0],'y')\n",
    "plt.plot(return_data_2018.Date.to_numpy(),-gammas_data['var_95_btc'],'b')\n",
    "plt.show()"
   ]
  },
  {
   "cell_type": "code",
   "execution_count": 115,
   "metadata": {},
   "outputs": [
    {
     "data": {
      "image/png": "[encoded data removed]",
      "text/plain": [
       "<Figure size 432x288 with 1 Axes>"
      ]
     },
     "metadata": {
      "needs_background": "light"
     },
     "output_type": "display_data"
    }
   ],
   "source": [
    "plt.plot(return_data_2018.Date.to_numpy(),ewma_data[0],'y')\n",
    "plt.plot(return_data_2018.Date.to_numpy(),-monte_carlo_data[1],'g')\n",
    "plt.show()"
   ]
  },
  {
   "cell_type": "code",
   "execution_count": null,
   "metadata": {},
   "outputs": [],
   "source": []
  },
  {
   "cell_type": "code",
   "execution_count": null,
   "metadata": {},
   "outputs": [],
   "source": []
  }
 ],
 "metadata": {
  "kernelspec": {
   "display_name": "Python 3",
   "language": "python",
   "name": "python3"
  },
  "language_info": {
   "codemirror_mode": {
    "name": "ipython",
    "version": 3
   },
   "file_extension": ".py",
   "mimetype": "text/x-python",
   "name": "python",
   "nbconvert_exporter": "python",
   "pygments_lexer": "ipython3",
   "version": "3.7.3"
  },
  "pycharm": {
   "stem_cell": {
    "cell_type": "raw",
    "metadata": {
     "collapsed": false
    },
    "source": []
   }
  }
 },
 "nbformat": 4,
 "nbformat_minor": 1
}
